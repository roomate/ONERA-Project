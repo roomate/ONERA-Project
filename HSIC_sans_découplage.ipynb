{
  "nbformat": 4,
  "nbformat_minor": 0,
  "metadata": {
    "colab": {
      "provenance": []
    },
    "kernelspec": {
      "name": "python3",
      "display_name": "Python 3"
    },
    "language_info": {
      "name": "python"
    }
  },
  "cells": [
    {
      "cell_type": "code",
      "execution_count": null,
      "metadata": {
        "colab": {
          "base_uri": "https://localhost:8080/"
        },
        "id": "OS67oNrI-Xd4",
        "outputId": "afdde047-893e-438d-fcf4-4da8d8f1b589"
      },
      "outputs": [
        {
          "output_type": "stream",
          "name": "stdout",
          "text": [
            "Looking in indexes: https://pypi.org/simple, https://us-python.pkg.dev/colab-wheels/public/simple/\n",
            "Requirement already satisfied: openturns in /usr/local/lib/python3.8/dist-packages (1.20.post3)\n",
            "Requirement already satisfied: psutil in /usr/local/lib/python3.8/dist-packages (from openturns) (5.4.8)\n",
            "Requirement already satisfied: dill in /usr/local/lib/python3.8/dist-packages (from openturns) (0.3.6)\n"
          ]
        }
      ],
      "source": [
        "pip install openturns"
      ]
    },
    {
      "cell_type": "code",
      "source": [
        "import numpy as np\n",
        "import openturns as ot\n",
        "import openturns.viewer as otv\n",
        "from matplotlib import pylab as plt\n",
        "from openturns.usecases import ishigami_function\n",
        "ot.Log.Show(ot.Log.NONE)"
      ],
      "metadata": {
        "id": "9TfksTSI-haz"
      },
      "execution_count": null,
      "outputs": []
    },
    {
      "cell_type": "code",
      "source": [
        "def Objective_Function(X):\n",
        "    X1,X2,X3,X4,X5,X6,X7,X8,X9,X10 = X[0]\n",
        "    Y12 = X[1][0]\n",
        "    Y21 = X[2]\n",
        "    f = (Y12**0.25/100 - 5 + X3)**2 + (np.log(X1)/100 - np.sqrt(Y21))*10 - X2*X9/1000\n",
        "\n",
        "    return [f]\n",
        ""
      ],
      "metadata": {
        "id": "U9ewjvua-14b"
      },
      "execution_count": null,
      "outputs": []
    },
    {
      "cell_type": "code",
      "source": [
        "def coupling_c12(X):\n",
        "    X1,X2,X3,X4,X5,X6,X7,X8,X9,X10 = X[0]\n",
        "    Y21=X[1]\n",
        "\n",
        "    C12 = 0.036*X1**0.758*X2**0.0035*(X3/(np.cos(X4) + 1.5)**2)*X5**0.006*X6**0.04*(100*X7/(np.cos(X4 + 1.5)**2))**(-0.3)*(X8*X9)**0.49 + X1*X10 + 10*Y21**(3/2) + np.sqrt(X8)/X6 + 20\n",
        "    return [C12]"
      ],
      "metadata": {
        "id": "lYKTxl_g-6hT"
      },
      "execution_count": null,
      "outputs": []
    },
    {
      "cell_type": "code",
      "source": [
        "def coupling_c21(X):\n",
        "    X1,X3,X9 = X[0]\n",
        "    Y12=X[1][0]\n",
        "\n",
        "    C21 = 100*(X1**0.3 + X3**0.2)/X9**0.6*np.log(Y12/(Y12 + 100)) + 500 + 5*np.cos((Y12 + X1)**0.4)**2\n",
        "    return[C21]"
      ],
      "metadata": {
        "id": "8lBAxJ82-9V2"
      },
      "execution_count": null,
      "outputs": []
    },
    {
      "cell_type": "code",
      "source": [
        "def Gauss_Seidel(Z):\n",
        "    zi = Z[0]\n",
        "    zj = Z[1]\n",
        "    y_ji = Z[2]\n",
        "    delta_ref = Z[3]\n",
        "    k_max = Z[4]\n",
        "    k = 0\n",
        "    y_ij = coupling_c12([zi,y_ji])\n",
        "    y_ji_new = coupling_c21([zj,y_ij])\n",
        "    delta = abs(y_ji_new[0] - y_ji)\n",
        "    k += 1\n",
        "    while delta > delta_ref and k<k_max:\n",
        "        y_ji = y_ji_new[0]\n",
        "        y_ij = coupling_c12([zi,y_ji])\n",
        "        y_ji_new = coupling_c21([zj,y_ij])\n",
        "        delta = abs(y_ji_new[0] - y_ji)\n",
        "        k+=1\n",
        "    if k<k_max:\n",
        "        return([y_ji_new[0],y_ij,k])\n",
        "    else:\n",
        "        print(\"not converged\")\n",
        "        exit()"
      ],
      "metadata": {
        "id": "5TzVrqCH_CtN"
      },
      "execution_count": null,
      "outputs": []
    },
    {
      "cell_type": "code",
      "source": [
        "def FPI(X):\n",
        "    X1,X2,X3,X4,X5,X6,X7,X8,X9,X10 = X\n",
        "    Y21 = 0\n",
        "    Z_1 = [X1,X2,X3,X4,X5,X6,X7,X8,X9,X10]\n",
        "    Z_2 = [X1,X3,X9]\n",
        "    Y21,Y12,k = Gauss_Seidel([Z_1,Z_2,Y21, 0.01,10000])\n",
        "    f_obj = Objective_Function([Z_1,Y12,Y21])\n",
        "    return [f_obj[0]]\n",
        "\n",
        "func=ot.PythonFunction(10,1,FPI)"
      ],
      "metadata": {
        "id": "gkVkBd1D_F_T"
      },
      "execution_count": null,
      "outputs": []
    },
    {
      "cell_type": "code",
      "source": [
        "marginals = [ot.Uniform(150.0, 200.0),ot.Uniform(220.0,300.0),ot.Uniform(6.0,10.0),ot.Uniform(0.5,5.0),ot.Uniform(16.0,40.0),ot.Uniform(0.5,1.0),ot.Uniform(0.08,0.18),ot.Uniform(2.5,6.0),ot.Uniform(1700.0,2200.0),ot.Uniform(.025,0.08)]\n",
        "distribution = ot.ComposedDistribution(marginals)\n",
        "\n",
        "Samples = distribution.getSample(500) #500 échantillons de X,dim(X)=10"
      ],
      "metadata": {
        "id": "k4hfGk_-_LBW"
      },
      "execution_count": null,
      "outputs": []
    },
    {
      "cell_type": "markdown",
      "source": [
        "##No tresholding"
      ],
      "metadata": {
        "id": "3CumkY-Cu4u1"
      }
    },
    {
      "cell_type": "code",
      "source": [
        "f_obj = []\n",
        "for i in range(500):\n",
        "  f_obj.append(func(Samples[i]))\n",
        "\n",
        "f_obj = ot.Sample(np.array(f_obj).reshape(-1,1))"
      ],
      "metadata": {
        "id": "WrN2dxc8_NVX"
      },
      "execution_count": null,
      "outputs": []
    },
    {
      "cell_type": "code",
      "source": [
        "covarianceModelCollection = []\n",
        "for i in range(10):\n",
        "    Xi = Samples.getMarginal(i)\n",
        "    inputCovariance = ot.SquaredExponential(1)\n",
        "    inputCovariance.setScale(Xi.computeStandardDeviation())\n",
        "    covarianceModelCollection.append(inputCovariance)"
      ],
      "metadata": {
        "id": "eSHWK8Rf_P_H"
      },
      "execution_count": null,
      "outputs": []
    },
    {
      "cell_type": "code",
      "source": [
        "outputCovariance = ot.SquaredExponential(1)\n",
        "outputCovariance.setScale(f_obj.computeStandardDeviation())\n",
        "covarianceModelCollection.append(outputCovariance)"
      ],
      "metadata": {
        "id": "b3MHzpxF_Wj9"
      },
      "execution_count": null,
      "outputs": []
    },
    {
      "cell_type": "code",
      "source": [
        "estimatorType = ot.HSICUStat()"
      ],
      "metadata": {
        "id": "yTW_SMjjRSoY"
      },
      "execution_count": null,
      "outputs": []
    },
    {
      "cell_type": "markdown",
      "source": [
        "Calcul des HSIC pour ce modèle entre la liste des échantillons et l'output f_obj avec l'estimateur non-biaisé"
      ],
      "metadata": {
        "id": "hDsMrqC__tTI"
      }
    },
    {
      "cell_type": "code",
      "source": [
        "globHSIC = ot.HSICEstimatorGlobalSensitivity(covarianceModelCollection, Samples, f_obj, estimatorType)"
      ],
      "metadata": {
        "id": "I23Aufn5RX6u"
      },
      "execution_count": null,
      "outputs": []
    },
    {
      "cell_type": "code",
      "source": [
        "R2HSICIndices = globHSIC.getR2HSICIndices()\n",
        "print(\"\\n Global HSIC analysis\")\n",
        "print(\"R2-HSIC Indices: \", R2HSICIndices)"
      ],
      "metadata": {
        "colab": {
          "base_uri": "https://localhost:8080/"
        },
        "id": "s2RrOvgFRqFQ",
        "outputId": "d17df102-94e3-4c4e-ee15-2f7ab2e00d07"
      },
      "execution_count": null,
      "outputs": [
        {
          "output_type": "stream",
          "name": "stdout",
          "text": [
            "\n",
            " Global HSIC analysis\n",
            "R2-HSIC Indices:  [-0.00150001,0.447393,0.00238484,0.000120866,0.00140722,-0.0031683,-0.00185198,-0.00252054,0.247895,-0.000273073]#10\n"
          ]
        }
      ]
    },
    {
      "cell_type": "code",
      "source": [
        "HSICIndices = globHSIC.getHSICIndices()\n",
        "print(\"HSIC Indices: \", HSICIndices)"
      ],
      "metadata": {
        "id": "BQycYNNgF56i",
        "outputId": "a6fb5bdd-552c-4998-ec92-8c172f487193",
        "colab": {
          "base_uri": "https://localhost:8080/"
        }
      },
      "execution_count": null,
      "outputs": [
        {
          "output_type": "stream",
          "name": "stdout",
          "text": [
            "HSIC Indices:  [-0.000134921,0.0404723,0.000208029,1.077e-05,0.00012563,-0.000286966,-0.0001704,-0.000225693,0.0218997,-2.44071e-05]#10\n"
          ]
        }
      ]
    },
    {
      "cell_type": "code",
      "source": [
        "pvas = globHSIC.getPValuesAsymptotic()\n",
        "print(\"p-value (asymptotic): \", pvas)"
      ],
      "metadata": {
        "colab": {
          "base_uri": "https://localhost:8080/"
        },
        "id": "jQU06MKkRqgX",
        "outputId": "53119dcd-9452-4bf5-9fbe-0c2a8a6029f4"
      },
      "execution_count": null,
      "outputs": [
        {
          "output_type": "stream",
          "name": "stdout",
          "text": [
            "p-value (asymptotic):  [0.65075,4.94116e-77,0.175002,0.397115,0.249579,0.926783,0.717266,0.829804,3.05154e-49,0.450542]#10\n"
          ]
        }
      ]
    },
    {
      "cell_type": "code",
      "source": [
        "pvperm = globHSIC.getPValuesPermutation()\n",
        "print(\"p-value (permutation): \", pvperm)"
      ],
      "metadata": {
        "colab": {
          "base_uri": "https://localhost:8080/"
        },
        "id": "62q4pxo1-li1",
        "outputId": "d342ca7e-0402-46ec-92b7-2e1f8c30d315"
      },
      "execution_count": null,
      "outputs": [
        {
          "output_type": "stream",
          "name": "stdout",
          "text": [
            "p-value (permutation):  [0.673267,0,0.178218,0.366337,0.227723,0.950495,0.673267,0.871287,0,0.336634]#10\n"
          ]
        }
      ]
    },
    {
      "cell_type": "code",
      "source": [
        "graph2 = globHSIC.drawPValuesAsymptotic()\n",
        "view2 = otv.View(graph2)\n",
        "\n",
        "graph3 = globHSIC.drawR2HSICIndices()\n",
        "view3 = otv.View(graph3)"
      ],
      "metadata": {
        "colab": {
          "base_uri": "https://localhost:8080/",
          "height": 599
        },
        "id": "fTcjfVqjsKcP",
        "outputId": "caee02e0-989b-4032-8a88-5faf36356647"
      },
      "execution_count": null,
      "outputs": [
        {
          "output_type": "display_data",
          "data": {
            "text/plain": [
              "<Figure size 432x288 with 1 Axes>"
            ],
            "image/png": "[encoded data removed]"
          },
          "metadata": {
            "needs_background": "light"
          }
        },
        {
          "output_type": "display_data",
          "data": {
            "text/plain": [
              "<Figure size 432x288 with 1 Axes>"
            ],
            "image/png": "[encoded data removed]"
          },
          "metadata": {
            "needs_background": "light"
          }
        }
      ]
    },
    {
      "cell_type": "markdown",
      "source": [
        "**Remarque: Il faudra faire attention au seuil sur les p-value pour identifier les variables que l'on garde, ici un seuil à 0.1 (voir légérement au dessus) peu se justifier pour garder X2, X3, X4, X8 et X9 ...**"
      ],
      "metadata": {
        "id": "Trb3oq4LOYuU"
      }
    },
    {
      "cell_type": "markdown",
      "source": [
        "--------------------------------------------------------------------------------"
      ],
      "metadata": {
        "id": "k902UV78_mVE"
      }
    },
    {
      "cell_type": "markdown",
      "source": [
        "#Zero Thresholding"
      ],
      "metadata": {
        "id": "Wuqsv3jR7W24"
      }
    },
    {
      "cell_type": "markdown",
      "source": [
        "--------------------------------------------------------------------------------"
      ],
      "metadata": {
        "id": "EBuu802c_pUb"
      }
    },
    {
      "cell_type": "markdown",
      "source": [
        "On trouve le quantile q_20 pour la liste F_obj"
      ],
      "metadata": {
        "id": "SwWGZM1AX5mJ"
      }
    },
    {
      "cell_type": "code",
      "source": [
        "q = f_obj.computeQuantilePerComponent(0.20)"
      ],
      "metadata": {
        "id": "tYJ4vFKJRwP3"
      },
      "execution_count": null,
      "outputs": []
    },
    {
      "cell_type": "markdown",
      "source": [
        "**Remarque: voir la cellule suivante pour le thresholding, il faut pas relancer des calculs avec le FPI mais \"juste\" post-traiter les résultats obtenus**"
      ],
      "metadata": {
        "id": "0NzCqd4vO3lV"
      }
    },
    {
      "cell_type": "code",
      "source": [
        "## Zero-thresholding\n",
        "f_obj_arr = np.array(f_obj)\n",
        "\n",
        "f_obj_tot = np.zeros((len(f_obj_arr),1))\n",
        "for i in range(len(f_obj_tot)):\n",
        "  if f_obj_arr[i]<q:\n",
        "    f_obj_tot[i] = f_obj_arr[i]\n",
        "  else:\n",
        "    f_obj_tot[i] = 0.\n",
        "\n",
        "f_obj_thresh = ot.Sample(f_obj_tot)\n",
        "### HSIC Zero thresholding with Samples and f_obj_q"
      ],
      "metadata": {
        "id": "6aaq2XY4IV9b"
      },
      "execution_count": null,
      "outputs": []
    },
    {
      "cell_type": "markdown",
      "source": [
        "Et on calcule les HSIC (pas de filter function comme dans l'exemple)"
      ],
      "metadata": {
        "id": "owGrz22dBZ0G"
      }
    },
    {
      "cell_type": "code",
      "source": [
        "covarianceModelCollection = []\n",
        "for i in range(10):\n",
        "    Xi = Samples.getMarginal(i)\n",
        "    inputCovariance = ot.SquaredExponential(1)\n",
        "    inputCovariance.setScale(Xi.computeStandardDeviation())\n",
        "    covarianceModelCollection.append(inputCovariance)\n",
        "\n",
        "outputCovariance = ot.SquaredExponential(1)\n",
        "outputCovariance.setScale(f_obj_thresh.computeStandardDeviation())\n",
        "covarianceModelCollection.append(outputCovariance)\n",
        "\n",
        "estimatorType = ot.HSICUStat()\n",
        "globHSIC_thresh = ot.HSICEstimatorGlobalSensitivity(covarianceModelCollection, Samples, f_obj_thresh, estimatorType)\n",
        "\n",
        "R2HSICIndices = globHSIC_thresh.getR2HSICIndices()\n",
        "print(\"\\n Global HSIC analysis\")\n",
        "print(\"R2-HSIC Indices: \", R2HSICIndices)\n",
        "\n",
        "pvas = globHSIC_thresh.getPValuesAsymptotic()\n",
        "print(\"p-value (asymptotic): \", pvas)"
      ],
      "metadata": {
        "colab": {
          "base_uri": "https://localhost:8080/"
        },
        "id": "4ms_aSAbBb71",
        "outputId": "4b136b9a-a6ff-4e21-ed20-73052d99222c"
      },
      "execution_count": null,
      "outputs": [
        {
          "output_type": "stream",
          "name": "stdout",
          "text": [
            "\n",
            " Global HSIC analysis\n",
            "R2-HSIC Indices:  [0.00196202,0.283657,-0.0020062,-0.00105914,-0.00254588,0.000801845,-0.000500167,-0.00263348,0.179214,-0.00206243]#10\n",
            "p-value (asymptotic):  [0.183661,5.66554e-28,0.755538,0.539499,0.915226,0.274116,0.443973,0.948394,9.37867e-23,0.778796]#10\n"
          ]
        }
      ]
    },
    {
      "cell_type": "code",
      "source": [
        "graph2 = globHSIC_thresh.drawPValuesAsymptotic()\n",
        "view2 = otv.View(graph2)\n",
        "\n",
        "graph3 = globHSIC_thresh.drawR2HSICIndices()\n",
        "view3 = otv.View(graph3)"
      ],
      "metadata": {
        "colab": {
          "base_uri": "https://localhost:8080/",
          "height": 599
        },
        "id": "JymaaA-BslY2",
        "outputId": "d2943930-2766-472e-db38-cbe4112fb064"
      },
      "execution_count": null,
      "outputs": [
        {
          "output_type": "display_data",
          "data": {
            "text/plain": [
              "<Figure size 432x288 with 1 Axes>"
            ],
            "image/png": "[encoded data removed]"
          },
          "metadata": {
            "needs_background": "light"
          }
        },
        {
          "output_type": "display_data",
          "data": {
            "text/plain": [
              "<Figure size 432x288 with 1 Axes>"
            ],
            "image/png": "[encoded data removed]"
          },
          "metadata": {
            "needs_background": "light"
          }
        }
      ]
    },
    {
      "cell_type": "markdown",
      "source": [
        "--------------------------------------------------------------------------------"
      ],
      "metadata": {
        "id": "mRdVpZAd_Gkp"
      }
    },
    {
      "cell_type": "markdown",
      "source": [
        "#Conditional Thresholding"
      ],
      "metadata": {
        "id": "rCH49_Wp7S4M"
      }
    },
    {
      "cell_type": "markdown",
      "source": [
        "--------------------------------------------------------------------------------\n",
        "Pour le conditional thresholding, on sélectionne d'avance dans Samples"
      ],
      "metadata": {
        "id": "FNyLq7WTYbD6"
      }
    },
    {
      "cell_type": "markdown",
      "source": [
        "On ne garde que les échantillons qui sont dans D"
      ],
      "metadata": {
        "id": "GJRLoYIw90s5"
      }
    },
    {
      "cell_type": "code",
      "source": [
        "q = f_obj.computeQuantilePerComponent(0.2)"
      ],
      "metadata": {
        "id": "W7Ly-NrISCH8"
      },
      "execution_count": null,
      "outputs": []
    },
    {
      "cell_type": "code",
      "source": [
        "f_obj_arr = np.array(f_obj)\n",
        "## Conditional thresholding\n",
        "mask = f_obj_arr<q\n",
        "f_obj_q_arr = f_obj_arr[mask]\n",
        "\n",
        "Samples_arr = np.array(Samples)\n",
        "Samples_q_arr = Samples_arr[mask.squeeze(),:]\n",
        "f_obj_cond = ot.Sample(f_obj_q_arr.reshape(-1,1))\n",
        "Samples_cond = ot.Sample(Samples_q_arr)\n",
        "print(f_obj_cond.getSize(),Samples_cond.getSize())\n",
        "### HSIC with Conditional thresholding with Samples_q and f_obj_q"
      ],
      "metadata": {
        "id": "gAJA7DmNd8mG",
        "colab": {
          "base_uri": "https://localhost:8080/"
        },
        "outputId": "8d7da721-925b-436d-ed29-b709b6f5bc0d"
      },
      "execution_count": null,
      "outputs": [
        {
          "output_type": "stream",
          "name": "stdout",
          "text": [
            "100 100\n"
          ]
        }
      ]
    },
    {
      "cell_type": "markdown",
      "source": [
        "Et on recalcule les HSIC"
      ],
      "metadata": {
        "id": "4fR3bvXa-ML0"
      }
    },
    {
      "cell_type": "code",
      "source": [
        "covarianceModelCollection = []\n",
        "for i in range(10):\n",
        "    Xi = Samples_cond.getMarginal(i)\n",
        "    inputCovariance = ot.SquaredExponential(1)\n",
        "    inputCovariance.setScale(Xi.computeStandardDeviation())\n",
        "    covarianceModelCollection.append(inputCovariance)\n",
        "\n",
        "outputCovariance = ot.SquaredExponential(1)\n",
        "outputCovariance.setScale(f_obj_cond.computeStandardDeviation())\n",
        "covarianceModelCollection.append(outputCovariance)\n",
        "\n",
        "estimatorType = ot.HSICUStat()\n",
        "globHSIC_cond = ot.HSICEstimatorGlobalSensitivity(covarianceModelCollection, Samples_cond, f_obj_cond, estimatorType)\n",
        "\n",
        "R2HSICIndices = globHSIC_cond.getR2HSICIndices()      #HSIC \"normalisé\"\n",
        "print(\"\\n Global HSIC analysis\")\n",
        "print(\"R2-HSIC Indices: \", R2HSICIndices)\n",
        "\n",
        "pvas = globHSIC_cond.getPValuesAsymptotic()\n",
        "print(\"p-value (asymptotic): \", pvas)"
      ],
      "metadata": {
        "colab": {
          "base_uri": "https://localhost:8080/"
        },
        "id": "UUgLq97p-q5A",
        "outputId": "0e6545b1-31e6-4c56-8115-7e4f7792e081"
      },
      "execution_count": null,
      "outputs": [
        {
          "output_type": "stream",
          "name": "stdout",
          "text": [
            "\n",
            " Global HSIC analysis\n",
            "R2-HSIC Indices:  [0.0125282,0.178113,0.00544792,0.0309184,-0.0128672,-0.00748898,-0.0060356,-0.0103535,0.196352,0.0042824]#10\n",
            "p-value (asymptotic):  [0.162902,2.81376e-09,0.276645,0.0242146,0.871917,0.664176,0.608263,0.764183,2.23538e-09,0.304819]#10\n"
          ]
        }
      ]
    },
    {
      "cell_type": "code",
      "source": [
        "graph2 = globHSIC_cond.drawPValuesAsymptotic()\n",
        "view2 = otv.View(graph2)\n",
        "\n",
        "graph3 = globHSIC_cond.drawR2HSICIndices()\n",
        "view3 = otv.View(graph3)"
      ],
      "metadata": {
        "id": "FUZaiEYPsnO2",
        "outputId": "301b309a-1003-4cad-9fd7-78222d8e0cd6",
        "colab": {
          "base_uri": "https://localhost:8080/",
          "height": 599
        }
      },
      "execution_count": null,
      "outputs": [
        {
          "output_type": "display_data",
          "data": {
            "text/plain": [
              "<Figure size 432x288 with 1 Axes>"
            ],
            "image/png": "[encoded data removed]"
          },
          "metadata": {
            "needs_background": "light"
          }
        },
        {
          "output_type": "display_data",
          "data": {
            "text/plain": [
              "<Figure size 432x288 with 1 Axes>"
            ],
            "image/png": "[encoded data removed]"
          },
          "metadata": {
            "needs_background": "light"
          }
        }
      ]
    },
    {
      "cell_type": "markdown",
      "source": [
        "--------------------------------------------------------------------------------"
      ],
      "metadata": {
        "id": "Ou6b4GvRDYgn"
      }
    },
    {
      "cell_type": "markdown",
      "source": [
        "#Indicator Thresholding"
      ],
      "metadata": {
        "id": "rvXFSQFs7MeC"
      }
    },
    {
      "cell_type": "markdown",
      "source": [
        "--------------------------------------------------------------------------------"
      ],
      "metadata": {
        "id": "1HDcq8dHDbPA"
      }
    },
    {
      "cell_type": "code",
      "source": [
        "## Indicator-thresholding\n",
        "f_obj_arr = np.array(f_obj)\n",
        "\n",
        "f_obj_tot = np.zeros((len(f_obj_arr),1))\n",
        "for i in range(len(f_obj_tot)):\n",
        "  if f_obj_arr[i]<q:\n",
        "    f_obj_tot[i] = 1.\n",
        "  else:\n",
        "    f_obj_tot[i] = 0.\n",
        "\n",
        "f_obj_q = ot.Sample(f_obj_tot)\n",
        "### HSIC Indicator thresholding with Samples and f_obj_q"
      ],
      "metadata": {
        "id": "hVe9b9iaECn0"
      },
      "execution_count": null,
      "outputs": []
    },
    {
      "cell_type": "code",
      "source": [
        "covarianceModelCollection = []\n",
        "for i in range(10):\n",
        "    Xi = Samples.getMarginal(i)\n",
        "    inputCovariance = ot.SquaredExponential(1)\n",
        "    inputCovariance.setScale(Xi.computeStandardDeviation())\n",
        "    covarianceModelCollection.append(inputCovariance)\n",
        "\n",
        "outputCovariance = ot.SquaredExponential(1)\n",
        "outputCovariance.setScale(f_obj_cond.computeStandardDeviation())\n",
        "covarianceModelCollection.append(outputCovariance)\n",
        "\n",
        "estimatorType = ot.HSICUStat()\n",
        "globHSIC_ind = ot.HSICEstimatorGlobalSensitivity(covarianceModelCollection, Samples, f_obj_q, estimatorType)\n",
        "\n",
        "R2HSICIndices = globHSIC_ind.getR2HSICIndices()      #HSIC \"normalisé\"\n",
        "print(\"\\n Global HSIC analysis\")\n",
        "print(\"R2-HSIC Indices: \", R2HSICIndices)\n",
        "\n",
        "pvas = globHSIC_ind.getPValuesAsymptotic()\n",
        "print(\"p-value (asymptotic): \", pvas)"
      ],
      "metadata": {
        "colab": {
          "base_uri": "https://localhost:8080/"
        },
        "id": "O_EE-rRXFGCl",
        "outputId": "927a8be9-1532-4746-9ed3-d7589eadcb42"
      },
      "execution_count": null,
      "outputs": [
        {
          "output_type": "stream",
          "name": "stdout",
          "text": [
            "\n",
            " Global HSIC analysis\n",
            "R2-HSIC Indices:  [0.00196215,0.283194,-0.00201772,-0.00108373,-0.00253393,0.000805677,-0.000506746,-0.00262534,0.17861,-0.00206383]#10\n",
            "p-value (asymptotic):  [0.183351,6.32134e-28,0.759187,0.543534,0.913514,0.273259,0.444392,0.948505,1.0878e-22,0.779967]#10\n"
          ]
        }
      ]
    },
    {
      "cell_type": "code",
      "source": [
        "graph2 = globHSIC_ind.drawPValuesAsymptotic()\n",
        "view2 = otv.View(graph2)\n",
        "\n",
        "graph3 = globHSIC_ind.drawR2HSICIndices()\n",
        "view3 = otv.View(graph3)\n"
      ],
      "metadata": {
        "colab": {
          "base_uri": "https://localhost:8080/",
          "height": 599
        },
        "id": "g8IwUYVmsV0l",
        "outputId": "ff99dc78-b545-4377-f26a-289bd61dd7c6"
      },
      "execution_count": null,
      "outputs": [
        {
          "output_type": "display_data",
          "data": {
            "text/plain": [
              "<Figure size 432x288 with 1 Axes>"
            ],
            "image/png": "[encoded data removed]"
          },
          "metadata": {
            "needs_background": "light"
          }
        },
        {
          "output_type": "display_data",
          "data": {
            "text/plain": [
              "<Figure size 432x288 with 1 Axes>"
            ],
            "image/png": "[encoded data removed]"
          },
          "metadata": {
            "needs_background": "light"
          }
        }
      ]
    }
  ]
}