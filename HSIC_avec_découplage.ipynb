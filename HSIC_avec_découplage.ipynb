{
  "cells": [
    {
      "cell_type": "code",
      "execution_count": null,
      "metadata": {
        "colab": {
          "base_uri": "https://localhost:8080/"
        },
        "id": "GxZZ43pFFlI-",
        "outputId": "9f46ebd4-a572-4b35-dc1e-4961c456690a"
      },
      "outputs": [
        {
          "output_type": "stream",
          "name": "stdout",
          "text": [
            "Looking in indexes: https://pypi.org/simple, https://us-python.pkg.dev/colab-wheels/public/simple/\n",
            "Requirement already satisfied: openturns in /usr/local/lib/python3.9/dist-packages (1.20.post3)\n",
            "Requirement already satisfied: dill in /usr/local/lib/python3.9/dist-packages (from openturns) (0.3.6)\n",
            "Requirement already satisfied: psutil in /usr/local/lib/python3.9/dist-packages (from openturns) (5.4.8)\n"
          ]
        }
      ],
      "source": [
        "pip install openturns"
      ]
    },
    {
      "cell_type": "code",
      "execution_count": null,
      "metadata": {
        "id": "5jChYxlkFqW2"
      },
      "outputs": [],
      "source": [
        "import numpy as np\n",
        "import openturns as ot\n",
        "import openturns.viewer as otv\n",
        "from matplotlib import pylab as plt\n",
        "from openturns.usecases import ishigami_function\n",
        "ot.Log.Show(ot.Log.NONE)"
      ]
    },
    {
      "cell_type": "code",
      "execution_count": null,
      "metadata": {
        "id": "u51hJyC2GBqa"
      },
      "outputs": [],
      "source": [
        "def Objective_Function(X):\n",
        "    X1,X2,X3,X4,X5,X6,X7,X8,X9,X10 = X[0]\n",
        "    Y12 = X[1][0]\n",
        "    Y21 = X[2]\n",
        "\n",
        "    f = (Y12**0.25/100 - 5 + X3)**2 + (np.log(X1)/100 - np.sqrt(Y21))*10 - X2*X9/1000\n",
        "\n",
        "    return [f]\n",
        ""
      ]
    },
    {
      "cell_type": "code",
      "execution_count": null,
      "metadata": {
        "id": "fOQLAZY5GCZb"
      },
      "outputs": [],
      "source": [
        "def coupling_c12(X):\n",
        "    X1,X2,X3,X4,X5,X6,X7,X8,X9,X10 = X[0]\n",
        "    Y21=X[1]\n",
        "\n",
        "    C12 = 0.036*X1**0.758*X2**0.0035*(X3/(np.cos(X4) + 1.5)**2)*X5**0.006*X6**0.04*(100*X7/(np.cos(X4 + 1.5)**2))**(-0.3)*(X8*X9)**0.49 + X1*X10 + 10*Y21**(3/2) + np.sqrt(X8)/X6 + 20\n",
        "    return [C12]"
      ]
    },
    {
      "cell_type": "code",
      "execution_count": null,
      "metadata": {
        "id": "Pv7gug2NGGK8"
      },
      "outputs": [],
      "source": [
        "def coupling_c21(X):\n",
        "    X1,X3,X9 = X[0]\n",
        "    Y12=X[1][0]\n",
        "\n",
        "    C21 = 100*(X1**0.3 + X3**0.2)/X9**0.6*np.log(Y12/(Y12 + 100)) + 500 + 5*np.cos((Y12 + X1)**0.4)**2\n",
        "    return[C21]"
      ]
    },
    {
      "cell_type": "code",
      "execution_count": null,
      "metadata": {
        "id": "NNGQliQHGIdF"
      },
      "outputs": [],
      "source": [
        "def Gauss_Seidel(Z):\n",
        "    zi = Z[0]\n",
        "    zj = Z[1]\n",
        "    y_ji = Z[2]\n",
        "    delta_ref = Z[3]\n",
        "    k_max = Z[4]\n",
        "    k = 0\n",
        "    y_ij = coupling_c12([zi,y_ji])\n",
        "    y_ji_new = coupling_c21([zj,y_ij])\n",
        "    delta = abs(y_ji_new[0] - y_ji)\n",
        "    k += 1\n",
        "    while delta > delta_ref and k<k_max:\n",
        "        y_ji = y_ji_new[0]\n",
        "        y_ij = coupling_c12([zi,y_ji])\n",
        "        y_ji_new = coupling_c21([zj,y_ij])\n",
        "        delta = abs(y_ji_new[0] - y_ji)\n",
        "        k+=1\n",
        "    if k<k_max:\n",
        "        return([y_ji_new[0],y_ij,k])\n",
        "    else:\n",
        "        print(\"not converged\")\n",
        "        exit()"
      ]
    },
    {
      "cell_type": "code",
      "execution_count": null,
      "metadata": {
        "id": "glTDeiL3GLVE"
      },
      "outputs": [],
      "source": [
        "def FPI(X):\n",
        "    X1,X2,X3,X4,X5,X6,X7,X8,X9,X10 = X\n",
        "    Y21 = 0\n",
        "    Z_1 = [X1,X2,X3,X4,X5,X6,X7,X8,X9,X10]\n",
        "    Z_2 = [X1,X3,X9]\n",
        "    Y21,Y12,k = Gauss_Seidel([Z_1,Z_2,Y21, 0.01,10000])\n",
        "    f_obj = Objective_Function([X,Y12,Y21])\n",
        "    N = [f_obj[0],Y12[0],Y21]\n",
        "    return N\n",
        "\n",
        "func=ot.PythonFunction(10,3,FPI)"
      ]
    },
    {
      "cell_type": "code",
      "execution_count": null,
      "metadata": {
        "id": "Vq57fOscFtR7"
      },
      "outputs": [],
      "source": [
        "marginals = [ot.Uniform(150.0, 200.0), ot.Uniform(220.0,300.0), ot.Uniform(6.0,10.0), ot.Uniform(0.5,5.0), ot.Uniform(16.0,40.0),ot.Uniform(0.5,1.0),ot.Uniform(0.08,0.18),ot.Uniform(2.5,6.0),ot.Uniform(1700.0,2200.0),ot.Uniform(.025,0.08)]\n",
        "distribution = ot.ComposedDistribution(marginals)\n",
        "\n",
        "Samples = distribution.getSample(10000) #10000 échantillons de X,dim(X)=10\n",
        "Sample_Y12 = []\n",
        "Sample_Y21 = []\n",
        "for i in range(Samples.getSize()):\n",
        "  Sample_Y12.append(func(Samples[i])[1])\n",
        "  Sample_Y21.append(func(Samples[i])[2])\n",
        "\n",
        "Sample_Y12 = ot.Sample(np.array(Sample_Y12).reshape(-1,1))\n",
        "Sample_Y21 = ot.Sample(np.array(Sample_Y21).reshape(-1,1))\n"
      ]
    },
    {
      "cell_type": "markdown",
      "metadata": {
        "id": "yX0RbLyz25yr"
      },
      "source": [
        "--------------------------------------------------------------------------------"
      ]
    },
    {
      "cell_type": "markdown",
      "metadata": {
        "id": "WwaY5DuZ2-qv"
      },
      "source": [
        "#Modèle parametrique"
      ]
    },
    {
      "cell_type": "markdown",
      "metadata": {
        "id": "JPw03NCI3Dvf"
      },
      "source": [
        "-------------------------------------------------------------------------------"
      ]
    },
    {
      "cell_type": "code",
      "execution_count": null,
      "metadata": {
        "colab": {
          "base_uri": "https://localhost:8080/"
        },
        "id": "xC-dzTh6P1Pi",
        "outputId": "5ca44d1a-b861-4880-b57a-4e3e16d59018"
      },
      "outputs": [
        {
          "output_type": "execute_result",
          "data": {
            "text/plain": [
              "[class=DistributionFactory implementation=class=ArcsineFactory,class=DistributionFactory implementation=class=BetaFactory,class=DistributionFactory implementation=class=BurrFactory,class=DistributionFactory implementation=class=ChiFactory,class=DistributionFactory implementation=class=ChiSquareFactory,class=DistributionFactory implementation=class=DirichletFactory,class=DistributionFactory implementation=class=ExponentialFactory,class=DistributionFactory implementation=class=FisherSnedecorFactory,class=DistributionFactory implementation=class=FrechetFactory,class=DistributionFactory implementation=class=GammaFactory,class=DistributionFactory implementation=class=GeneralizedParetoFactory,class=DistributionFactory implementation=class=GumbelFactory,class=DistributionFactory implementation=class=HistogramFactory,class=DistributionFactory implementation=class=InverseNormalFactory,class=DistributionFactory implementation=class=LaplaceFactory,class=DistributionFactory implementation=class=LogisticFactory,class=DistributionFactory implementation=class=LogNormalFactory,class=DistributionFactory implementation=class=LogUniformFactory,class=DistributionFactory implementation=class=MeixnerDistributionFactory,class=DistributionFactory implementation=class=NormalFactory,class=DistributionFactory implementation=class=ParetoFactory,class=DistributionFactory implementation=class=RayleighFactory,class=DistributionFactory implementation=class=RiceFactory,class=DistributionFactory implementation=class=StudentFactory,class=DistributionFactory implementation=class=TrapezoidalFactory,class=DistributionFactory implementation=class=TriangularFactory,class=DistributionFactory implementation=class=TruncatedNormalFactory,class=DistributionFactory implementation=class=UniformFactory,class=DistributionFactory implementation=class=VonMisesFactory,class=DistributionFactory implementation=class=WeibullMaxFactory,class=DistributionFactory implementation=class=WeibullMinFactory]"
            ]
          },
          "metadata": {},
          "execution_count": 65
        }
      ],
      "source": [
        "# Dans OpenTURNS, tu as la possibilité de \"tester\" toutes les distributions paramétriques 1D\n",
        "## pour identifier la distribution qui \"fit\" le mieux les échantillons de Sample_Y21\n",
        "\n",
        "## Les \"factory\" associées aux distributions univariées sont dans:\n",
        "ot.DistributionFactory.GetContinuousUniVariateFactories()"
      ]
    },
    {
      "cell_type": "code",
      "execution_count": null,
      "metadata": {
        "colab": {
          "base_uri": "https://localhost:8080/"
        },
        "id": "jgwS2qijPj6t",
        "outputId": "97e6e0ef-6357-4ffa-debe-5c701db0d46e"
      },
      "outputs": [
        {
          "output_type": "execute_result",
          "data": {
            "text/plain": [
              "1"
            ]
          },
          "metadata": {},
          "execution_count": 66
        }
      ],
      "source": [
        "## Voici une manière de tester toutes les distributions univariées et de selectionner celle qui \"fit\" le mieux\n",
        "## selon un critère BIC Bayesian information criterion ou Lilliefors\n",
        "# http://openturns.github.io/openturns/latest/user_manual/_generated/openturns.FittingTest.BIC.html\n",
        "\n",
        "dimension = Sample_Y21.getDimension()\n",
        "marginalFactories = []\n",
        "for factory in ot.DistributionFactory.GetContinuousUniVariateFactories():\n",
        "    if str(factory).startswith(\"Histogram\"):\n",
        "        # ~ non-parametric\n",
        "        continue\n",
        "    marginalFactories.append(factory)\n",
        "estimated_marginals = [\n",
        "    ot.FittingTest.BestModelBIC(Sample_Y21.getMarginal(i), marginalFactories)[0]\n",
        "    for i in range(dimension)\n",
        "]\n",
        "estimated_marginals\n",
        "\n",
        "### Si tu veux comparer que certaines distributions particulières par exemple Normal, Uniform, LogNormal et Beta tu peux faire:\n",
        "dimension = Sample_Y21.getDimension()\n",
        "marginalFactories = []\n",
        "for factory in [ot.NormalFactory(),ot.UniformFactory(),ot.LogNormalFactory(),ot.BetaFactory()]:\n",
        "    if str(factory).startswith(\"Histogram\"):\n",
        "        # ~ non-parametric\n",
        "        continue\n",
        "    marginalFactories.append(factory)\n",
        "estimated_marginals = [\n",
        "    ot.FittingTest.BestModelBIC(Sample_Y21.getMarginal(i), marginalFactories)[0]\n",
        "    for i in range(dimension)\n",
        "]\n",
        "estimated_marginals\n",
        "dimension"
      ]
    },
    {
      "cell_type": "markdown",
      "metadata": {
        "id": "jbf9giUQSn9N"
      },
      "source": [
        "**Tu peux comparer les fit de la distribution empirique et la marginale \"fittée\" par exemple avec les CDF ou un QQ-plot (quantile-quantile plot)**"
      ]
    },
    {
      "cell_type": "code",
      "execution_count": null,
      "metadata": {
        "colab": {
          "base_uri": "https://localhost:8080/",
          "height": 431
        },
        "id": "PR5N3J8vSYvq",
        "outputId": "8cf077ab-ca4f-48bd-9ae6-82ede7dc2f00"
      },
      "outputs": [
        {
          "output_type": "display_data",
          "data": {
            "text/plain": [
              "<Figure size 720x432 with 1 Axes>"
            ],
            "image/png": "[encoded data removed]"
          },
          "metadata": {
            "needs_background": "light"
          }
        }
      ],
      "source": [
        "fig = plt.figure(figsize=(10, 6))\n",
        "xmin = Sample_Y21.getMin()[0] - 1.0\n",
        "xmax = Sample_Y21.getMax()[0] + 1.0\n",
        "graph = ot.UserDefined(Sample_Y21).drawCDF(xmin, xmax)\n",
        "graph.setLegends([\"Empirical CDF\"])\n",
        "graph2 = estimated_marginals[0].drawCDF()\n",
        "graph2.setColors([\"blue\"])\n",
        "graph2.setLegends([\"Estimated CDF\"])\n",
        "graph.add(graph2)\n",
        "view = otv.View(graph, figure = fig)"
      ]
    },
    {
      "cell_type": "code",
      "execution_count": null,
      "metadata": {
        "colab": {
          "base_uri": "https://localhost:8080/",
          "height": 417
        },
        "id": "h5oVnEdBSwlb",
        "outputId": "6d7582e2-69fc-4906-bf5c-cc855457b59d"
      },
      "outputs": [
        {
          "output_type": "execute_result",
          "data": {
            "text/plain": [
              "class=Graph name=Sample versus model QQ-plot implementation=class=GraphImplementation name=Sample versus model QQ-plot title=Sample versus model QQ-plot xTitle=v0 yTitle=Beta(alpha = 1.64991, beta = 1.22139, a = 499.994, b = 501.041) axes=ON grid=ON legendposition=topleft legendFontSize=1 drawables=[class=Drawable name=Test line implementation=class=Curve name=Test line derived from class=DrawableImplementation name=Test line legend=Test line data=class=Sample name=Unnamed implementation=class=SampleImplementation name=Unnamed size=2 dimension=2 data=[[499.994,499.994],[501.034,501.034]] color=red fillStyle=solid lineStyle=dashed pointStyle=none lineWidth=1,class=Drawable name=Data implementation=class=Cloud name=Data derived from class=DrawableImplementation name=Data legend=Data data=class=Sample name=Unnamed implementation=class=SampleImplementation name=Unnamed size=9999 dimension=2 data=[[499.994,499.997],[499.994,499.999],[499.994,500],...,[501.023,501.04],[501.029,501.041],[501.034,501.041]] color=blue fillStyle=solid lineStyle=solid pointStyle=dot lineWidth=1]"
            ],
            "image/png": "[encoded data removed]"
          },
          "metadata": {},
          "execution_count": 68
        }
      ],
      "source": [
        "ot.VisualTest.DrawQQplot(Sample_Y21, estimated_marginals[0])"
      ]
    },
    {
      "cell_type": "markdown",
      "metadata": {
        "id": "9C-qk_ROTpz9"
      },
      "source": [
        "**Tu peux également faire un test statistique (p-valeur) pour savoir si l'approche de fit parametrique avec la meilleur \"distribution\" est valide ou non étant donné l'échantillon Sample_Y21**"
      ]
    },
    {
      "cell_type": "code",
      "execution_count": null,
      "metadata": {
        "colab": {
          "base_uri": "https://localhost:8080/"
        },
        "id": "wFDveEixTKDL",
        "outputId": "c2e38267-32d6-4974-d1ae-577e872d4a2a"
      },
      "outputs": [
        {
          "output_type": "stream",
          "name": "stdout",
          "text": [
            "Conclusion= False P-value= 0.0\n"
          ]
        }
      ],
      "source": [
        "ot.ResourceMap.SetAsUnsignedInteger(\"FittingTest-LillieforsMaximumSamplingSize\",1000)\n",
        "fitted_dist, test_result = ot.FittingTest.Lilliefors(Sample_Y21, ot.BetaFactory(), 0.05)\n",
        "print('Conclusion=', test_result.getBinaryQualityMeasure(), 'P-value=', test_result.getPValue())"
      ]
    },
    {
      "cell_type": "markdown",
      "metadata": {
        "id": "FLrC2Xn1uQhZ"
      },
      "source": [
        "Modèle de loi Normale"
      ]
    },
    {
      "cell_type": "code",
      "execution_count": null,
      "metadata": {
        "colab": {
          "base_uri": "https://localhost:8080/"
        },
        "id": "HlWvQ3Fg3HK7",
        "outputId": "91b55cf3-fc6d-47a6-c868-6cb93db8f88c"
      },
      "outputs": [
        {
          "output_type": "stream",
          "name": "stdout",
          "text": [
            "[150,200,220,300,6,10,0.5,5,16,40,0.5,1,0.08,0.18,2.5,6,1700,2200,0.025,0.08]#20\n"
          ]
        }
      ],
      "source": [
        "distribution_N = ot.NormalFactory().build(Sample_Y21)\n",
        "print(distribution.getParameter())"
      ]
    },
    {
      "cell_type": "markdown",
      "metadata": {
        "id": "2QJIQAh1uSmK"
      },
      "source": [
        "Modèle de Loi de Student"
      ]
    },
    {
      "cell_type": "code",
      "execution_count": null,
      "metadata": {
        "id": "lHfRxlT8uUIZ"
      },
      "outputs": [],
      "source": [
        "distribution_S = ot.StudentFactory().build(Sample_Y21)"
      ]
    },
    {
      "cell_type": "markdown",
      "metadata": {
        "id": "ZLnfbqNpupZd"
      },
      "source": [
        "Modèle de loi de Pareto"
      ]
    },
    {
      "cell_type": "code",
      "execution_count": null,
      "metadata": {
        "id": "MznCi6mJuob6"
      },
      "outputs": [],
      "source": [
        "distribution_P = ot.ParetoFactory().build(Sample_Y21)"
      ]
    },
    {
      "cell_type": "markdown",
      "metadata": {
        "id": "6bAXyqCH540C"
      },
      "source": [
        "--------------------------------------------------------------------------------"
      ]
    },
    {
      "cell_type": "markdown",
      "metadata": {
        "id": "lm3iRm6z57s7"
      },
      "source": [
        "##Modèle non paramétrique"
      ]
    },
    {
      "cell_type": "markdown",
      "metadata": {
        "id": "ZT7G7G8-5_oh"
      },
      "source": [
        "--------------------------------------------------------------------------------"
      ]
    },
    {
      "cell_type": "code",
      "execution_count": null,
      "metadata": {
        "id": "jzRsKQyp6AxZ"
      },
      "outputs": [],
      "source": [
        "kernel = ot.KernelSmoothing()\n",
        "estimated = kernel.build(Sample_Y21)"
      ]
    },
    {
      "cell_type": "code",
      "execution_count": null,
      "metadata": {
        "colab": {
          "base_uri": "https://localhost:8080/",
          "height": 431
        },
        "id": "RY7M1L5bTZi2",
        "outputId": "8deae2b4-02ef-4423-9f45-37cd46563ff5"
      },
      "outputs": [
        {
          "output_type": "display_data",
          "data": {
            "text/plain": [
              "<Figure size 720x432 with 1 Axes>"
            ],
            "image/png": "[encoded data removed]"
          },
          "metadata": {
            "needs_background": "light"
          }
        }
      ],
      "source": [
        "fig = plt.figure(figsize=(10, 6))\n",
        "xmin = Sample_Y21.getMin()[0] - 1.0\n",
        "xmax = Sample_Y21.getMax()[0] + 1.0\n",
        "graph = ot.UserDefined(Sample_Y21).drawCDF(xmin, xmax)\n",
        "graph.setLegends([\"Empirical CDF\"])\n",
        "graph2 = estimated.drawCDF()\n",
        "graph2.setColors([\"blue\"])\n",
        "graph2.setLegends([\"Estimated CDF\"])\n",
        "graph.add(graph2)\n",
        "view = otv.View(graph, figure = fig)"
      ]
    },
    {
      "cell_type": "code",
      "execution_count": null,
      "metadata": {
        "colab": {
          "base_uri": "https://localhost:8080/",
          "height": 417
        },
        "id": "8zXXLKUMaiXr",
        "outputId": "3968858d-3d83-437c-a3db-9f2dbf191845"
      },
      "outputs": [
        {
          "output_type": "execute_result",
          "data": {
            "text/plain": [
              "class=Graph name=Sample versus model QQ-plot implementation=class=GraphImplementation name=Sample versus model QQ-plot title=Sample versus model QQ-plot xTitle=v0 yTitle=Mixture((w = 0.0007, d = KernelMixture(kernel = Normal(mu = 0, sigma = 1), bandwidth = [0.0298369], sample = \n",
              "0 : [ 499.994 ]), (w = 0.000162777, d = KernelMixture(kernel = Normal(mu = 0, sigma = 1), bandwidth = [0.0298369], sample = \n",
              "0 : [ 499.995 ]), (w = 0.000245823, d = KernelMixture(kernel = Normal(mu = 0, sigma = 1), bandwidth = [0.0298369], sample = \n",
              "0 : [ 499.996 ]), (w = 0.000290809, d = KernelMixture(kernel = Normal(mu = 0, sigma = 1), bandwidth = [0.0298369], sample = \n",
              "0 : [ 499.997 ]), (w = 0.000398886, d = KernelMixture(kernel = Normal(mu = 0, sigma = 1), bandwidth = [0.0298369], sample = \n",
              "0 : [ 499.998 ]), (w = 0.000199607, d = KernelMixture(kernel = Normal(mu = 0, sigma = 1), bandwidth = [0.0298369], sample = \n",
              "0 : [ 499.999 ]), (w = 0.000202097, d = KernelMixture(kernel = Normal(mu = 0, sigma = 1), bandwidth = [0.0298369], sample = \n",
              "0 : [ 500 ]), (w = 3.1121e-05, d = KernelMixture(kernel = Normal(mu = 0, sigma = 1), bandwidth = [0.0298369], sample = \n",
              "0 : [ 500.001 ]), (w = 6.8879e-05, d = KernelMixture(kernel = Normal(mu = 0, sigma = 1), bandwidth = [0.0298369], sample = \n",
              "0 : [ 500.002 ]), (w = 5.02352e-05, d = KernelMixture(kernel = Normal(mu = 0, sigma = 1), bandwidth = [0.0298369], sample = \n",
              "0 : [ 500.003 ]), (w = 0.000105808, d = KernelMixture(kernel = Normal(mu = 0, sigma = 1), bandwidth = [0.0298369], sample = \n",
              "0 : [ 500.004 ]), (w = 0.000159185, d = KernelMixture(kernel = Normal(mu = 0, sigma = 1), bandwidth = [0.0298369], sample = \n",
              "0 : [ 500.005 ]), (w = 0.000177065, d = KernelMixture(kernel = Normal(mu = 0, sigma = 1), bandwidth = [0.0298369], sample = \n",
              "0 : [ 500.006 ]), (w = 0.000207707, d = KernelMixture(kernel = Normal(mu = 0, sigma = 1), bandwidth = [0.0298369], sample = \n",
              "0 : [ 500.007 ]), (w = 0.000111849, d = KernelMixture(kernel = Normal(mu = 0, sigma = 1), bandwidth = [0.0298369], sample = \n",
              "0 : [ 500.009 ]), (w = 0.000188151, d = KernelMixture(kernel = Normal(mu = 0, sigma = 1), bandwidth = [0.0298369], sample = \n",
              "0 : [ 500.01 ]), (w = 0.000184428, d = KernelMixture(kernel = Normal(mu = 0, sigma = 1), bandwidth = [0.0298369], sample = \n",
              "0 : [ 500.011 ]), (w = 0.000145576, d = KernelMixture(kernel = Normal(mu = 0, sigma = 1), bandwidth = [0.0298369], sample = \n",
              "0 : [ 500.012 ]), (w = 9.57069e-05, d = KernelMixture(kernel = Normal(mu = 0, sigma = 1), bandwidth = [0.0298369], sample = \n",
              "0 : [ 500.013 ]), (w = 7.42893e-05, d = KernelMixture(kernel = Normal(mu = 0, sigma = 1), bandwidth = [0.0298369], sample = \n",
              "0 : [ 500.015 ]), (w = 7.67325e-05, d = KernelMixture(kernel = Normal(mu = 0, sigma = 1), bandwidth = [0.0298369], sample = \n",
              "0 : [ 500.016 ]), (w = 0.00033935, d = KernelMixture(kernel = Normal(mu = 0, sigma = 1), bandwidth = [0.0298369], sample = \n",
              "0 : [ 500.017 ]), (w = 0.000280057, d = KernelMixture(kernel = Normal(mu = 0, sigma = 1), bandwidth = [0.0298369], sample = \n",
              "0 : [ 500.018 ]), (w = 0.000198972, d = KernelMixture(kernel = Normal(mu = 0, sigma = 1), bandwidth = [0.0298369], sample = \n",
              "0 : [ 500.019 ]), (w = 4.88897e-06, d = KernelMixture(kernel = Normal(mu = 0, sigma = 1), bandwidth = [0.0298369], sample = \n",
              "0 : [ 500.02 ]), (w = 2.9194e-06, d = KernelMixture(kernel = Normal(mu = 0, sigma = 1), bandwidth = [0.0298369], sample = \n",
              "0 : [ 500.021 ]), (w = 0.000199306, d = KernelMixture(kernel = Normal(mu = 0, sigma = 1), bandwidth = [0.0298369], sample = \n",
              "0 : [ 500.022 ]), (w = 0.00020782, d = KernelMixture(kernel = Normal(mu = 0, sigma = 1), bandwidth = [0.0298369], sample = \n",
              "0 : [ 500.023 ]), (w = 8.99547e-05, d = KernelMixture(kernel = Normal(mu = 0, sigma = 1), bandwidth = [0.0298369], sample = \n",
              "0 : [ 500.024 ]), (w = 0.000158551, d = KernelMixture(kernel = Normal(mu = 0, sigma = 1), bandwidth = [0.0298369], sample = \n",
              "0 : [ 500.025 ]), (w = 0.000201447, d = KernelMixture(kernel = Normal(mu = 0, sigma = 1), bandwidth = [0.0298369], sample = \n",
              "0 : [ 500.026 ]), (w = 0.000140002, d = KernelMixture(kernel = Normal(mu = 0, sigma = 1), bandwidth = [0.0298369], sample = \n",
              "0 : [ 500.027 ]), (w = 8.06303e-05, d = KernelMixture(kernel = Normal(mu = 0, sigma = 1), bandwidth = [0.0298369], sample = \n",
              "0 : [ 500.028 ]), (w = 0.000298612, d = KernelMixture(kernel = Normal(mu = 0, sigma = 1), bandwidth = [0.0298369], sample = \n",
              "0 : [ 500.029 ]), (w = 0.000292539, d = KernelMixture(kernel = Normal(mu = 0, sigma = 1), bandwidth = [0.0298369], sample = \n",
              "0 : [ 500.03 ]), (w = 0.000328954, d = KernelMixture(kernel = Normal(mu = 0, sigma = 1), bandwidth = [0.0298369], sample = \n",
              "0 : [ 500.031 ]), (w = 0.000255801, d = KernelMixture(kernel = Normal(mu = 0, sigma = 1), bandwidth = [0.0298369], sample = \n",
              "0 : [ 500.032 ]), (w = 0.000370959, d = KernelMixture(kernel = Normal(mu = 0, sigma = 1), bandwidth = [0.0298369], sample = \n",
              "0 : [ 500.033 ]), (w = 0.000291429, d = KernelMixture(kernel = Normal(mu = 0, sigma = 1), bandwidth = [0.0298369], sample = \n",
              "0 : [ 500.034 ]), (w = 0.000163676, d = KernelMixture(kernel = Normal(mu = 0, sigma = 1), bandwidth = [0.0298369], sample = \n",
              "0 : [ 500.035 ]), (w = 0.000180569, d = KernelMixture(kernel = Normal(mu = 0, sigma = 1), bandwidth = [0.0298369], sample = \n",
              "0 : [ 500.036 ]), (w = 7.48995e-05, d = KernelMixture(kernel = Normal(mu = 0, sigma = 1), bandwidth = [0.0298369], sample = \n",
              "0 : [ 500.037 ]), (w = 6.19315e-05, d = KernelMixture(kernel = Normal(mu = 0, sigma = 1), bandwidth = [0.0298369], sample = \n",
              "0 : [ 500.038 ]), (w = 0.000179599, d = KernelMixture(kernel = Normal(mu = 0, sigma = 1), bandwidth = [0.0298369], sample = \n",
              "0 : [ 500.039 ]), (w = 0.000318726, d = KernelMixture(kernel = Normal(mu = 0, sigma = 1), bandwidth = [0.0298369], sample = \n",
              "0 : [ 500.04 ]), (w = 0.000338875, d = KernelMixture(kernel = Normal(mu = 0, sigma = 1), bandwidth = [0.0298369], sample = \n",
              "0 : [ 500.041 ]), (w = 0.000420283, d = KernelMixture(kernel = Normal(mu = 0, sigma = 1), bandwidth = [0.0298369], sample = \n",
              "0 : [ 500.042 ]), (w = 0.000449034, d = KernelMixture(kernel = Normal(mu = 0, sigma = 1), bandwidth = [0.0298369], sample = \n",
              "0 : [ 500.043 ]), (w = 0.000254212, d = KernelMixture(kernel = Normal(mu = 0, sigma = 1), bandwidth = [0.0298369], sample = \n",
              "0 : [ 500.044 ]), (w = 0.000159662, d = KernelMixture(kernel = Normal(mu = 0, sigma = 1), bandwidth = [0.0298369], sample = \n",
              "0 : [ 500.045 ]), (w = 0.00017961, d = KernelMixture(kernel = Normal(mu = 0, sigma = 1), bandwidth = [0.0298369], sample = \n",
              "0 : [ 500.046 ]), (w = 0.000164506, d = KernelMixture(kernel = Normal(mu = 0, sigma = 1), bandwidth = [0.0298369], sample = \n",
              "0 : [ 500.048 ]), (w = 0.00032831, d = KernelMixture(kernel = Normal(mu = 0, sigma = 1), bandwidth = [0.0298369], sample = \n",
              "0 : [ 500.049 ]), (w = 8.70089e-05, d = KernelMixture(kernel = Normal(mu = 0, sigma = 1), bandwidth = [0.0298369], sample = \n",
              "0 : [ 500.05 ]), (w = 0.000177395, d = KernelMixture(kernel = Normal(mu = 0, sigma = 1), bandwidth = [0.0298369], sample = \n",
              "0 : [ 500.051 ]), (w = 0.000266506, d = KernelMixture(kernel = Normal(mu = 0, sigma = 1), bandwidth = [0.0298369], sample = \n",
              "0 : [ 500.052 ]), (w = 0.000451527, d = KernelMixture(kernel = Normal(mu = 0, sigma = 1), bandwidth = [0.0298369], sample = \n",
              "0 : [ 500.053 ]), (w = 0.000401464, d = KernelMixture(kernel = Normal(mu = 0, sigma = 1), bandwidth = [0.0298369], sample = \n",
              "0 : [ 500.054 ]), (w = 0.000313939, d = KernelMixture(kernel = Normal(mu = 0, sigma = 1), bandwidth = [0.0298369], sample = \n",
              "0 : [ 500.055 ]), (w = 2.23381e-05, d = KernelMixture(kernel = Normal(mu = 0, sigma = 1), bandwidth = [0.0298369], sample = \n",
              "0 : [ 500.056 ]), (w = 0.000141607, d = KernelMixture(kernel = Normal(mu = 0, sigma = 1), bandwidth = [0.0298369], sample = \n",
              "0 : [ 500.057 ]), (w = 0.000555846, d = KernelMixture(kernel = Normal(mu = 0, sigma = 1), bandwidth = [0.0298369], sample = \n",
              "0 : [ 500.058 ]), (w = 0.000358388, d = KernelMixture(kernel = Normal(mu = 0, sigma = 1), bandwidth = [0.0298369], sample = \n",
              "0 : [ 500.06 ]), (w = 0.00027309, d = KernelMixture(kernel = Normal(mu = 0, sigma = 1), bandwidth = [0.0298369], sample = \n",
              "0 : [ 500.061 ]), (w = 0.000351414, d = KernelMixture(kernel = Normal(mu = 0, sigma = 1), bandwidth = [0.0298369], sample = \n",
              "0 : [ 500.062 ]), (w = 0.000386417, d = KernelMixture(kernel = Normal(mu = 0, sigma = 1), bandwidth = [0.0298369], sample = \n",
              "0 : [ 500.063 ]), (w = 0.000495976, d = KernelMixture(kernel = Normal(mu = 0, sigma = 1), bandwidth = [0.0298369], sample = \n",
              "0 : [ 500.064 ]), (w = 0.000227909, d = KernelMixture(kernel = Normal(mu = 0, sigma = 1), bandwidth = [0.0298369], sample = \n",
              "0 : [ 500.065 ]), (w = 0.000131855, d = KernelMixture(kernel = Normal(mu = 0, sigma = 1), bandwidth = [0.0298369], sample = \n",
              "0 : [ 500.066 ]), (w = 6.45043e-05, d = KernelMixture(kernel = Normal(mu = 0, sigma = 1), bandwidth = [0.0298369], sample = \n",
              "0 : [ 500.067 ]), (w = 0.00018531, d = KernelMixture(kernel = Normal(mu = 0, sigma = 1), bandwidth = [0.0298369], sample = \n",
              "0 : [ 500.068 ]), (w = 0.000494393, d = KernelMixture(kernel = Normal(mu = 0, sigma = 1), bandwidth = [0.0298369], sample = \n",
              "0 : [ 500.069 ]), (w = 0.000823104, d = KernelMixture(kernel = Normal(mu = 0, sigma = 1), bandwidth = [0.0298369], sample = \n",
              "0 : [ 500.07 ]), (w = 0.000802545, d = KernelMixture(kernel = Normal(mu = 0, sigma = 1), bandwidth = [0.0298369], sample = \n",
              "0 : [ 500.071 ]), (w = 0.000801509, d = KernelMixture(kernel = Normal(mu = 0, sigma = 1), bandwidth = [0.0298369], sample = \n",
              "0 : [ 500.072 ]), (w = 0.000827216, d = KernelMixture(kernel = Normal(mu = 0, sigma = 1), bandwidth = [0.0298369], sample = \n",
              "0 : [ 500.073 ]), (w = 0.000505517, d = KernelMixture(kernel = Normal(mu = 0, sigma = 1), bandwidth = [0.0298369], sample = \n",
              "0 : [ 500.074 ]), (w = 0.000411244, d = KernelMixture(kernel = Normal(mu = 0, sigma = 1), bandwidth = [0.0298369], sample = \n",
              "0 : [ 500.075 ]), (w = 0.000419354, d = KernelMixture(kernel = Normal(mu = 0, sigma = 1), bandwidth = [0.0298369], sample = \n",
              "0 : [ 500.076 ]), (w = 0.000272603, d = KernelMixture(kernel = Normal(mu = 0, sigma = 1), bandwidth = [0.0298369], sample = \n",
              "0 : [ 500.077 ]), (w = 0.000277353, d = KernelMixture(kernel = Normal(mu = 0, sigma = 1), bandwidth = [0.0298369], sample = \n",
              "0 : [ 500.078 ]), (w = 0.000473972, d = KernelMixture(kernel = Normal(mu = 0, sigma = 1), bandwidth = [0.0298369], sample = \n",
              "0 : [ 500.079 ]), (w = 0.000195863, d = KernelMixture(kernel = Normal(mu = 0, sigma = 1), bandwidth = [0.0298369], sample = \n",
              "0 : [ 500.08 ]), (w = 0.00065758, d = KernelMixture(kernel = Normal(mu = 0, sigma = 1), bandwidth = [0.0298369], sample = \n",
              "0 : [ 500.081 ]), (w = 0.000422592, d = KernelMixture(kernel = Normal(mu = 0, sigma = 1), bandwidth = [0.0298369], sample = \n",
              "0 : [ 500.082 ]), (w = 0.000192824, d = KernelMixture(kernel = Normal(mu = 0, sigma = 1), bandwidth = [0.0298369], sample = \n",
              "0 : [ 500.083 ]), (w = 0.000179669, d = KernelMixture(kernel = Normal(mu = 0, sigma = 1), bandwidth = [0.0298369], sample = \n",
              "0 : [ 500.084 ]), (w = 0.000516675, d = KernelMixture(kernel = Normal(mu = 0, sigma = 1), bandwidth = [0.0298369], sample = \n",
              "0 : [ 500.085 ]), (w = 0.000723494, d = KernelMixture(kernel = Normal(mu = 0, sigma = 1), bandwidth = [0.0298369], sample = \n",
              "0 : [ 500.086 ]), (w = 0.000513965, d = KernelMixture(kernel = Normal(mu = 0, sigma = 1), bandwidth = [0.0298369], sample = \n",
              "0 : [ 500.087 ]), (w = 0.00026687, d = KernelMixture(kernel = Normal(mu = 0, sigma = 1), bandwidth = [0.0298369], sample = \n",
              "0 : [ 500.088 ]), (w = 0.000654131, d = KernelMixture(kernel = Normal(mu = 0, sigma = 1), bandwidth = [0.0298369], sample = \n",
              "0 : [ 500.089 ]), (w = 0.000251296, d = KernelMixture(kernel = Normal(mu = 0, sigma = 1), bandwidth = [0.0298369], sample = \n",
              "0 : [ 500.09 ]), (w = 0.000189904, d = KernelMixture(kernel = Normal(mu = 0, sigma = 1), bandwidth = [0.0298369], sample = \n",
              "0 : [ 500.091 ]), (w = 0.000487482, d = KernelMixture(kernel = Normal(mu = 0, sigma = 1), bandwidth = [0.0298369], sample = \n",
              "0 : [ 500.092 ]), (w = 0.000262271, d = KernelMixture(kernel = Normal(mu = 0, sigma = 1), bandwidth = [0.0298369], sample = \n",
              "0 : [ 500.093 ]), (w = 9.18752e-05, d = KernelMixture(kernel = Normal(mu = 0, sigma = 1), bandwidth = [0.0298369], sample = \n",
              "0 : [ 500.094 ]), (w = 0.00044437, d = KernelMixture(kernel = Normal(mu = 0, sigma = 1), bandwidth = [0.0298369], sample = \n",
              "0 : [ 500.095 ]), (w = 0.000672423, d = KernelMixture(kernel = Normal(mu = 0, sigma = 1), bandwidth = [0.0298369], sample = \n",
              "0 : [ 500.096 ]), (w = 0.000222141, d = KernelMixture(kernel = Normal(mu = 0, sigma = 1), bandwidth = [0.0298369], sample = \n",
              "0 : [ 500.097 ]), (w = 0.000768565, d = KernelMixture(kernel = Normal(mu = 0, sigma = 1), bandwidth = [0.0298369], sample = \n",
              "0 : [ 500.098 ]), (w = 0.000722022, d = KernelMixture(kernel = Normal(mu = 0, sigma = 1), bandwidth = [0.0298369], sample = \n",
              "0 : [ 500.099 ]), (w = 0.000169867, d = KernelMixture(kernel = Normal(mu = 0, sigma = 1), bandwidth = [0.0298369], sample = \n",
              "0 : [ 500.1 ]), (w = 0.000135784, d = KernelMixture(kernel = Normal(mu = 0, sigma = 1), bandwidth = [0.0298369], sample = \n",
              "0 : [ 500.101 ]), (w = 0.000234064, d = KernelMixture(kernel = Normal(mu = 0, sigma = 1), bandwidth = [0.0298369], sample = \n",
              "0 : [ 500.102 ]), (w = 0.00035569, d = KernelMixture(kernel = Normal(mu = 0, sigma = 1), bandwidth = [0.0298369], sample = \n",
              "0 : [ 500.103 ]), (w = 0.000288347, d = KernelMixture(kernel = Normal(mu = 0, sigma = 1), bandwidth = [0.0298369], sample = \n",
              "0 : [ 500.105 ]), (w = 8.70652e-05, d = KernelMixture(kernel = Normal(mu = 0, sigma = 1), bandwidth = [0.0298369], sample = \n",
              "0 : [ 500.106 ]), (w = 0.000219701, d = KernelMixture(kernel = Normal(mu = 0, sigma = 1), bandwidth = [0.0298369], sample = \n",
              "0 : [ 500.107 ]), (w = 0.000278831, d = KernelMixture(kernel = Normal(mu = 0, sigma = 1), bandwidth = [0.0298369], sample = \n",
              "0 : [ 500.108 ]), (w = 0.000662407, d = KernelMixture(kernel = Normal(mu = 0, sigma = 1), bandwidth = [0.0298369], sample = \n",
              "0 : [ 500.109 ]), (w = 0.000215212, d = KernelMixture(kernel = Normal(mu = 0, sigma = 1), bandwidth = [0.0298369], sample = \n",
              "0 : [ 500.11 ]), (w = 0.000638735, d = KernelMixture(kernel = Normal(mu = 0, sigma = 1), bandwidth = [0.0298369], sample = \n",
              "0 : [ 500.111 ]), (w = 0.000594297, d = KernelMixture(kernel = Normal(mu = 0, sigma = 1), bandwidth = [0.0298369], sample = \n",
              "0 : [ 500.112 ]), (w = 0.000316822, d = KernelMixture(kernel = Normal(mu = 0, sigma = 1), bandwidth = [0.0298369], sample = \n",
              "0 : [ 500.113 ]), (w = 0.000820846, d = KernelMixture(kernel = Normal(mu = 0, sigma = 1), bandwidth = [0.0298369], sample = \n",
              "0 : [ 500.114 ]), (w = 0.00041444, d = KernelMixture(kernel = Normal(mu = 0, sigma = 1), bandwidth = [0.0298369], sample = \n",
              "0 : [ 500.115 ]), (w = 0.000436595, d = KernelMixture(kernel = Normal(mu = 0, sigma = 1), bandwidth = [0.0298369], sample = \n",
              "0 : [ 500.116 ]), (w = 0.000487007, d = KernelMixture(kernel = Normal(mu = 0, sigma = 1), bandwidth = [0.0298369], sample = \n",
              "0 : [ 500.117 ]), (w = 0.00033508, d = KernelMixture(kernel = Normal(mu = 0, sigma = 1), bandwidth = [0.0298369], sample = \n",
              "0 : [ 500.118 ]), (w = 0.000641248, d = KernelMixture(kernel = Normal(mu = 0, sigma = 1), bandwidth = [0.0298369], sample = \n",
              "0 : [ 500.119 ]), (w = 0.000657469, d = KernelMixture(kernel = Normal(mu = 0, sigma = 1), bandwidth = [0.0298369], sample = \n",
              "0 : [ 500.12 ]), (w = 0.000334036, d = KernelMixture(kernel = Normal(mu = 0, sigma = 1), bandwidth = [0.0298369], sample = \n",
              "0 : [ 500.121 ]), (w = 0.000613419, d = KernelMixture(kernel = Normal(mu = 0, sigma = 1), bandwidth = [0.0298369], sample = \n",
              "0 : [ 500.122 ]), (w = 0.000340604, d = KernelMixture(kernel = Normal(mu = 0, sigma = 1), bandwidth = [0.0298369], sample = \n",
              "0 : [ 500.123 ]), (w = 0.000355509, d = KernelMixture(kernel = Normal(mu = 0, sigma = 1), bandwidth = [0.0298369], sample = \n",
              "0 : [ 500.124 ]), (w = 0.000397603, d = KernelMixture(kernel = Normal(mu = 0, sigma = 1), bandwidth = [0.0298369], sample = \n",
              "0 : [ 500.125 ]), (w = 0.000282677, d = KernelMixture(kernel = Normal(mu = 0, sigma = 1), bandwidth = [0.0298369], sample = \n",
              "0 : [ 500.126 ]), (w = 0.000699176, d = KernelMixture(kernel = Normal(mu = 0, sigma = 1), bandwidth = [0.0298369], sample = \n",
              "0 : [ 500.127 ]), (w = 0.000422167, d = KernelMixture(kernel = Normal(mu = 0, sigma = 1), bandwidth = [0.0298369], sample = \n",
              "0 : [ 500.128 ]), (w = 0.000667369, d = KernelMixture(kernel = Normal(mu = 0, sigma = 1), bandwidth = [0.0298369], sample = \n",
              "0 : [ 500.129 ]), (w = 0.000764935, d = KernelMixture(kernel = Normal(mu = 0, sigma = 1), bandwidth = [0.0298369], sample = \n",
              "0 : [ 500.13 ]), (w = 0.000368221, d = KernelMixture(kernel = Normal(mu = 0, sigma = 1), bandwidth = [0.0298369], sample = \n",
              "0 : [ 500.131 ]), (w = 0.000716571, d = KernelMixture(kernel = Normal(mu = 0, sigma = 1), bandwidth = [0.0298369], sample = \n",
              "0 : [ 500.132 ]), (w = 0.000928984, d = KernelMixture(kernel = Normal(mu = 0, sigma = 1), bandwidth = [0.0298369], sample = \n",
              "0 : [ 500.133 ]), (w = 0.000860539, d = KernelMixture(kernel = Normal(mu = 0, sigma = 1), bandwidth = [0.0298369], sample = \n",
              "0 : [ 500.134 ]), (w = 0.000984278, d = KernelMixture(kernel = Normal(mu = 0, sigma = 1), bandwidth = [0.0298369], sample = \n",
              "0 : [ 500.135 ]), (w = 0.000812005, d = KernelMixture(kernel = Normal(mu = 0, sigma = 1), bandwidth = [0.0298369], sample = \n",
              "0 : [ 500.136 ]), (w = 0.000848835, d = KernelMixture(kernel = Normal(mu = 0, sigma = 1), bandwidth = [0.0298369], sample = \n",
              "0 : [ 500.137 ]), (w = 0.000432187, d = KernelMixture(kernel = Normal(mu = 0, sigma = 1), bandwidth = [0.0298369], sample = \n",
              "0 : [ 500.138 ]), (w = 0.000527787, d = KernelMixture(kernel = Normal(mu = 0, sigma = 1), bandwidth = [0.0298369], sample = \n",
              "0 : [ 500.139 ]), (w = 0.000319977, d = KernelMixture(kernel = Normal(mu = 0, sigma = 1), bandwidth = [0.0298369], sample = \n",
              "0 : [ 500.14 ]), (w = 0.000498587, d = KernelMixture(kernel = Normal(mu = 0, sigma = 1), bandwidth = [0.0298369], sample = \n",
              "0 : [ 500.141 ]), (w = 0.000522234, d = KernelMixture(kernel = Normal(mu = 0, sigma = 1), bandwidth = [0.0298369], sample = \n",
              "0 : [ 500.142 ]), (w = 0.000321838, d = KernelMixture(kernel = Normal(mu = 0, sigma = 1), bandwidth = [0.0298369], sample = \n",
              "0 : [ 500.143 ]), (w = 0.000277709, d = KernelMixture(kernel = Normal(mu = 0, sigma = 1), bandwidth = [0.0298369], sample = \n",
              "0 : [ 500.144 ]), (w = 0.000319751, d = KernelMixture(kernel = Normal(mu = 0, sigma = 1), bandwidth = [0.0298369], sample = \n",
              "0 : [ 500.145 ]), (w = 0.000564761, d = KernelMixture(kernel = Normal(mu = 0, sigma = 1), bandwidth = [0.0298369], sample = \n",
              "0 : [ 500.146 ]), (w = 0.000341976, d = KernelMixture(kernel = Normal(mu = 0, sigma = 1), bandwidth = [0.0298369], sample = \n",
              "0 : [ 500.147 ]), (w = 0.000654977, d = KernelMixture(kernel = Normal(mu = 0, sigma = 1), bandwidth = [0.0298369], sample = \n",
              "0 : [ 500.148 ]), (w = 0.000576972, d = KernelMixture(kernel = Normal(mu = 0, sigma = 1), bandwidth = [0.0298369], sample = \n",
              "0 : [ 500.15 ]), (w = 0.000628151, d = KernelMixture(kernel = Normal(mu = 0, sigma = 1), bandwidth = [0.0298369], sample = \n",
              "0 : [ 500.151 ]), (w = 0.000512651, d = KernelMixture(kernel = Normal(mu = 0, sigma = 1), bandwidth = [0.0298369], sample = \n",
              "0 : [ 500.152 ]), (w = 0.000630623, d = KernelMixture(kernel = Normal(mu = 0, sigma = 1), bandwidth = [0.0298369], sample = \n",
              "0 : [ 500.153 ]), (w = 0.000951891, d = KernelMixture(kernel = Normal(mu = 0, sigma = 1), bandwidth = [0.0298369], sample = \n",
              "0 : [ 500.154 ]), (w = 0.000632755, d = KernelMixture(kernel = Normal(mu = 0, sigma = 1), bandwidth = [0.0298369], sample = \n",
              "0 : [ 500.155 ]), (w = 0.000184012, d = KernelMixture(kernel = Normal(mu = 0, sigma = 1), bandwidth = [0.0298369], sample = \n",
              "0 : [ 500.156 ]), (w = 0.000368895, d = KernelMixture(kernel = Normal(mu = 0, sigma = 1), bandwidth = [0.0298369], sample = \n",
              "0 : [ 500.157 ]), (w = 0.000716201, d = KernelMixture(kernel = Normal(mu = 0, sigma = 1), bandwidth = [0.0298369], sample = \n",
              "0 : [ 500.158 ]), (w = 0.00113772, d = KernelMixture(kernel = Normal(mu = 0, sigma = 1), bandwidth = [0.0298369], sample = \n",
              "0 : [ 500.159 ]), (w = 0.000374665, d = KernelMixture(kernel = Normal(mu = 0, sigma = 1), bandwidth = [0.0298369], sample = \n",
              "0 : [ 500.16 ]), (w = 0.000416907, d = KernelMixture(kernel = Normal(mu = 0, sigma = 1), bandwidth = [0.0298369], sample = \n",
              "0 : [ 500.161 ]), (w = 0.000628628, d = KernelMixture(kernel = Normal(mu = 0, sigma = 1), bandwidth = [0.0298369], sample = \n",
              "0 : [ 500.162 ]), (w = 0.000398606, d = KernelMixture(kernel = Normal(mu = 0, sigma = 1), bandwidth = [0.0298369], sample = \n",
              "0 : [ 500.163 ]), (w = 0.000142974, d = KernelMixture(kernel = Normal(mu = 0, sigma = 1), bandwidth = [0.0298369], sample = \n",
              "0 : [ 500.164 ]), (w = 0.000123862, d = KernelMixture(kernel = Normal(mu = 0, sigma = 1), bandwidth = [0.0298369], sample = \n",
              "0 : [ 500.165 ]), (w = 0.000172707, d = KernelMixture(kernel = Normal(mu = 0, sigma = 1), bandwidth = [0.0298369], sample = \n",
              "0 : [ 500.166 ]), (w = 0.000277009, d = KernelMixture(kernel = Normal(mu = 0, sigma = 1), bandwidth = [0.0298369], sample = \n",
              "0 : [ 500.167 ]), (w = 0.00054554, d = KernelMixture(kernel = Normal(mu = 0, sigma = 1), bandwidth = [0.0298369], sample = \n",
              "0 : [ 500.168 ]), (w = 0.000845897, d = KernelMixture(kernel = Normal(mu = 0, sigma = 1), bandwidth = [0.0298369], sample = \n",
              "0 : [ 500.169 ]), (w = 0.00045417, d = KernelMixture(kernel = Normal(mu = 0, sigma = 1), bandwidth = [0.0298369], sample = \n",
              "0 : [ 500.17 ]), (w = 0.000446792, d = KernelMixture(kernel = Normal(mu = 0, sigma = 1), bandwidth = [0.0298369], sample = \n",
              "0 : [ 500.171 ]), (w = 0.000732513, d = KernelMixture(kernel = Normal(mu = 0, sigma = 1), bandwidth = [0.0298369], sample = \n",
              "0 : [ 500.172 ]), (w = 0.000779764, d = KernelMixture(kernel = Normal(mu = 0, sigma = 1), bandwidth = [0.0298369], sample = \n",
              "0 : [ 500.173 ]), (w = 0.00120955, d = KernelMixture(kernel = Normal(mu = 0, sigma = 1), bandwidth = [0.0298369], sample = \n",
              "0 : [ 500.174 ]), (w = 0.000738846, d = KernelMixture(kernel = Normal(mu = 0, sigma = 1), bandwidth = [0.0298369], sample = \n",
              "0 : [ 500.175 ]), (w = 0.000385359, d = KernelMixture(kernel = Normal(mu = 0, sigma = 1), bandwidth = [0.0298369], sample = \n",
              "0 : [ 500.176 ]), (w = 0.000549928, d = KernelMixture(kernel = Normal(mu = 0, sigma = 1), bandwidth = [0.0298369], sample = \n",
              "0 : [ 500.177 ]), (w = 0.00067929, d = KernelMixture(kernel = Normal(mu = 0, sigma = 1), bandwidth = [0.0298369], sample = \n",
              "0 : [ 500.178 ]), (w = 0.00092314, d = KernelMixture(kernel = Normal(mu = 0, sigma = 1), bandwidth = [0.0298369], sample = \n",
              "0 : [ 500.179 ]), (w = 0.000861559, d = KernelMixture(kernel = Normal(mu = 0, sigma = 1), bandwidth = [0.0298369], sample = \n",
              "0 : [ 500.18 ]), (w = 0.000954943, d = KernelMixture(kernel = Normal(mu = 0, sigma = 1), bandwidth = [0.0298369], sample = \n",
              "0 : [ 500.181 ]), (w = 0.000966171, d = KernelMixture(kernel = Normal(mu = 0, sigma = 1), bandwidth = [0.0298369], sample = \n",
              "0 : [ 500.182 ]), (w = 0.000719275, d = KernelMixture(kernel = Normal(mu = 0, sigma = 1), bandwidth = [0.0298369], sample = \n",
              "0 : [ 500.183 ]), (w = 0.00103756, d = KernelMixture(kernel = Normal(mu = 0, sigma = 1), bandwidth = [0.0298369], sample = \n",
              "0 : [ 500.184 ]), (w = 0.000529426, d = KernelMixture(kernel = Normal(mu = 0, sigma = 1), bandwidth = [0.0298369], sample = \n",
              "0 : [ 500.185 ]), (w = 0.000626492, d = KernelMixture(kernel = Normal(mu = 0, sigma = 1), bandwidth = [0.0298369], sample = \n",
              "0 : [ 500.186 ]), (w = 0.000464964, d = KernelMixture(kernel = Normal(mu = 0, sigma = 1), bandwidth = [0.0298369], sample = \n",
              "0 : [ 500.187 ]), (w = 0.000610912, d = KernelMixture(kernel = Normal(mu = 0, sigma = 1), bandwidth = [0.0298369], sample = \n",
              "0 : [ 500.188 ]), (w = 0.000624753, d = KernelMixture(kernel = Normal(mu = 0, sigma = 1), bandwidth = [0.0298369], sample = \n",
              "0 : [ 500.189 ]), (w = 0.00072215, d = KernelMixture(kernel = Normal(mu = 0, sigma = 1), bandwidth = [0.0298369], sample = \n",
              "0 : [ 500.19 ]), (w = 0.00110733, d = KernelMixture(kernel = Normal(mu = 0, sigma = 1), bandwidth = [0.0298369], sample = \n",
              "0 : [ 500.191 ]), (w = 0.00080699, d = KernelMixture(kernel = Normal(mu = 0, sigma = 1), bandwidth = [0.0298369], sample = \n",
              "0 : [ 500.192 ]), (w = 0.000694022, d = KernelMixture(kernel = Normal(mu = 0, sigma = 1), bandwidth = [0.0298369], sample = \n",
              "0 : [ 500.193 ]), (w = 0.0008091, d = KernelMixture(kernel = Normal(mu = 0, sigma = 1), bandwidth = [0.0298369], sample = \n",
              "0 : [ 500.195 ]), (w = 0.000528532, d = KernelMixture(kernel = Normal(mu = 0, sigma = 1), bandwidth = [0.0298369], sample = \n",
              "0 : [ 500.196 ]), (w = 0.000700861, d = KernelMixture(kernel = Normal(mu = 0, sigma = 1), bandwidth = [0.0298369], sample = \n",
              "0 : [ 500.197 ]), (w = 0.000603611, d = KernelMixture(kernel = Normal(mu = 0, sigma = 1), bandwidth = [0.0298369], sample = \n",
              "0 : [ 500.198 ]), (w = 0.000214034, d = KernelMixture(kernel = Normal(mu = 0, sigma = 1), bandwidth = [0.0298369], sample = \n",
              "0 : [ 500.199 ]), (w = 0.000910005, d = KernelMixture(kernel = Normal(mu = 0, sigma = 1), bandwidth = [0.0298369], sample = \n",
              "0 : [ 500.2 ]), (w = 0.000812246, d = KernelMixture(kernel = Normal(mu = 0, sigma = 1), bandwidth = [0.0298369], sample = \n",
              "0 : [ 500.201 ]), (w = 0.000762429, d = KernelMixture(kernel = Normal(mu = 0, sigma = 1), bandwidth = [0.0298369], sample = \n",
              "0 : [ 500.202 ]), (w = 0.0005859, d = KernelMixture(kernel = Normal(mu = 0, sigma = 1), bandwidth = [0.0298369], sample = \n",
              "0 : [ 500.203 ]), (w = 0.00100584, d = KernelMixture(kernel = Normal(mu = 0, sigma = 1), bandwidth = [0.0298369], sample = \n",
              "0 : [ 500.204 ]), (w = 0.00106385, d = KernelMixture(kernel = Normal(mu = 0, sigma = 1), bandwidth = [0.0298369], sample = \n",
              "0 : [ 500.205 ]), (w = 0.000488773, d = KernelMixture(kernel = Normal(mu = 0, sigma = 1), bandwidth = [0.0298369], sample = \n",
              "0 : [ 500.206 ]), (w = 0.00112226, d = KernelMixture(kernel = Normal(mu = 0, sigma = 1), bandwidth = [0.0298369], sample = \n",
              "0 : [ 500.207 ]), (w = 0.00112981, d = KernelMixture(kernel = Normal(mu = 0, sigma = 1), bandwidth = [0.0298369], sample = \n",
              "0 : [ 500.208 ]), (w = 0.00119872, d = KernelMixture(kernel = Normal(mu = 0, sigma = 1), bandwidth = [0.0298369], sample = \n",
              "0 : [ 500.209 ]), (w = 0.00107645, d = KernelMixture(kernel = Normal(mu = 0, sigma = 1), bandwidth = [0.0298369], sample = \n",
              "0 : [ 500.21 ]), (w = 0.000930965, d = KernelMixture(kernel = Normal(mu = 0, sigma = 1), bandwidth = [0.0298369], sample = \n",
              "0 : [ 500.211 ]), (w = 0.000474157, d = KernelMixture(kernel = Normal(mu = 0, sigma = 1), bandwidth = [0.0298369], sample = \n",
              "0 : [ 500.212 ]), (w = 0.00100973, d = KernelMixture(kernel = Normal(mu = 0, sigma = 1), bandwidth = [0.0298369], sample = \n",
              "0 : [ 500.213 ]), (w = 0.00100178, d = KernelMixture(kernel = Normal(mu = 0, sigma = 1), bandwidth = [0.0298369], sample = \n",
              "0 : [ 500.214 ]), (w = 0.00101254, d = KernelMixture(kernel = Normal(mu = 0, sigma = 1), bandwidth = [0.0298369], sample = \n",
              "0 : [ 500.215 ]), (w = 0.000912985, d = KernelMixture(kernel = Normal(mu = 0, sigma = 1), bandwidth = [0.0298369], sample = \n",
              "0 : [ 500.216 ]), (w = 0.00103411, d = KernelMixture(kernel = Normal(mu = 0, sigma = 1), bandwidth = [0.0298369], sample = \n",
              "0 : [ 500.217 ]), (w = 0.000712385, d = KernelMixture(kernel = Normal(mu = 0, sigma = 1), bandwidth = [0.0298369], sample = \n",
              "0 : [ 500.218 ]), (w = 0.000601536, d = KernelMixture(kernel = Normal(mu = 0, sigma = 1), bandwidth = [0.0298369], sample = \n",
              "0 : [ 500.219 ]), (w = 0.00048042, d = KernelMixture(kernel = Normal(mu = 0, sigma = 1), bandwidth = [0.0298369], sample = \n",
              "0 : [ 500.22 ]), (w = 0.000505303, d = KernelMixture(kernel = Normal(mu = 0, sigma = 1), bandwidth = [0.0298369], sample = \n",
              "0 : [ 500.221 ]), (w = 0.000411205, d = KernelMixture(kernel = Normal(mu = 0, sigma = 1), bandwidth = [0.0298369], sample = \n",
              "0 : [ 500.222 ]), (w = 0.00095757, d = KernelMixture(kernel = Normal(mu = 0, sigma = 1), bandwidth = [0.0298369], sample = \n",
              "0 : [ 500.223 ]), (w = 0.00164184, d = KernelMixture(kernel = Normal(mu = 0, sigma = 1), bandwidth = [0.0298369], sample = \n",
              "0 : [ 500.224 ]), (w = 0.0014694, d = KernelMixture(kernel = Normal(mu = 0, sigma = 1), bandwidth = [0.0298369], sample = \n",
              "0 : [ 500.225 ]), (w = 0.00120341, d = KernelMixture(kernel = Normal(mu = 0, sigma = 1), bandwidth = [0.0298369], sample = \n",
              "0 : [ 500.226 ]), (w = 0.000652903, d = KernelMixture(kernel = Normal(mu = 0, sigma = 1), bandwidth = [0.0298369], sample = \n",
              "0 : [ 500.227 ]), (w = 0.000391883, d = KernelMixture(kernel = Normal(mu = 0, sigma = 1), bandwidth = [0.0298369], sample = \n",
              "0 : [ 500.228 ]), (w = 0.000508057, d = KernelMixture(kernel = Normal(mu = 0, sigma = 1), bandwidth = [0.0298369], sample = \n",
              "0 : [ 500.229 ]), (w = 0.000451421, d = KernelMixture(kernel = Normal(mu = 0, sigma = 1), bandwidth = [0.0298369], sample = \n",
              "0 : [ 500.23 ]), (w = 0.000613754, d = KernelMixture(kernel = Normal(mu = 0, sigma = 1), bandwidth = [0.0298369], sample = \n",
              "0 : [ 500.231 ]), (w = 0.000848215, d = KernelMixture(kernel = Normal(mu = 0, sigma = 1), bandwidth = [0.0298369], sample = \n",
              "0 : [ 500.232 ]), (w = 0.000633921, d = KernelMixture(kernel = Normal(mu = 0, sigma = 1), bandwidth = [0.0298369], sample = \n",
              "0 : [ 500.233 ]), (w = 0.000644468, d = KernelMixture(kernel = Normal(mu = 0, sigma = 1), bandwidth = [0.0298369], sample = \n",
              "0 : [ 500.234 ]), (w = 0.00116007, d = KernelMixture(kernel = Normal(mu = 0, sigma = 1), bandwidth = [0.0298369], sample = \n",
              "0 : [ 500.235 ]), (w = 0.000965541, d = KernelMixture(kernel = Normal(mu = 0, sigma = 1), bandwidth = [0.0298369], sample = \n",
              "0 : [ 500.236 ]), (w = 0.00165444, d = KernelMixture(kernel = Normal(mu = 0, sigma = 1), bandwidth = [0.0298369], sample = \n",
              "0 : [ 500.237 ]), (w = 0.0019212, d = KernelMixture(kernel = Normal(mu = 0, sigma = 1), bandwidth = [0.0298369], sample = \n",
              "0 : [ 500.238 ]), (w = 0.000982306, d = KernelMixture(kernel = Normal(mu = 0, sigma = 1), bandwidth = [0.0298369], sample = \n",
              "0 : [ 500.24 ]), (w = 0.000913374, d = KernelMixture(kernel = Normal(mu = 0, sigma = 1), bandwidth = [0.0298369], sample = \n",
              "0 : [ 500.241 ]), (w = 0.00093017, d = KernelMixture(kernel = Normal(mu = 0, sigma = 1), bandwidth = [0.0298369], sample = \n",
              "0 : [ 500.242 ]), (w = 0.000985157, d = KernelMixture(kernel = Normal(mu = 0, sigma = 1), bandwidth = [0.0298369], sample = \n",
              "0 : [ 500.243 ]), (w = 0.000771953, d = KernelMixture(kernel = Normal(mu = 0, sigma = 1), bandwidth = [0.0298369], sample = \n",
              "0 : [ 500.244 ]), (w = 0.000921329, d = KernelMixture(kernel = Normal(mu = 0, sigma = 1), bandwidth = [0.0298369], sample = \n",
              "0 : [ 500.245 ]), (w = 0.000652646, d = KernelMixture(kernel = Normal(mu = 0, sigma = 1), bandwidth = [0.0298369], sample = \n",
              "0 : [ 500.246 ]), (w = 0.000997232, d = KernelMixture(kernel = Normal(mu = 0, sigma = 1), bandwidth = [0.0298369], sample = \n",
              "0 : [ 500.247 ]), (w = 0.000835758, d = KernelMixture(kernel = Normal(mu = 0, sigma = 1), bandwidth = [0.0298369], sample = \n",
              "0 : [ 500.248 ]), (w = 0.00115651, d = KernelMixture(kernel = Normal(mu = 0, sigma = 1), bandwidth = [0.0298369], sample = \n",
              "0 : [ 500.249 ]), (w = 0.000808885, d = KernelMixture(kernel = Normal(mu = 0, sigma = 1), bandwidth = [0.0298369], sample = \n",
              "0 : [ 500.25 ]), (w = 0.000580548, d = KernelMixture(kernel = Normal(mu = 0, sigma = 1), bandwidth = [0.0298369], sample = \n",
              "0 : [ 500.251 ]), (w = 0.000679179, d = KernelMixture(kernel = Normal(mu = 0, sigma = 1), bandwidth = [0.0298369], sample = \n",
              "0 : [ 500.252 ]), (w = 0.00103476, d = KernelMixture(kernel = Normal(mu = 0, sigma = 1), bandwidth = [0.0298369], sample = \n",
              "0 : [ 500.253 ]), (w = 0.00139407, d = KernelMixture(kernel = Normal(mu = 0, sigma = 1), bandwidth = [0.0298369], sample = \n",
              "0 : [ 500.254 ]), (w = 0.00105791, d = KernelMixture(kernel = Normal(mu = 0, sigma = 1), bandwidth = [0.0298369], sample = \n",
              "0 : [ 500.255 ]), (w = 0.000712684, d = KernelMixture(kernel = Normal(mu = 0, sigma = 1), bandwidth = [0.0298369], sample = \n",
              "0 : [ 500.256 ]), (w = 0.000727575, d = KernelMixture(kernel = Normal(mu = 0, sigma = 1), bandwidth = [0.0298369], sample = \n",
              "0 : [ 500.257 ]), (w = 0.000626096, d = KernelMixture(kernel = Normal(mu = 0, sigma = 1), bandwidth = [0.0298369], sample = \n",
              "0 : [ 500.258 ]), (w = 0.00110649, d = KernelMixture(kernel = Normal(mu = 0, sigma = 1), bandwidth = [0.0298369], sample = \n",
              "0 : [ 500.259 ]), (w = 0.0010575, d = KernelMixture(kernel = Normal(mu = 0, sigma = 1), bandwidth = [0.0298369], sample = \n",
              "0 : [ 500.26 ]), (w = 0.00085037, d = KernelMixture(kernel = Normal(mu = 0, sigma = 1), bandwidth = [0.0298369], sample = \n",
              "0 : [ 500.261 ]), (w = 0.000963201, d = KernelMixture(kernel = Normal(mu = 0, sigma = 1), bandwidth = [0.0298369], sample = \n",
              "0 : [ 500.262 ]), (w = 0.000999305, d = KernelMixture(kernel = Normal(mu = 0, sigma = 1), bandwidth = [0.0298369], sample = \n",
              "0 : [ 500.263 ]), (w = 0.000911431, d = KernelMixture(kernel = Normal(mu = 0, sigma = 1), bandwidth = [0.0298369], sample = \n",
              "0 : [ 500.264 ]), (w = 0.000924848, d = KernelMixture(kernel = Normal(mu = 0, sigma = 1), bandwidth = [0.0298369], sample = \n",
              "0 : [ 500.265 ]), (w = 0.00125101, d = KernelMixture(kernel = Normal(mu = 0, sigma = 1), bandwidth = [0.0298369], sample = \n",
              "0 : [ 500.266 ]), (w = 0.000646827, d = KernelMixture(kernel = Normal(mu = 0, sigma = 1), bandwidth = [0.0298369], sample = \n",
              "0 : [ 500.267 ]), (w = 0.000866939, d = KernelMixture(kernel = Normal(mu = 0, sigma = 1), bandwidth = [0.0298369], sample = \n",
              "0 : [ 500.268 ]), (w = 0.000931785, d = KernelMixture(kernel = Normal(mu = 0, sigma = 1), bandwidth = [0.0298369], sample = \n",
              "0 : [ 500.269 ]), (w = 0.00113342, d = KernelMixture(kernel = Normal(mu = 0, sigma = 1), bandwidth = [0.0298369], sample = \n",
              "0 : [ 500.27 ]), (w = 0.00132804, d = KernelMixture(kernel = Normal(mu = 0, sigma = 1), bandwidth = [0.0298369], sample = \n",
              "0 : [ 500.271 ]), (w = 0.00142188, d = KernelMixture(kernel = Normal(mu = 0, sigma = 1), bandwidth = [0.0298369], sample = \n",
              "0 : [ 500.272 ]), (w = 0.00150521, d = KernelMixture(kernel = Normal(mu = 0, sigma = 1), bandwidth = [0.0298369], sample = \n",
              "0 : [ 500.273 ]), (w = 0.000778136, d = KernelMixture(kernel = Normal(mu = 0, sigma = 1), bandwidth = [0.0298369], sample = \n",
              "0 : [ 500.274 ]), (w = 0.000412791, d = KernelMixture(kernel = Normal(mu = 0, sigma = 1), bandwidth = [0.0298369], sample = \n",
              "0 : [ 500.275 ]), (w = 0.000605286, d = KernelMixture(kernel = Normal(mu = 0, sigma = 1), bandwidth = [0.0298369], sample = \n",
              "0 : [ 500.276 ]), (w = 0.000742957, d = KernelMixture(kernel = Normal(mu = 0, sigma = 1), bandwidth = [0.0298369], sample = \n",
              "0 : [ 500.277 ]), (w = 0.000873817, d = KernelMixture(kernel = Normal(mu = 0, sigma = 1), bandwidth = [0.0298369], sample = \n",
              "0 : [ 500.278 ]), (w = 0.000974801, d = KernelMixture(kernel = Normal(mu = 0, sigma = 1), bandwidth = [0.0298369], sample = \n",
              "0 : [ 500.279 ]), (w = 0.000853344, d = KernelMixture(kernel = Normal(mu = 0, sigma = 1), bandwidth = [0.0298369], sample = \n",
              "0 : [ 500.28 ]), (w = 0.000502079, d = KernelMixture(kernel = Normal(mu = 0, sigma = 1), bandwidth = [0.0298369], sample = \n",
              "0 : [ 500.281 ]), (w = 0.00111923, d = KernelMixture(kernel = Normal(mu = 0, sigma = 1), bandwidth = [0.0298369], sample = \n",
              "0 : [ 500.282 ]), (w = 0.00137976, d = KernelMixture(kernel = Normal(mu = 0, sigma = 1), bandwidth = [0.0298369], sample = \n",
              "0 : [ 500.283 ]), (w = 0.00122367, d = KernelMixture(kernel = Normal(mu = 0, sigma = 1), bandwidth = [0.0298369], sample = \n",
              "0 : [ 500.284 ]), (w = 0.000610025, d = KernelMixture(kernel = Normal(mu = 0, sigma = 1), bandwidth = [0.0298369], sample = \n",
              "0 : [ 500.286 ]), (w = 0.000821757, d = KernelMixture(kernel = Normal(mu = 0, sigma = 1), bandwidth = [0.0298369], sample = \n",
              "0 : [ 500.287 ]), (w = 0.000737795, d = KernelMixture(kernel = Normal(mu = 0, sigma = 1), bandwidth = [0.0298369], sample = \n",
              "0 : [ 500.288 ]), (w = 0.000910277, d = KernelMixture(kernel = Normal(mu = 0, sigma = 1), bandwidth = [0.0298369], sample = \n",
              "0 : [ 500.289 ]), (w = 0.00127073, d = KernelMixture(kernel = Normal(mu = 0, sigma = 1), bandwidth = [0.0298369], sample = \n",
              "0 : [ 500.29 ]), (w = 0.00090116, d = KernelMixture(kernel = Normal(mu = 0, sigma = 1), bandwidth = [0.0298369], sample = \n",
              "0 : [ 500.291 ]), (w = 0.000729811, d = KernelMixture(kernel = Normal(mu = 0, sigma = 1), bandwidth = [0.0298369], sample = \n",
              "0 : [ 500.292 ]), (w = 0.000924218, d = KernelMixture(kernel = Normal(mu = 0, sigma = 1), bandwidth = [0.0298369], sample = \n",
              "0 : [ 500.293 ]), (w = 0.0014577, d = KernelMixture(kernel = Normal(mu = 0, sigma = 1), bandwidth = [0.0298369], sample = \n",
              "0 : [ 500.294 ]), (w = 0.000799128, d = KernelMixture(kernel = Normal(mu = 0, sigma = 1), bandwidth = [0.0298369], sample = \n",
              "0 : [ 500.295 ]), (w = 0.00067915, d = KernelMixture(kernel = Normal(mu = 0, sigma = 1), bandwidth = [0.0298369], sample = \n",
              "0 : [ 500.296 ]), (w = 0.000980407, d = KernelMixture(kernel = Normal(mu = 0, sigma = 1), bandwidth = [0.0298369], sample = \n",
              "0 : [ 500.297 ]), (w = 0.0013323, d = KernelMixture(kernel = Normal(mu = 0, sigma = 1), bandwidth = [0.0298369], sample = \n",
              "0 : [ 500.298 ]), (w = 0.0013865, d = KernelMixture(kernel = Normal(mu = 0, sigma = 1), bandwidth = [0.0298369], sample = \n",
              "0 : [ 500.299 ]), (w = 0.00082549, d = KernelMixture(kernel = Normal(mu = 0, sigma = 1), bandwidth = [0.0298369], sample = \n",
              "0 : [ 500.3 ]), (w = 0.000661825, d = KernelMixture(kernel = Normal(mu = 0, sigma = 1), bandwidth = [0.0298369], sample = \n",
              "0 : [ 500.301 ]), (w = 0.000608203, d = KernelMixture(kernel = Normal(mu = 0, sigma = 1), bandwidth = [0.0298369], sample = \n",
              "0 : [ 500.302 ]), (w = 0.000916417, d = KernelMixture(kernel = Normal(mu = 0, sigma = 1), bandwidth = [0.0298369], sample = \n",
              "0 : [ 500.303 ]), (w = 0.00123693, d = KernelMixture(kernel = Normal(mu = 0, sigma = 1), bandwidth = [0.0298369], sample = \n",
              "0 : [ 500.304 ]), (w = 0.000837081, d = KernelMixture(kernel = Normal(mu = 0, sigma = 1), bandwidth = [0.0298369], sample = \n",
              "0 : [ 500.305 ]), (w = 0.000433214, d = KernelMixture(kernel = Normal(mu = 0, sigma = 1), bandwidth = [0.0298369], sample = \n",
              "0 : [ 500.306 ]), (w = 0.000632536, d = KernelMixture(kernel = Normal(mu = 0, sigma = 1), bandwidth = [0.0298369], sample = \n",
              "0 : [ 500.307 ]), (w = 0.00106092, d = KernelMixture(kernel = Normal(mu = 0, sigma = 1), bandwidth = [0.0298369], sample = \n",
              "0 : [ 500.308 ]), (w = 0.00130312, d = KernelMixture(kernel = Normal(mu = 0, sigma = 1), bandwidth = [0.0298369], sample = \n",
              "0 : [ 500.309 ]), (w = 0.00074155, d = KernelMixture(kernel = Normal(mu = 0, sigma = 1), bandwidth = [0.0298369], sample = \n",
              "0 : [ 500.31 ]), (w = 0.000691588, d = KernelMixture(kernel = Normal(mu = 0, sigma = 1), bandwidth = [0.0298369], sample = \n",
              "0 : [ 500.311 ]), (w = 0.000817916, d = KernelMixture(kernel = Normal(mu = 0, sigma = 1), bandwidth = [0.0298369], sample = \n",
              "0 : [ 500.312 ]), (w = 0.000845602, d = KernelMixture(kernel = Normal(mu = 0, sigma = 1), bandwidth = [0.0298369], sample = \n",
              "0 : [ 500.313 ]), (w = 0.000633248, d = KernelMixture(kernel = Normal(mu = 0, sigma = 1), bandwidth = [0.0298369], sample = \n",
              "0 : [ 500.314 ]), (w = 0.000821057, d = KernelMixture(kernel = Normal(mu = 0, sigma = 1), bandwidth = [0.0298369], sample = \n",
              "0 : [ 500.315 ]), (w = 0.000692096, d = KernelMixture(kernel = Normal(mu = 0, sigma = 1), bandwidth = [0.0298369], sample = \n",
              "0 : [ 500.316 ]), (w = 0.000515923, d = KernelMixture(kernel = Normal(mu = 0, sigma = 1), bandwidth = [0.0298369], sample = \n",
              "0 : [ 500.317 ]), (w = 0.000455434, d = KernelMixture(kernel = Normal(mu = 0, sigma = 1), bandwidth = [0.0298369], sample = \n",
              "0 : [ 500.318 ]), (w = 0.000974047, d = KernelMixture(kernel = Normal(mu = 0, sigma = 1), bandwidth = [0.0298369], sample = \n",
              "0 : [ 500.319 ]), (w = 0.00104118, d = KernelMixture(kernel = Normal(mu = 0, sigma = 1), bandwidth = [0.0298369], sample = \n",
              "0 : [ 500.32 ]), (w = 0.000844826, d = KernelMixture(kernel = Normal(mu = 0, sigma = 1), bandwidth = [0.0298369], sample = \n",
              "0 : [ 500.321 ]), (w = 0.000846695, d = KernelMixture(kernel = Normal(mu = 0, sigma = 1), bandwidth = [0.0298369], sample = \n",
              "0 : [ 500.322 ]), (w = 0.00135781, d = KernelMixture(kernel = Normal(mu = 0, sigma = 1), bandwidth = [0.0298369], sample = \n",
              "0 : [ 500.323 ]), (w = 0.00126412, d = KernelMixture(kernel = Normal(mu = 0, sigma = 1), bandwidth = [0.0298369], sample = \n",
              "0 : [ 500.324 ]), (w = 0.00133037, d = KernelMixture(kernel = Normal(mu = 0, sigma = 1), bandwidth = [0.0298369], sample = \n",
              "0 : [ 500.325 ]), (w = 0.000907476, d = KernelMixture(kernel = Normal(mu = 0, sigma = 1), bandwidth = [0.0298369], sample = \n",
              "0 : [ 500.326 ]), (w = 0.00125624, d = KernelMixture(kernel = Normal(mu = 0, sigma = 1), bandwidth = [0.0298369], sample = \n",
              "0 : [ 500.327 ]), (w = 0.00070675, d = KernelMixture(kernel = Normal(mu = 0, sigma = 1), bandwidth = [0.0298369], sample = \n",
              "0 : [ 500.328 ]), (w = 0.000749189, d = KernelMixture(kernel = Normal(mu = 0, sigma = 1), bandwidth = [0.0298369], sample = \n",
              "0 : [ 500.329 ]), (w = 0.00107044, d = KernelMixture(kernel = Normal(mu = 0, sigma = 1), bandwidth = [0.0298369], sample = \n",
              "0 : [ 500.331 ]), (w = 0.00117206, d = KernelMixture(kernel = Normal(mu = 0, sigma = 1), bandwidth = [0.0298369], sample = \n",
              "0 : [ 500.332 ]), (w = 0.00122972, d = KernelMixture(kernel = Normal(mu = 0, sigma = 1), bandwidth = [0.0298369], sample = \n",
              "0 : [ 500.333 ]), (w = 0.00186207, d = KernelMixture(kernel = Normal(mu = 0, sigma = 1), bandwidth = [0.0298369], sample = \n",
              "0 : [ 500.334 ]), (w = 0.00117061, d = KernelMixture(kernel = Normal(mu = 0, sigma = 1), bandwidth = [0.0298369], sample = \n",
              "0 : [ 500.335 ]), (w = 0.000923885, d = KernelMixture(kernel = Normal(mu = 0, sigma = 1), bandwidth = [0.0298369], sample = \n",
              "0 : [ 500.336 ]), (w = 0.00108502, d = KernelMixture(kernel = Normal(mu = 0, sigma = 1), bandwidth = [0.0298369], sample = \n",
              "0 : [ 500.337 ]), (w = 0.000873967, d = KernelMixture(kernel = Normal(mu = 0, sigma = 1), bandwidth = [0.0298369], sample = \n",
              "0 : [ 500.338 ]), (w = 0.000670287, d = KernelMixture(kernel = Normal(mu = 0, sigma = 1), bandwidth = [0.0298369], sample = \n",
              "0 : [ 500.339 ]), (w = 0.000529726, d = KernelMixture(kernel = Normal(mu = 0, sigma = 1), bandwidth = [0.0298369], sample = \n",
              "0 : [ 500.34 ]), (w = 0.00067681, d = KernelMixture(kernel = Normal(mu = 0, sigma = 1), bandwidth = [0.0298369], sample = \n",
              "0 : [ 500.341 ]), (w = 0.00088837, d = KernelMixture(kernel = Normal(mu = 0, sigma = 1), bandwidth = [0.0298369], sample = \n",
              "0 : [ 500.342 ]), (w = 0.000719849, d = KernelMixture(kernel = Normal(mu = 0, sigma = 1), bandwidth = [0.0298369], sample = \n",
              "0 : [ 500.343 ]), (w = 0.00125957, d = KernelMixture(kernel = Normal(mu = 0, sigma = 1), bandwidth = [0.0298369], sample = \n",
              "0 : [ 500.344 ]), (w = 0.0010726, d = KernelMixture(kernel = Normal(mu = 0, sigma = 1), bandwidth = [0.0298369], sample = \n",
              "0 : [ 500.345 ]), (w = 0.000861525, d = KernelMixture(kernel = Normal(mu = 0, sigma = 1), bandwidth = [0.0298369], sample = \n",
              "0 : [ 500.346 ]), (w = 0.000696848, d = KernelMixture(kernel = Normal(mu = 0, sigma = 1), bandwidth = [0.0298369], sample = \n",
              "0 : [ 500.347 ]), (w = 0.000459329, d = KernelMixture(kernel = Normal(mu = 0, sigma = 1), bandwidth = [0.0298369], sample = \n",
              "0 : [ 500.348 ]), (w = 0.000989482, d = KernelMixture(kernel = Normal(mu = 0, sigma = 1), bandwidth = [0.0298369], sample = \n",
              "0 : [ 500.349 ]), (w = 0.00144986, d = KernelMixture(kernel = Normal(mu = 0, sigma = 1), bandwidth = [0.0298369], sample = \n",
              "0 : [ 500.35 ]), (w = 0.0011681, d = KernelMixture(kernel = Normal(mu = 0, sigma = 1), bandwidth = [0.0298369], sample = \n",
              "0 : [ 500.351 ]), (w = 0.00125503, d = KernelMixture(kernel = Normal(mu = 0, sigma = 1), bandwidth = [0.0298369], sample = \n",
              "0 : [ 500.352 ]), (w = 0.00119496, d = KernelMixture(kernel = Normal(mu = 0, sigma = 1), bandwidth = [0.0298369], sample = \n",
              "0 : [ 500.353 ]), (w = 0.00154046, d = KernelMixture(kernel = Normal(mu = 0, sigma = 1), bandwidth = [0.0298369], sample = \n",
              "0 : [ 500.354 ]), (w = 0.00069774, d = KernelMixture(kernel = Normal(mu = 0, sigma = 1), bandwidth = [0.0298369], sample = \n",
              "0 : [ 500.355 ]), (w = 0.00127422, d = KernelMixture(kernel = Normal(mu = 0, sigma = 1), bandwidth = [0.0298369], sample = \n",
              "0 : [ 500.356 ]), (w = 0.00138312, d = KernelMixture(kernel = Normal(mu = 0, sigma = 1), bandwidth = [0.0298369], sample = \n",
              "0 : [ 500.357 ]), (w = 0.0013383, d = KernelMixture(kernel = Normal(mu = 0, sigma = 1), bandwidth = [0.0298369], sample = \n",
              "0 : [ 500.358 ]), (w = 0.000521713, d = KernelMixture(kernel = Normal(mu = 0, sigma = 1), bandwidth = [0.0298369], sample = \n",
              "0 : [ 500.359 ]), (w = 0.000903393, d = KernelMixture(kernel = Normal(mu = 0, sigma = 1), bandwidth = [0.0298369], sample = \n",
              "0 : [ 500.36 ]), (w = 0.00128973, d = KernelMixture(kernel = Normal(mu = 0, sigma = 1), bandwidth = [0.0298369], sample = \n",
              "0 : [ 500.361 ]), (w = 0.00167695, d = KernelMixture(kernel = Normal(mu = 0, sigma = 1), bandwidth = [0.0298369], sample = \n",
              "0 : [ 500.362 ]), (w = 0.000630501, d = KernelMixture(kernel = Normal(mu = 0, sigma = 1), bandwidth = [0.0298369], sample = \n",
              "0 : [ 500.363 ]), (w = 0.000757457, d = KernelMixture(kernel = Normal(mu = 0, sigma = 1), bandwidth = [0.0298369], sample = \n",
              "0 : [ 500.364 ]), (w = 0.00105744, d = KernelMixture(kernel = Normal(mu = 0, sigma = 1), bandwidth = [0.0298369], sample = \n",
              "0 : [ 500.365 ]), (w = 0.000833324, d = KernelMixture(kernel = Normal(mu = 0, sigma = 1), bandwidth = [0.0298369], sample = \n",
              "0 : [ 500.366 ]), (w = 0.000525985, d = KernelMixture(kernel = Normal(mu = 0, sigma = 1), bandwidth = [0.0298369], sample = \n",
              "0 : [ 500.367 ]), (w = 0.000477335, d = KernelMixture(kernel = Normal(mu = 0, sigma = 1), bandwidth = [0.0298369], sample = \n",
              "0 : [ 500.368 ]), (w = 0.000356593, d = KernelMixture(kernel = Normal(mu = 0, sigma = 1), bandwidth = [0.0298369], sample = \n",
              "0 : [ 500.369 ]), (w = 0.000952125, d = KernelMixture(kernel = Normal(mu = 0, sigma = 1), bandwidth = [0.0298369], sample = \n",
              "0 : [ 500.37 ]), (w = 0.000739606, d = KernelMixture(kernel = Normal(mu = 0, sigma = 1), bandwidth = [0.0298369], sample = \n",
              "0 : [ 500.371 ]), (w = 0.000754723, d = KernelMixture(kernel = Normal(mu = 0, sigma = 1), bandwidth = [0.0298369], sample = \n",
              "0 : [ 500.372 ]), (w = 0.000823475, d = KernelMixture(kernel = Normal(mu = 0, sigma = 1), bandwidth = [0.0298369], sample = \n",
              "0 : [ 500.373 ]), (w = 0.00108473, d = KernelMixture(kernel = Normal(mu = 0, sigma = 1), bandwidth = [0.0298369], sample = \n",
              "0 : [ 500.374 ]), (w = 0.00120508, d = KernelMixture(kernel = Normal(mu = 0, sigma = 1), bandwidth = [0.0298369], sample = \n",
              "0 : [ 500.376 ]), (w = 0.00100284, d = KernelMixture(kernel = Normal(mu = 0, sigma = 1), bandwidth = [0.0298369], sample = \n",
              "0 : [ 500.377 ]), (w = 0.00127885, d = KernelMixture(kernel = Normal(mu = 0, sigma = 1), bandwidth = [0.0298369], sample = \n",
              "0 : [ 500.378 ]), (w = 0.00152351, d = KernelMixture(kernel = Normal(mu = 0, sigma = 1), bandwidth = [0.0298369], sample = \n",
              "0 : [ 500.379 ]), (w = 0.000904972, d = KernelMixture(kernel = Normal(mu = 0, sigma = 1), bandwidth = [0.0298369], sample = \n",
              "0 : [ 500.38 ]), (w = 0.00124249, d = KernelMixture(kernel = Normal(mu = 0, sigma = 1), bandwidth = [0.0298369], sample = \n",
              "0 : [ 500.381 ]), (w = 0.000726301, d = KernelMixture(kernel = Normal(mu = 0, sigma = 1), bandwidth = [0.0298369], sample = \n",
              "0 : [ 500.382 ]), (w = 0.000823438, d = KernelMixture(kernel = Normal(mu = 0, sigma = 1), bandwidth = [0.0298369], sample = \n",
              "0 : [ 500.383 ]), (w = 0.00066019, d = KernelMixture(kernel = Normal(mu = 0, sigma = 1), bandwidth = [0.0298369], sample = \n",
              "0 : [ 500.384 ]), (w = 0.00100864, d = KernelMixture(kernel = Normal(mu = 0, sigma = 1), bandwidth = [0.0298369], sample = \n",
              "0 : [ 500.385 ]), (w = 0.000891553, d = KernelMixture(kernel = Normal(mu = 0, sigma = 1), bandwidth = [0.0298369], sample = \n",
              "0 : [ 500.386 ]), (w = 0.00107729, d = KernelMixture(kernel = Normal(mu = 0, sigma = 1), bandwidth = [0.0298369], sample = \n",
              "0 : [ 500.387 ]), (w = 0.00115331, d = KernelMixture(kernel = Normal(mu = 0, sigma = 1), bandwidth = [0.0298369], sample = \n",
              "0 : [ 500.388 ]), (w = 0.000939263, d = KernelMixture(kernel = Normal(mu = 0, sigma = 1), bandwidth = [0.0298369], sample = \n",
              "0 : [ 500.389 ]), (w = 0.00126656, d = KernelMixture(kernel = Normal(mu = 0, sigma = 1), bandwidth = [0.0298369], sample = \n",
              "0 : [ 500.39 ]), (w = 0.00120733, d = KernelMixture(kernel = Normal(mu = 0, sigma = 1), bandwidth = [0.0298369], sample = \n",
              "0 : [ 500.391 ]), (w = 0.000609593, d = KernelMixture(kernel = Normal(mu = 0, sigma = 1), bandwidth = [0.0298369], sample = \n",
              "0 : [ 500.392 ]), (w = 0.000829005, d = KernelMixture(kernel = Normal(mu = 0, sigma = 1), bandwidth = [0.0298369], sample = \n",
              "0 : [ 500.393 ]), (w = 0.00103215, d = KernelMixture(kernel = Normal(mu = 0, sigma = 1), bandwidth = [0.0298369], sample = \n",
              "0 : [ 500.394 ]), (w = 0.00103689, d = KernelMixture(kernel = Normal(mu = 0, sigma = 1), bandwidth = [0.0298369], sample = \n",
              "0 : [ 500.395 ]), (w = 0.00110062, d = KernelMixture(kernel = Normal(mu = 0, sigma = 1), bandwidth = [0.0298369], sample = \n",
              "0 : [ 500.396 ]), (w = 0.000825523, d = KernelMixture(kernel = Normal(mu = 0, sigma = 1), bandwidth = [0.0298369], sample = \n",
              "0 : [ 500.397 ]), (w = 0.000945658, d = KernelMixture(kernel = Normal(mu = 0, sigma = 1), bandwidth = [0.0298369], sample = \n",
              "0 : [ 500.398 ]), (w = 0.000542168, d = KernelMixture(kernel = Normal(mu = 0, sigma = 1), bandwidth = [0.0298369], sample = \n",
              "0 : [ 500.399 ]), (w = 0.000783756, d = KernelMixture(kernel = Normal(mu = 0, sigma = 1), bandwidth = [0.0298369], sample = \n",
              "0 : [ 500.4 ]), (w = 0.00103192, d = KernelMixture(kernel = Normal(mu = 0, sigma = 1), bandwidth = [0.0298369], sample = \n",
              "0 : [ 500.401 ]), (w = 0.00100647, d = KernelMixture(kernel = Normal(mu = 0, sigma = 1), bandwidth = [0.0298369], sample = \n",
              "0 : [ 500.402 ]), (w = 0.00142369, d = KernelMixture(kernel = Normal(mu = 0, sigma = 1), bandwidth = [0.0298369], sample = \n",
              "0 : [ 500.403 ]), (w = 0.00144978, d = KernelMixture(kernel = Normal(mu = 0, sigma = 1), bandwidth = [0.0298369], sample = \n",
              "0 : [ 500.404 ]), (w = 0.00130476, d = KernelMixture(kernel = Normal(mu = 0, sigma = 1), bandwidth = [0.0298369], sample = \n",
              "0 : [ 500.405 ]), (w = 0.000973461, d = KernelMixture(kernel = Normal(mu = 0, sigma = 1), bandwidth = [0.0298369], sample = \n",
              "0 : [ 500.406 ]), (w = 0.00129387, d = KernelMixture(kernel = Normal(mu = 0, sigma = 1), bandwidth = [0.0298369], sample = \n",
              "0 : [ 500.407 ]), (w = 0.0009802, d = KernelMixture(kernel = Normal(mu = 0, sigma = 1), bandwidth = [0.0298369], sample = \n",
              "0 : [ 500.408 ]), (w = 0.000924144, d = KernelMixture(kernel = Normal(mu = 0, sigma = 1), bandwidth = [0.0298369], sample = \n",
              "0 : [ 500.409 ]), (w = 0.00115538, d = KernelMixture(kernel = Normal(mu = 0, sigma = 1), bandwidth = [0.0298369], sample = \n",
              "0 : [ 500.41 ]), (w = 0.00156352, d = KernelMixture(kernel = Normal(mu = 0, sigma = 1), bandwidth = [0.0298369], sample = \n",
              "0 : [ 500.411 ]), (w = 0.00132763, d = KernelMixture(kernel = Normal(mu = 0, sigma = 1), bandwidth = [0.0298369], sample = \n",
              "0 : [ 500.412 ]), (w = 0.00125942, d = KernelMixture(kernel = Normal(mu = 0, sigma = 1), bandwidth = [0.0298369], sample = \n",
              "0 : [ 500.413 ]), (w = 0.00103412, d = KernelMixture(kernel = Normal(mu = 0, sigma = 1), bandwidth = [0.0298369], sample = \n",
              "0 : [ 500.414 ]), (w = 0.00101198, d = KernelMixture(kernel = Normal(mu = 0, sigma = 1), bandwidth = [0.0298369], sample = \n",
              "0 : [ 500.415 ]), (w = 0.000994025, d = KernelMixture(kernel = Normal(mu = 0, sigma = 1), bandwidth = [0.0298369], sample = \n",
              "0 : [ 500.416 ]), (w = 0.00069804, d = KernelMixture(kernel = Normal(mu = 0, sigma = 1), bandwidth = [0.0298369], sample = \n",
              "0 : [ 500.417 ]), (w = 0.000617092, d = KernelMixture(kernel = Normal(mu = 0, sigma = 1), bandwidth = [0.0298369], sample = \n",
              "0 : [ 500.418 ]), (w = 0.00118274, d = KernelMixture(kernel = Normal(mu = 0, sigma = 1), bandwidth = [0.0298369], sample = \n",
              "0 : [ 500.419 ]), (w = 0.000931348, d = KernelMixture(kernel = Normal(mu = 0, sigma = 1), bandwidth = [0.0298369], sample = \n",
              "0 : [ 500.421 ]), (w = 0.00144219, d = KernelMixture(kernel = Normal(mu = 0, sigma = 1), bandwidth = [0.0298369], sample = \n",
              "0 : [ 500.422 ]), (w = 0.0010907, d = KernelMixture(kernel = Normal(mu = 0, sigma = 1), bandwidth = [0.0298369], sample = \n",
              "0 : [ 500.423 ]), (w = 0.000594862, d = KernelMixture(kernel = Normal(mu = 0, sigma = 1), bandwidth = [0.0298369], sample = \n",
              "0 : [ 500.424 ]), (w = 0.000866659, d = KernelMixture(kernel = Normal(mu = 0, sigma = 1), bandwidth = [0.0298369], sample = \n",
              "0 : [ 500.425 ]), (w = 0.00118397, d = KernelMixture(kernel = Normal(mu = 0, sigma = 1), bandwidth = [0.0298369], sample = \n",
              "0 : [ 500.426 ]), (w = 0.000796735, d = KernelMixture(kernel = Normal(mu = 0, sigma = 1), bandwidth = [0.0298369], sample = \n",
              "0 : [ 500.427 ]), (w = 0.00105039, d = KernelMixture(kernel = Normal(mu = 0, sigma = 1), bandwidth = [0.0298369], sample = \n",
              "0 : [ 500.428 ]), (w = 0.00101406, d = KernelMixture(kernel = Normal(mu = 0, sigma = 1), bandwidth = [0.0298369], sample = \n",
              "0 : [ 500.429 ]), (w = 0.00105275, d = KernelMixture(kernel = Normal(mu = 0, sigma = 1), bandwidth = [0.0298369], sample = \n",
              "0 : [ 500.43 ]), (w = 0.00107726, d = KernelMixture(kernel = Normal(mu = 0, sigma = 1), bandwidth = [0.0298369], sample = \n",
              "0 : [ 500.431 ]), (w = 0.00102885, d = KernelMixture(kernel = Normal(mu = 0, sigma = 1), bandwidth = [0.0298369], sample = \n",
              "0 : [ 500.432 ]), (w = 0.000859586, d = KernelMixture(kernel = Normal(mu = 0, sigma = 1), bandwidth = [0.0298369], sample = \n",
              "0 : [ 500.433 ]), (w = 0.00119421, d = KernelMixture(kernel = Normal(mu = 0, sigma = 1), bandwidth = [0.0298369], sample = \n",
              "0 : [ 500.434 ]), (w = 0.000635267, d = KernelMixture(kernel = Normal(mu = 0, sigma = 1), bandwidth = [0.0298369], sample = \n",
              "0 : [ 500.435 ]), (w = 0.000934146, d = KernelMixture(kernel = Normal(mu = 0, sigma = 1), bandwidth = [0.0298369], sample = \n",
              "0 : [ 500.436 ]), (w = 0.00115448, d = KernelMixture(kernel = Normal(mu = 0, sigma = 1), bandwidth = [0.0298369], sample = \n",
              "0 : [ 500.437 ]), (w = 0.00126406, d = KernelMixture(kernel = Normal(mu = 0, sigma = 1), bandwidth = [0.0298369], sample = \n",
              "0 : [ 500.438 ]), (w = 0.00117317, d = KernelMixture(kernel = Normal(mu = 0, sigma = 1), bandwidth = [0.0298369], sample = \n",
              "0 : [ 500.439 ]), (w = 0.00130025, d = KernelMixture(kernel = Normal(mu = 0, sigma = 1), bandwidth = [0.0298369], sample = \n",
              "0 : [ 500.44 ]), (w = 0.00142159, d = KernelMixture(kernel = Normal(mu = 0, sigma = 1), bandwidth = [0.0298369], sample = \n",
              "0 : [ 500.441 ]), (w = 0.000814797, d = KernelMixture(kernel = Normal(mu = 0, sigma = 1), bandwidth = [0.0298369], sample = \n",
              "0 : [ 500.442 ]), (w = 0.00100715, d = KernelMixture(kernel = Normal(mu = 0, sigma = 1), bandwidth = [0.0298369], sample = \n",
              "0 : [ 500.443 ]), (w = 0.00112004, d = KernelMixture(kernel = Normal(mu = 0, sigma = 1), bandwidth = [0.0298369], sample = \n",
              "0 : [ 500.444 ]), (w = 0.000988677, d = KernelMixture(kernel = Normal(mu = 0, sigma = 1), bandwidth = [0.0298369], sample = \n",
              "0 : [ 500.445 ]), (w = 0.0012529, d = KernelMixture(kernel = Normal(mu = 0, sigma = 1), bandwidth = [0.0298369], sample = \n",
              "0 : [ 500.446 ]), (w = 0.000853494, d = KernelMixture(kernel = Normal(mu = 0, sigma = 1), bandwidth = [0.0298369], sample = \n",
              "0 : [ 500.447 ]), (w = 0.000781768, d = KernelMixture(kernel = Normal(mu = 0, sigma = 1), bandwidth = [0.0298369], sample = \n",
              "0 : [ 500.448 ]), (w = 0.00120346, d = KernelMixture(kernel = Normal(mu = 0, sigma = 1), bandwidth = [0.0298369], sample = \n",
              "0 : [ 500.449 ]), (w = 0.000805515, d = KernelMixture(kernel = Normal(mu = 0, sigma = 1), bandwidth = [0.0298369], sample = \n",
              "0 : [ 500.45 ]), (w = 0.00124515, d = KernelMixture(kernel = Normal(mu = 0, sigma = 1), bandwidth = [0.0298369], sample = \n",
              "0 : [ 500.451 ]), (w = 0.00204395, d = KernelMixture(kernel = Normal(mu = 0, sigma = 1), bandwidth = [0.0298369], sample = \n",
              "0 : [ 500.452 ]), (w = 0.00204251, d = KernelMixture(kernel = Normal(mu = 0, sigma = 1), bandwidth = [0.0298369], sample = \n",
              "0 : [ 500.453 ]), (w = 0.0017308, d = KernelMixture(kernel = Normal(mu = 0, sigma = 1), bandwidth = [0.0298369], sample = \n",
              "0 : [ 500.454 ]), (w = 0.00166161, d = KernelMixture(kernel = Normal(mu = 0, sigma = 1), bandwidth = [0.0298369], sample = \n",
              "0 : [ 500.455 ]), (w = 0.00157975, d = KernelMixture(kernel = Normal(mu = 0, sigma = 1), bandwidth = [0.0298369], sample = \n",
              "0 : [ 500.456 ]), (w = 0.000779349, d = KernelMixture(kernel = Normal(mu = 0, sigma = 1), bandwidth = [0.0298369], sample = \n",
              "0 : [ 500.457 ]), (w = 0.00145008, d = KernelMixture(kernel = Normal(mu = 0, sigma = 1), bandwidth = [0.0298369], sample = \n",
              "0 : [ 500.458 ]), (w = 0.000849372, d = KernelMixture(kernel = Normal(mu = 0, sigma = 1), bandwidth = [0.0298369], sample = \n",
              "0 : [ 500.459 ]), (w = 0.000645246, d = KernelMixture(kernel = Normal(mu = 0, sigma = 1), bandwidth = [0.0298369], sample = \n",
              "0 : [ 500.46 ]), (w = 0.000519837, d = KernelMixture(kernel = Normal(mu = 0, sigma = 1), bandwidth = [0.0298369], sample = \n",
              "0 : [ 500.461 ]), (w = 0.000766048, d = KernelMixture(kernel = Normal(mu = 0, sigma = 1), bandwidth = [0.0298369], sample = \n",
              "0 : [ 500.462 ]), (w = 0.000772773, d = KernelMixture(kernel = Normal(mu = 0, sigma = 1), bandwidth = [0.0298369], sample = \n",
              "0 : [ 500.463 ]), (w = 0.000904764, d = KernelMixture(kernel = Normal(mu = 0, sigma = 1), bandwidth = [0.0298369], sample = \n",
              "0 : [ 500.464 ]), (w = 0.00131371, d = KernelMixture(kernel = Normal(mu = 0, sigma = 1), bandwidth = [0.0298369], sample = \n",
              "0 : [ 500.466 ]), (w = 0.00133802, d = KernelMixture(kernel = Normal(mu = 0, sigma = 1), bandwidth = [0.0298369], sample = \n",
              "0 : [ 500.467 ]), (w = 0.0013355, d = KernelMixture(kernel = Normal(mu = 0, sigma = 1), bandwidth = [0.0298369], sample = \n",
              "0 : [ 500.468 ]), (w = 0.000753725, d = KernelMixture(kernel = Normal(mu = 0, sigma = 1), bandwidth = [0.0298369], sample = \n",
              "0 : [ 500.469 ]), (w = 0.000606549, d = KernelMixture(kernel = Normal(mu = 0, sigma = 1), bandwidth = [0.0298369], sample = \n",
              "0 : [ 500.47 ]), (w = 0.000815436, d = KernelMixture(kernel = Normal(mu = 0, sigma = 1), bandwidth = [0.0298369], sample = \n",
              "0 : [ 500.471 ]), (w = 0.000436941, d = KernelMixture(kernel = Normal(mu = 0, sigma = 1), bandwidth = [0.0298369], sample = \n",
              "0 : [ 500.472 ]), (w = 0.000721688, d = KernelMixture(kernel = Normal(mu = 0, sigma = 1), bandwidth = [0.0298369], sample = \n",
              "0 : [ 500.473 ]), (w = 0.00118393, d = KernelMixture(kernel = Normal(mu = 0, sigma = 1), bandwidth = [0.0298369], sample = \n",
              "0 : [ 500.474 ]), (w = 0.00175946, d = KernelMixture(kernel = Normal(mu = 0, sigma = 1), bandwidth = [0.0298369], sample = \n",
              "0 : [ 500.475 ]), (w = 0.00162027, d = KernelMixture(kernel = Normal(mu = 0, sigma = 1), bandwidth = [0.0298369], sample = \n",
              "0 : [ 500.476 ]), (w = 0.00195365, d = KernelMixture(kernel = Normal(mu = 0, sigma = 1), bandwidth = [0.0298369], sample = \n",
              "0 : [ 500.477 ]), (w = 0.00159635, d = KernelMixture(kernel = Normal(mu = 0, sigma = 1), bandwidth = [0.0298369], sample = \n",
              "0 : [ 500.478 ]), (w = 0.00129026, d = KernelMixture(kernel = Normal(mu = 0, sigma = 1), bandwidth = [0.0298369], sample = \n",
              "0 : [ 500.479 ]), (w = 0.00130576, d = KernelMixture(kernel = Normal(mu = 0, sigma = 1), bandwidth = [0.0298369], sample = \n",
              "0 : [ 500.48 ]), (w = 0.00122443, d = KernelMixture(kernel = Normal(mu = 0, sigma = 1), bandwidth = [0.0298369], sample = \n",
              "0 : [ 500.481 ]), (w = 0.00128352, d = KernelMixture(kernel = Normal(mu = 0, sigma = 1), bandwidth = [0.0298369], sample = \n",
              "0 : [ 500.482 ]), (w = 0.00108859, d = KernelMixture(kernel = Normal(mu = 0, sigma = 1), bandwidth = [0.0298369], sample = \n",
              "0 : [ 500.483 ]), (w = 0.00124203, d = KernelMixture(kernel = Normal(mu = 0, sigma = 1), bandwidth = [0.0298369], sample = \n",
              "0 : [ 500.484 ]), (w = 0.000630354, d = KernelMixture(kernel = Normal(mu = 0, sigma = 1), bandwidth = [0.0298369], sample = \n",
              "0 : [ 500.485 ]), (w = 0.00119534, d = KernelMixture(kernel = Normal(mu = 0, sigma = 1), bandwidth = [0.0298369], sample = \n",
              "0 : [ 500.486 ]), (w = 0.000889493, d = KernelMixture(kernel = Normal(mu = 0, sigma = 1), bandwidth = [0.0298369], sample = \n",
              "0 : [ 500.487 ]), (w = 0.000498152, d = KernelMixture(kernel = Normal(mu = 0, sigma = 1), bandwidth = [0.0298369], sample = \n",
              "0 : [ 500.488 ]), (w = 0.000557664, d = KernelMixture(kernel = Normal(mu = 0, sigma = 1), bandwidth = [0.0298369], sample = \n",
              "0 : [ 500.489 ]), (w = 0.000513287, d = KernelMixture(kernel = Normal(mu = 0, sigma = 1), bandwidth = [0.0298369], sample = \n",
              "0 : [ 500.49 ]), (w = 0.000311939, d = KernelMixture(kernel = Normal(mu = 0, sigma = 1), bandwidth = [0.0298369], sample = \n",
              "0 : [ 500.491 ]), (w = 0.000676029, d = KernelMixture(kernel = Normal(mu = 0, sigma = 1), bandwidth = [0.0298369], sample = \n",
              "0 : [ 500.492 ]), (w = 0.00113005, d = KernelMixture(kernel = Normal(mu = 0, sigma = 1), bandwidth = [0.0298369], sample = \n",
              "0 : [ 500.493 ]), (w = 0.00128649, d = KernelMixture(kernel = Normal(mu = 0, sigma = 1), bandwidth = [0.0298369], sample = \n",
              "0 : [ 500.494 ]), (w = 0.000653711, d = KernelMixture(kernel = Normal(mu = 0, sigma = 1), bandwidth = [0.0298369], sample = \n",
              "0 : [ 500.495 ]), (w = 0.000568876, d = KernelMixture(kernel = Normal(mu = 0, sigma = 1), bandwidth = [0.0298369], sample = \n",
              "0 : [ 500.496 ]), (w = 0.000651734, d = KernelMixture(kernel = Normal(mu = 0, sigma = 1), bandwidth = [0.0298369], sample = \n",
              "0 : [ 500.497 ]), (w = 0.00115818, d = KernelMixture(kernel = Normal(mu = 0, sigma = 1), bandwidth = [0.0298369], sample = \n",
              "0 : [ 500.498 ]), (w = 0.00113487, d = KernelMixture(kernel = Normal(mu = 0, sigma = 1), bandwidth = [0.0298369], sample = \n",
              "0 : [ 500.499 ]), (w = 0.00115945, d = KernelMixture(kernel = Normal(mu = 0, sigma = 1), bandwidth = [0.0298369], sample = \n",
              "0 : [ 500.5 ]), (w = 0.000897062, d = KernelMixture(kernel = Normal(mu = 0, sigma = 1), bandwidth = [0.0298369], sample = \n",
              "0 : [ 500.501 ]), (w = 0.00113584, d = KernelMixture(kernel = Normal(mu = 0, sigma = 1), bandwidth = [0.0298369], sample = \n",
              "0 : [ 500.502 ]), (w = 0.000951174, d = KernelMixture(kernel = Normal(mu = 0, sigma = 1), bandwidth = [0.0298369], sample = \n",
              "0 : [ 500.503 ]), (w = 0.000941764, d = KernelMixture(kernel = Normal(mu = 0, sigma = 1), bandwidth = [0.0298369], sample = \n",
              "0 : [ 500.504 ]), (w = 0.00108534, d = KernelMixture(kernel = Normal(mu = 0, sigma = 1), bandwidth = [0.0298369], sample = \n",
              "0 : [ 500.505 ]), (w = 0.00109706, d = KernelMixture(kernel = Normal(mu = 0, sigma = 1), bandwidth = [0.0298369], sample = \n",
              "0 : [ 500.506 ]), (w = 0.000880232, d = KernelMixture(kernel = Normal(mu = 0, sigma = 1), bandwidth = [0.0298369], sample = \n",
              "0 : [ 500.507 ]), (w = 0.000668195, d = KernelMixture(kernel = Normal(mu = 0, sigma = 1), bandwidth = [0.0298369], sample = \n",
              "0 : [ 500.508 ]), (w = 0.000673191, d = KernelMixture(kernel = Normal(mu = 0, sigma = 1), bandwidth = [0.0298369], sample = \n",
              "0 : [ 500.509 ]), (w = 0.000588873, d = KernelMixture(kernel = Normal(mu = 0, sigma = 1), bandwidth = [0.0298369], sample = \n",
              "0 : [ 500.51 ]), (w = 0.00118497, d = KernelMixture(kernel = Normal(mu = 0, sigma = 1), bandwidth = [0.0298369], sample = \n",
              "0 : [ 500.512 ]), (w = 0.00121758, d = KernelMixture(kernel = Normal(mu = 0, sigma = 1), bandwidth = [0.0298369], sample = \n",
              "0 : [ 500.513 ]), (w = 0.000915026, d = KernelMixture(kernel = Normal(mu = 0, sigma = 1), bandwidth = [0.0298369], sample = \n",
              "0 : [ 500.514 ]), (w = 0.00106735, d = KernelMixture(kernel = Normal(mu = 0, sigma = 1), bandwidth = [0.0298369], sample = \n",
              "0 : [ 500.515 ]), (w = 0.000768584, d = KernelMixture(kernel = Normal(mu = 0, sigma = 1), bandwidth = [0.0298369], sample = \n",
              "0 : [ 500.516 ]), (w = 0.00107581, d = KernelMixture(kernel = Normal(mu = 0, sigma = 1), bandwidth = [0.0298369], sample = \n",
              "0 : [ 500.517 ]), (w = 0.000839753, d = KernelMixture(kernel = Normal(mu = 0, sigma = 1), bandwidth = [0.0298369], sample = \n",
              "0 : [ 500.518 ]), (w = 0.000770913, d = KernelMixture(kernel = Normal(mu = 0, sigma = 1), bandwidth = [0.0298369], sample = \n",
              "0 : [ 500.519 ]), (w = 0.000594298, d = KernelMixture(kernel = Normal(mu = 0, sigma = 1), bandwidth = [0.0298369], sample = \n",
              "0 : [ 500.52 ]), (w = 0.000879746, d = KernelMixture(kernel = Normal(mu = 0, sigma = 1), bandwidth = [0.0298369], sample = \n",
              "0 : [ 500.521 ]), (w = 0.00106818, d = KernelMixture(kernel = Normal(mu = 0, sigma = 1), bandwidth = [0.0298369], sample = \n",
              "0 : [ 500.522 ]), (w = 0.000750758, d = KernelMixture(kernel = Normal(mu = 0, sigma = 1), bandwidth = [0.0298369], sample = \n",
              "0 : [ 500.523 ]), (w = 0.00065294, d = KernelMixture(kernel = Normal(mu = 0, sigma = 1), bandwidth = [0.0298369], sample = \n",
              "0 : [ 500.524 ]), (w = 0.000807281, d = KernelMixture(kernel = Normal(mu = 0, sigma = 1), bandwidth = [0.0298369], sample = \n",
              "0 : [ 500.525 ]), (w = 0.000688932, d = KernelMixture(kernel = Normal(mu = 0, sigma = 1), bandwidth = [0.0298369], sample = \n",
              "0 : [ 500.526 ]), (w = 0.000925035, d = KernelMixture(kernel = Normal(mu = 0, sigma = 1), bandwidth = [0.0298369], sample = \n",
              "0 : [ 500.527 ]), (w = 0.00101181, d = KernelMixture(kernel = Normal(mu = 0, sigma = 1), bandwidth = [0.0298369], sample = \n",
              "0 : [ 500.528 ]), (w = 0.00126498, d = KernelMixture(kernel = Normal(mu = 0, sigma = 1), bandwidth = [0.0298369], sample = \n",
              "0 : [ 500.529 ]), (w = 0.00108179, d = KernelMixture(kernel = Normal(mu = 0, sigma = 1), bandwidth = [0.0298369], sample = \n",
              "0 : [ 500.53 ]), (w = 0.000985514, d = KernelMixture(kernel = Normal(mu = 0, sigma = 1), bandwidth = [0.0298369], sample = \n",
              "0 : [ 500.531 ]), (w = 0.000971909, d = KernelMixture(kernel = Normal(mu = 0, sigma = 1), bandwidth = [0.0298369], sample = \n",
              "0 : [ 500.532 ]), (w = 0.000836343, d = KernelMixture(kernel = Normal(mu = 0, sigma = 1), bandwidth = [0.0298369], sample = \n",
              "0 : [ 500.533 ]), (w = 0.00124761, d = KernelMixture(kernel = Normal(mu = 0, sigma = 1), bandwidth = [0.0298369], sample = \n",
              "0 : [ 500.534 ]), (w = 0.00112592, d = KernelMixture(kernel = Normal(mu = 0, sigma = 1), bandwidth = [0.0298369], sample = \n",
              "0 : [ 500.535 ]), (w = 0.00105777, d = KernelMixture(kernel = Normal(mu = 0, sigma = 1), bandwidth = [0.0298369], sample = \n",
              "0 : [ 500.536 ]), (w = 0.00102436, d = KernelMixture(kernel = Normal(mu = 0, sigma = 1), bandwidth = [0.0298369], sample = \n",
              "0 : [ 500.537 ]), (w = 0.000972914, d = KernelMixture(kernel = Normal(mu = 0, sigma = 1), bandwidth = [0.0298369], sample = \n",
              "0 : [ 500.538 ]), (w = 0.000976115, d = KernelMixture(kernel = Normal(mu = 0, sigma = 1), bandwidth = [0.0298369], sample = \n",
              "0 : [ 500.539 ]), (w = 0.000757549, d = KernelMixture(kernel = Normal(mu = 0, sigma = 1), bandwidth = [0.0298369], sample = \n",
              "0 : [ 500.54 ]), (w = 0.00071984, d = KernelMixture(kernel = Normal(mu = 0, sigma = 1), bandwidth = [0.0298369], sample = \n",
              "0 : [ 500.541 ]), (w = 0.000947113, d = KernelMixture(kernel = Normal(mu = 0, sigma = 1), bandwidth = [0.0298369], sample = \n",
              "0 : [ 500.542 ]), (w = 0.000964224, d = KernelMixture(kernel = Normal(mu = 0, sigma = 1), bandwidth = [0.0298369], sample = \n",
              "0 : [ 500.543 ]), (w = 0.00125199, d = KernelMixture(kernel = Normal(mu = 0, sigma = 1), bandwidth = [0.0298369], sample = \n",
              "0 : [ 500.544 ]), (w = 0.00112839, d = KernelMixture(kernel = Normal(mu = 0, sigma = 1), bandwidth = [0.0298369], sample = \n",
              "0 : [ 500.545 ]), (w = 0.00129353, d = KernelMixture(kernel = Normal(mu = 0, sigma = 1), bandwidth = [0.0298369], sample = \n",
              "0 : [ 500.546 ]), (w = 0.000998639, d = KernelMixture(kernel = Normal(mu = 0, sigma = 1), bandwidth = [0.0298369], sample = \n",
              "0 : [ 500.547 ]), (w = 0.00134825, d = KernelMixture(kernel = Normal(mu = 0, sigma = 1), bandwidth = [0.0298369], sample = \n",
              "0 : [ 500.548 ]), (w = 0.00103126, d = KernelMixture(kernel = Normal(mu = 0, sigma = 1), bandwidth = [0.0298369], sample = \n",
              "0 : [ 500.549 ]), (w = 0.00059955, d = KernelMixture(kernel = Normal(mu = 0, sigma = 1), bandwidth = [0.0298369], sample = \n",
              "0 : [ 500.55 ]), (w = 0.00085411, d = KernelMixture(kernel = Normal(mu = 0, sigma = 1), bandwidth = [0.0298369], sample = \n",
              "0 : [ 500.551 ]), (w = 0.000663064, d = KernelMixture(kernel = Normal(mu = 0, sigma = 1), bandwidth = [0.0298369], sample = \n",
              "0 : [ 500.552 ]), (w = 0.000987693, d = KernelMixture(kernel = Normal(mu = 0, sigma = 1), bandwidth = [0.0298369], sample = \n",
              "0 : [ 500.553 ]), (w = 0.00111577, d = KernelMixture(kernel = Normal(mu = 0, sigma = 1), bandwidth = [0.0298369], sample = \n",
              "0 : [ 500.554 ]), (w = 0.00117755, d = KernelMixture(kernel = Normal(mu = 0, sigma = 1), bandwidth = [0.0298369], sample = \n",
              "0 : [ 500.555 ]), (w = 0.00149398, d = KernelMixture(kernel = Normal(mu = 0, sigma = 1), bandwidth = [0.0298369], sample = \n",
              "0 : [ 500.557 ]), (w = 0.00093006, d = KernelMixture(kernel = Normal(mu = 0, sigma = 1), bandwidth = [0.0298369], sample = \n",
              "0 : [ 500.558 ]), (w = 0.0010101, d = KernelMixture(kernel = Normal(mu = 0, sigma = 1), bandwidth = [0.0298369], sample = \n",
              "0 : [ 500.559 ]), (w = 0.00121871, d = KernelMixture(kernel = Normal(mu = 0, sigma = 1), bandwidth = [0.0298369], sample = \n",
              "0 : [ 500.56 ]), (w = 0.000819963, d = KernelMixture(kernel = Normal(mu = 0, sigma = 1), bandwidth = [0.0298369], sample = \n",
              "0 : [ 500.561 ]), (w = 0.00100209, d = KernelMixture(kernel = Normal(mu = 0, sigma = 1), bandwidth = [0.0298369], sample = \n",
              "0 : [ 500.562 ]), (w = 0.00104784, d = KernelMixture(kernel = Normal(mu = 0, sigma = 1), bandwidth = [0.0298369], sample = \n",
              "0 : [ 500.563 ]), (w = 0.000837044, d = KernelMixture(kernel = Normal(mu = 0, sigma = 1), bandwidth = [0.0298369], sample = \n",
              "0 : [ 500.564 ]), (w = 0.00100071, d = KernelMixture(kernel = Normal(mu = 0, sigma = 1), bandwidth = [0.0298369], sample = \n",
              "0 : [ 500.565 ]), (w = 0.00111753, d = KernelMixture(kernel = Normal(mu = 0, sigma = 1), bandwidth = [0.0298369], sample = \n",
              "0 : [ 500.566 ]), (w = 0.000577681, d = KernelMixture(kernel = Normal(mu = 0, sigma = 1), bandwidth = [0.0298369], sample = \n",
              "0 : [ 500.567 ]), (w = 0.000871788, d = KernelMixture(kernel = Normal(mu = 0, sigma = 1), bandwidth = [0.0298369], sample = \n",
              "0 : [ 500.568 ]), (w = 0.00127654, d = KernelMixture(kernel = Normal(mu = 0, sigma = 1), bandwidth = [0.0298369], sample = \n",
              "0 : [ 500.569 ]), (w = 0.00153281, d = KernelMixture(kernel = Normal(mu = 0, sigma = 1), bandwidth = [0.0298369], sample = \n",
              "0 : [ 500.57 ]), (w = 0.0015351, d = KernelMixture(kernel = Normal(mu = 0, sigma = 1), bandwidth = [0.0298369], sample = \n",
              "0 : [ 500.571 ]), (w = 0.00109589, d = KernelMixture(kernel = Normal(mu = 0, sigma = 1), bandwidth = [0.0298369], sample = \n",
              "0 : [ 500.572 ]), (w = 0.00073377, d = KernelMixture(kernel = Normal(mu = 0, sigma = 1), bandwidth = [0.0298369], sample = \n",
              "0 : [ 500.573 ]), (w = 0.00082546, d = KernelMixture(kernel = Normal(mu = 0, sigma = 1), bandwidth = [0.0298369], sample = \n",
              "0 : [ 500.574 ]), (w = 0.00112428, d = KernelMixture(kernel = Normal(mu = 0, sigma = 1), bandwidth = [0.0298369], sample = \n",
              "0 : [ 500.575 ]), (w = 0.00136299, d = KernelMixture(kernel = Normal(mu = 0, sigma = 1), bandwidth = [0.0298369], sample = \n",
              "0 : [ 500.576 ]), (w = 0.00140514, d = KernelMixture(kernel = Normal(mu = 0, sigma = 1), bandwidth = [0.0298369], sample = \n",
              "0 : [ 500.577 ]), (w = 0.00131634, d = KernelMixture(kernel = Normal(mu = 0, sigma = 1), bandwidth = [0.0298369], sample = \n",
              "0 : [ 500.578 ]), (w = 0.00172995, d = KernelMixture(kernel = Normal(mu = 0, sigma = 1), bandwidth = [0.0298369], sample = \n",
              "0 : [ 500.579 ]), (w = 0.00112408, d = KernelMixture(kernel = Normal(mu = 0, sigma = 1), bandwidth = [0.0298369], sample = \n",
              "0 : [ 500.58 ]), (w = 0.0015621, d = KernelMixture(kernel = Normal(mu = 0, sigma = 1), bandwidth = [0.0298369], sample = \n",
              "0 : [ 500.581 ]), (w = 0.00142812, d = KernelMixture(kernel = Normal(mu = 0, sigma = 1), bandwidth = [0.0298369], sample = \n",
              "0 : [ 500.582 ]), (w = 0.0011515, d = KernelMixture(kernel = Normal(mu = 0, sigma = 1), bandwidth = [0.0298369], sample = \n",
              "0 : [ 500.583 ]), (w = 0.00111005, d = KernelMixture(kernel = Normal(mu = 0, sigma = 1), bandwidth = [0.0298369], sample = \n",
              "0 : [ 500.584 ]), (w = 0.00157104, d = KernelMixture(kernel = Normal(mu = 0, sigma = 1), bandwidth = [0.0298369], sample = \n",
              "0 : [ 500.585 ]), (w = 0.000854473, d = KernelMixture(kernel = Normal(mu = 0, sigma = 1), bandwidth = [0.0298369], sample = \n",
              "0 : [ 500.586 ]), (w = 0.00100967, d = KernelMixture(kernel = Normal(mu = 0, sigma = 1), bandwidth = [0.0298369], sample = \n",
              "0 : [ 500.587 ]), (w = 0.000760503, d = KernelMixture(kernel = Normal(mu = 0, sigma = 1), bandwidth = [0.0298369], sample = \n",
              "0 : [ 500.588 ]), (w = 0.000786621, d = KernelMixture(kernel = Normal(mu = 0, sigma = 1), bandwidth = [0.0298369], sample = \n",
              "0 : [ 500.589 ]), (w = 0.000660665, d = KernelMixture(kernel = Normal(mu = 0, sigma = 1), bandwidth = [0.0298369], sample = \n",
              "0 : [ 500.59 ]), (w = 0.000960019, d = KernelMixture(kernel = Normal(mu = 0, sigma = 1), bandwidth = [0.0298369], sample = \n",
              "0 : [ 500.591 ]), (w = 0.000650468, d = KernelMixture(kernel = Normal(mu = 0, sigma = 1), bandwidth = [0.0298369], sample = \n",
              "0 : [ 500.592 ]), (w = 0.000767702, d = KernelMixture(kernel = Normal(mu = 0, sigma = 1), bandwidth = [0.0298369], sample = \n",
              "0 : [ 500.593 ]), (w = 0.00102754, d = KernelMixture(kernel = Normal(mu = 0, sigma = 1), bandwidth = [0.0298369], sample = \n",
              "0 : [ 500.594 ]), (w = 0.000821973, d = KernelMixture(kernel = Normal(mu = 0, sigma = 1), bandwidth = [0.0298369], sample = \n",
              "0 : [ 500.595 ]), (w = 0.000963527, d = KernelMixture(kernel = Normal(mu = 0, sigma = 1), bandwidth = [0.0298369], sample = \n",
              "0 : [ 500.596 ]), (w = 0.000921514, d = KernelMixture(kernel = Normal(mu = 0, sigma = 1), bandwidth = [0.0298369], sample = \n",
              "0 : [ 500.597 ]), (w = 0.000957658, d = KernelMixture(kernel = Normal(mu = 0, sigma = 1), bandwidth = [0.0298369], sample = \n",
              "0 : [ 500.598 ]), (w = 0.00127524, d = KernelMixture(kernel = Normal(mu = 0, sigma = 1), bandwidth = [0.0298369], sample = \n",
              "0 : [ 500.599 ]), (w = 0.00120949, d = KernelMixture(kernel = Normal(mu = 0, sigma = 1), bandwidth = [0.0298369], sample = \n",
              "0 : [ 500.6 ]), (w = 0.00111192, d = KernelMixture(kernel = Normal(mu = 0, sigma = 1), bandwidth = [0.0298369], sample = \n",
              "0 : [ 500.602 ]), (w = 0.00068325, d = KernelMixture(kernel = Normal(mu = 0, sigma = 1), bandwidth = [0.0298369], sample = \n",
              "0 : [ 500.603 ]), (w = 0.000766437, d = KernelMixture(kernel = Normal(mu = 0, sigma = 1), bandwidth = [0.0298369], sample = \n",
              "0 : [ 500.604 ]), (w = 0.000143684, d = KernelMixture(kernel = Normal(mu = 0, sigma = 1), bandwidth = [0.0298369], sample = \n",
              "0 : [ 500.605 ]), (w = 0.00032171, d = KernelMixture(kernel = Normal(mu = 0, sigma = 1), bandwidth = [0.0298369], sample = \n",
              "0 : [ 500.606 ]), (w = 0.000669039, d = KernelMixture(kernel = Normal(mu = 0, sigma = 1), bandwidth = [0.0298369], sample = \n",
              "0 : [ 500.607 ]), (w = 0.000444125, d = KernelMixture(kernel = Normal(mu = 0, sigma = 1), bandwidth = [0.0298369], sample = \n",
              "0 : [ 500.608 ]), (w = 0.000734563, d = KernelMixture(kernel = Normal(mu = 0, sigma = 1), bandwidth = [0.0298369], sample = \n",
              "0 : [ 500.609 ]), (w = 0.000942451, d = KernelMixture(kernel = Normal(mu = 0, sigma = 1), bandwidth = [0.0298369], sample = \n",
              "0 : [ 500.61 ]), (w = 0.000970541, d = KernelMixture(kernel = Normal(mu = 0, sigma = 1), bandwidth = [0.0298369], sample = \n",
              "0 : [ 500.611 ]), (w = 0.000983471, d = KernelMixture(kernel = Normal(mu = 0, sigma = 1), bandwidth = [0.0298369], sample = \n",
              "0 : [ 500.612 ]), (w = 0.00163524, d = KernelMixture(kernel = Normal(mu = 0, sigma = 1), bandwidth = [0.0298369], sample = \n",
              "0 : [ 500.613 ]), (w = 0.00200007, d = KernelMixture(kernel = Normal(mu = 0, sigma = 1), bandwidth = [0.0298369], sample = \n",
              "0 : [ 500.614 ]), (w = 0.00181081, d = KernelMixture(kernel = Normal(mu = 0, sigma = 1), bandwidth = [0.0298369], sample = \n",
              "0 : [ 500.615 ]), (w = 0.00178157, d = KernelMixture(kernel = Normal(mu = 0, sigma = 1), bandwidth = [0.0298369], sample = \n",
              "0 : [ 500.616 ]), (w = 0.00128249, d = KernelMixture(kernel = Normal(mu = 0, sigma = 1), bandwidth = [0.0298369], sample = \n",
              "0 : [ 500.617 ]), (w = 0.00148395, d = KernelMixture(kernel = Normal(mu = 0, sigma = 1), bandwidth = [0.0298369], sample = \n",
              "0 : [ 500.618 ]), (w = 0.00155353, d = KernelMixture(kernel = Normal(mu = 0, sigma = 1), bandwidth = [0.0298369], sample = \n",
              "0 : [ 500.619 ]), (w = 0.00144531, d = KernelMixture(kernel = Normal(mu = 0, sigma = 1), bandwidth = [0.0298369], sample = \n",
              "0 : [ 500.62 ]), (w = 0.00108939, d = KernelMixture(kernel = Normal(mu = 0, sigma = 1), bandwidth = [0.0298369], sample = \n",
              "0 : [ 500.621 ]), (w = 0.00132819, d = KernelMixture(kernel = Normal(mu = 0, sigma = 1), bandwidth = [0.0298369], sample = \n",
              "0 : [ 500.622 ]), (w = 0.00108607, d = KernelMixture(kernel = Normal(mu = 0, sigma = 1), bandwidth = [0.0298369], sample = \n",
              "0 : [ 500.623 ]), (w = 0.00140205, d = KernelMixture(kernel = Normal(mu = 0, sigma = 1), bandwidth = [0.0298369], sample = \n",
              "0 : [ 500.624 ]), (w = 0.00130248, d = KernelMixture(kernel = Normal(mu = 0, sigma = 1), bandwidth = [0.0298369], sample = \n",
              "0 : [ 500.625 ]), (w = 0.00126988, d = KernelMixture(kernel = Normal(mu = 0, sigma = 1), bandwidth = [0.0298369], sample = \n",
              "0 : [ 500.626 ]), (w = 0.00114664, d = KernelMixture(kernel = Normal(mu = 0, sigma = 1), bandwidth = [0.0298369], sample = \n",
              "0 : [ 500.627 ]), (w = 0.00192699, d = KernelMixture(kernel = Normal(mu = 0, sigma = 1), bandwidth = [0.0298369], sample = \n",
              "0 : [ 500.628 ]), (w = 0.00112602, d = KernelMixture(kernel = Normal(mu = 0, sigma = 1), bandwidth = [0.0298369], sample = \n",
              "0 : [ 500.629 ]), (w = 0.000907786, d = KernelMixture(kernel = Normal(mu = 0, sigma = 1), bandwidth = [0.0298369], sample = \n",
              "0 : [ 500.63 ]), (w = 0.000976693, d = KernelMixture(kernel = Normal(mu = 0, sigma = 1), bandwidth = [0.0298369], sample = \n",
              "0 : [ 500.631 ]), (w = 0.000828081, d = KernelMixture(kernel = Normal(mu = 0, sigma = 1), bandwidth = [0.0298369], sample = \n",
              "0 : [ 500.632 ]), (w = 0.00136293, d = KernelMixture(kernel = Normal(mu = 0, sigma = 1), bandwidth = [0.0298369], sample = \n",
              "0 : [ 500.633 ]), (w = 0.00093231, d = KernelMixture(kernel = Normal(mu = 0, sigma = 1), bandwidth = [0.0298369], sample = \n",
              "0 : [ 500.634 ]), (w = 0.000570979, d = KernelMixture(kernel = Normal(mu = 0, sigma = 1), bandwidth = [0.0298369], sample = \n",
              "0 : [ 500.635 ]), (w = 0.000535474, d = KernelMixture(kernel = Normal(mu = 0, sigma = 1), bandwidth = [0.0298369], sample = \n",
              "0 : [ 500.636 ]), (w = 0.000413202, d = KernelMixture(kernel = Normal(mu = 0, sigma = 1), bandwidth = [0.0298369], sample = \n",
              "0 : [ 500.637 ]), (w = 0.000292701, d = KernelMixture(kernel = Normal(mu = 0, sigma = 1), bandwidth = [0.0298369], sample = \n",
              "0 : [ 500.638 ]), (w = 0.000666257, d = KernelMixture(kernel = Normal(mu = 0, sigma = 1), bandwidth = [0.0298369], sample = \n",
              "0 : [ 500.639 ]), (w = 0.000876881, d = KernelMixture(kernel = Normal(mu = 0, sigma = 1), bandwidth = [0.0298369], sample = \n",
              "0 : [ 500.64 ]), (w = 0.000775318, d = KernelMixture(kernel = Normal(mu = 0, sigma = 1), bandwidth = [0.0298369], sample = \n",
              "0 : [ 500.641 ]), (w = 0.00110659, d = KernelMixture(kernel = Normal(mu = 0, sigma = 1), bandwidth = [0.0298369], sample = \n",
              "0 : [ 500.642 ]), (w = 0.000973271, d = KernelMixture(kernel = Normal(mu = 0, sigma = 1), bandwidth = [0.0298369], sample = \n",
              "0 : [ 500.643 ]), (w = 0.000713191, d = KernelMixture(kernel = Normal(mu = 0, sigma = 1), bandwidth = [0.0298369], sample = \n",
              "0 : [ 500.644 ]), (w = 0.000858206, d = KernelMixture(kernel = Normal(mu = 0, sigma = 1), bandwidth = [0.0298369], sample = \n",
              "0 : [ 500.645 ]), (w = 0.00063435, d = KernelMixture(kernel = Normal(mu = 0, sigma = 1), bandwidth = [0.0298369], sample = \n",
              "0 : [ 500.647 ]), (w = 0.00108425, d = KernelMixture(kernel = Normal(mu = 0, sigma = 1), bandwidth = [0.0298369], sample = \n",
              "0 : [ 500.648 ]), (w = 0.000994159, d = KernelMixture(kernel = Normal(mu = 0, sigma = 1), bandwidth = [0.0298369], sample = \n",
              "0 : [ 500.649 ]), (w = 0.00106708, d = KernelMixture(kernel = Normal(mu = 0, sigma = 1), bandwidth = [0.0298369], sample = \n",
              "0 : [ 500.65 ]), (w = 0.000608652, d = KernelMixture(kernel = Normal(mu = 0, sigma = 1), bandwidth = [0.0298369], sample = \n",
              "0 : [ 500.651 ]), (w = 0.000965951, d = KernelMixture(kernel = Normal(mu = 0, sigma = 1), bandwidth = [0.0298369], sample = \n",
              "0 : [ 500.652 ]), (w = 0.000843094, d = KernelMixture(kernel = Normal(mu = 0, sigma = 1), bandwidth = [0.0298369], sample = \n",
              "0 : [ 500.653 ]), (w = 0.000769721, d = KernelMixture(kernel = Normal(mu = 0, sigma = 1), bandwidth = [0.0298369], sample = \n",
              "0 : [ 500.654 ]), (w = 0.0010284, d = KernelMixture(kernel = Normal(mu = 0, sigma = 1), bandwidth = [0.0298369], sample = \n",
              "0 : [ 500.655 ]), (w = 0.00106268, d = KernelMixture(kernel = Normal(mu = 0, sigma = 1), bandwidth = [0.0298369], sample = \n",
              "0 : [ 500.656 ]), (w = 0.000596835, d = KernelMixture(kernel = Normal(mu = 0, sigma = 1), bandwidth = [0.0298369], sample = \n",
              "0 : [ 500.657 ]), (w = 0.00105947, d = KernelMixture(kernel = Normal(mu = 0, sigma = 1), bandwidth = [0.0298369], sample = \n",
              "0 : [ 500.658 ]), (w = 0.00097915, d = KernelMixture(kernel = Normal(mu = 0, sigma = 1), bandwidth = [0.0298369], sample = \n",
              "0 : [ 500.659 ]), (w = 0.00146887, d = KernelMixture(kernel = Normal(mu = 0, sigma = 1), bandwidth = [0.0298369], sample = \n",
              "0 : [ 500.66 ]), (w = 0.00111135, d = KernelMixture(kernel = Normal(mu = 0, sigma = 1), bandwidth = [0.0298369], sample = \n",
              "0 : [ 500.661 ]), (w = 0.000645181, d = KernelMixture(kernel = Normal(mu = 0, sigma = 1), bandwidth = [0.0298369], sample = \n",
              "0 : [ 500.662 ]), (w = 0.000977883, d = KernelMixture(kernel = Normal(mu = 0, sigma = 1), bandwidth = [0.0298369], sample = \n",
              "0 : [ 500.663 ]), (w = 0.00135301, d = KernelMixture(kernel = Normal(mu = 0, sigma = 1), bandwidth = [0.0298369], sample = \n",
              "0 : [ 500.664 ]), (w = 0.0012762, d = KernelMixture(kernel = Normal(mu = 0, sigma = 1), bandwidth = [0.0298369], sample = \n",
              "0 : [ 500.665 ]), (w = 0.00107408, d = KernelMixture(kernel = Normal(mu = 0, sigma = 1), bandwidth = [0.0298369], sample = \n",
              "0 : [ 500.666 ]), (w = 0.000746037, d = KernelMixture(kernel = Normal(mu = 0, sigma = 1), bandwidth = [0.0298369], sample = \n",
              "0 : [ 500.667 ]), (w = 0.00132182, d = KernelMixture(kernel = Normal(mu = 0, sigma = 1), bandwidth = [0.0298369], sample = \n",
              "0 : [ 500.668 ]), (w = 0.00109935, d = KernelMixture(kernel = Normal(mu = 0, sigma = 1), bandwidth = [0.0298369], sample = \n",
              "0 : [ 500.669 ]), (w = 0.000833931, d = KernelMixture(kernel = Normal(mu = 0, sigma = 1), bandwidth = [0.0298369], sample = \n",
              "0 : [ 500.67 ]), (w = 0.0013192, d = KernelMixture(kernel = Normal(mu = 0, sigma = 1), bandwidth = [0.0298369], sample = \n",
              "0 : [ 500.671 ]), (w = 0.00124526, d = KernelMixture(kernel = Normal(mu = 0, sigma = 1), bandwidth = [0.0298369], sample = \n",
              "0 : [ 500.672 ]), (w = 0.00072417, d = KernelMixture(kernel = Normal(mu = 0, sigma = 1), bandwidth = [0.0298369], sample = \n",
              "0 : [ 500.673 ]), (w = 0.00109001, d = KernelMixture(kernel = Normal(mu = 0, sigma = 1), bandwidth = [0.0298369], sample = \n",
              "0 : [ 500.674 ]), (w = 0.000979746, d = KernelMixture(kernel = Normal(mu = 0, sigma = 1), bandwidth = [0.0298369], sample = \n",
              "0 : [ 500.675 ]), (w = 0.00138799, d = KernelMixture(kernel = Normal(mu = 0, sigma = 1), bandwidth = [0.0298369], sample = \n",
              "0 : [ 500.676 ]), (w = 0.000882652, d = KernelMixture(kernel = Normal(mu = 0, sigma = 1), bandwidth = [0.0298369], sample = \n",
              "0 : [ 500.677 ]), (w = 0.00104128, d = KernelMixture(kernel = Normal(mu = 0, sigma = 1), bandwidth = [0.0298369], sample = \n",
              "0 : [ 500.678 ]), (w = 0.00105077, d = KernelMixture(kernel = Normal(mu = 0, sigma = 1), bandwidth = [0.0298369], sample = \n",
              "0 : [ 500.679 ]), (w = 0.00124322, d = KernelMixture(kernel = Normal(mu = 0, sigma = 1), bandwidth = [0.0298369], sample = \n",
              "0 : [ 500.68 ]), (w = 0.00123431, d = KernelMixture(kernel = Normal(mu = 0, sigma = 1), bandwidth = [0.0298369], sample = \n",
              "0 : [ 500.681 ]), (w = 0.000791818, d = KernelMixture(kernel = Normal(mu = 0, sigma = 1), bandwidth = [0.0298369], sample = \n",
              "0 : [ 500.682 ]), (w = 0.00117844, d = KernelMixture(kernel = Normal(mu = 0, sigma = 1), bandwidth = [0.0298369], sample = \n",
              "0 : [ 500.683 ]), (w = 0.00124427, d = KernelMixture(kernel = Normal(mu = 0, sigma = 1), bandwidth = [0.0298369], sample = \n",
              "0 : [ 500.684 ]), (w = 0.0010405, d = KernelMixture(kernel = Normal(mu = 0, sigma = 1), bandwidth = [0.0298369], sample = \n",
              "0 : [ 500.685 ]), (w = 0.00108448, d = KernelMixture(kernel = Normal(mu = 0, sigma = 1), bandwidth = [0.0298369], sample = \n",
              "0 : [ 500.686 ]), (w = 0.00105519, d = KernelMixture(kernel = Normal(mu = 0, sigma = 1), bandwidth = [0.0298369], sample = \n",
              "0 : [ 500.687 ]), (w = 0.00137059, d = KernelMixture(kernel = Normal(mu = 0, sigma = 1), bandwidth = [0.0298369], sample = \n",
              "0 : [ 500.688 ]), (w = 0.00133684, d = KernelMixture(kernel = Normal(mu = 0, sigma = 1), bandwidth = [0.0298369], sample = \n",
              "0 : [ 500.689 ]), (w = 0.000827215, d = KernelMixture(kernel = Normal(mu = 0, sigma = 1), bandwidth = [0.0298369], sample = \n",
              "0 : [ 500.69 ]), (w = 0.000687657, d = KernelMixture(kernel = Normal(mu = 0, sigma = 1), bandwidth = [0.0298369], sample = \n",
              "0 : [ 500.692 ]), (w = 0.00111361, d = KernelMixture(kernel = Normal(mu = 0, sigma = 1), bandwidth = [0.0298369], sample = \n",
              "0 : [ 500.693 ]), (w = 0.00114236, d = KernelMixture(kernel = Normal(mu = 0, sigma = 1), bandwidth = [0.0298369], sample = \n",
              "0 : [ 500.694 ]), (w = 0.00137822, d = KernelMixture(kernel = Normal(mu = 0, sigma = 1), bandwidth = [0.0298369], sample = \n",
              "0 : [ 500.695 ]), (w = 0.000755299, d = KernelMixture(kernel = Normal(mu = 0, sigma = 1), bandwidth = [0.0298369], sample = \n",
              "0 : [ 500.696 ]), (w = 0.000822341, d = KernelMixture(kernel = Normal(mu = 0, sigma = 1), bandwidth = [0.0298369], sample = \n",
              "0 : [ 500.697 ]), (w = 0.000877143, d = KernelMixture(kernel = Normal(mu = 0, sigma = 1), bandwidth = [0.0298369], sample = \n",
              "0 : [ 500.698 ]), (w = 0.000979337, d = KernelMixture(kernel = Normal(mu = 0, sigma = 1), bandwidth = [0.0298369], sample = \n",
              "0 : [ 500.699 ]), (w = 0.00135148, d = KernelMixture(kernel = Normal(mu = 0, sigma = 1), bandwidth = [0.0298369], sample = \n",
              "0 : [ 500.7 ]), (w = 0.00129396, d = KernelMixture(kernel = Normal(mu = 0, sigma = 1), bandwidth = [0.0298369], sample = \n",
              "0 : [ 500.701 ]), (w = 0.000888163, d = KernelMixture(kernel = Normal(mu = 0, sigma = 1), bandwidth = [0.0298369], sample = \n",
              "0 : [ 500.702 ]), (w = 0.000746377, d = KernelMixture(kernel = Normal(mu = 0, sigma = 1), bandwidth = [0.0298369], sample = \n",
              "0 : [ 500.703 ]), (w = 0.00144784, d = KernelMixture(kernel = Normal(mu = 0, sigma = 1), bandwidth = [0.0298369], sample = \n",
              "0 : [ 500.704 ]), (w = 0.00117361, d = KernelMixture(kernel = Normal(mu = 0, sigma = 1), bandwidth = [0.0298369], sample = \n",
              "0 : [ 500.705 ]), (w = 0.000985875, d = KernelMixture(kernel = Normal(mu = 0, sigma = 1), bandwidth = [0.0298369], sample = \n",
              "0 : [ 500.706 ]), (w = 0.000990351, d = KernelMixture(kernel = Normal(mu = 0, sigma = 1), bandwidth = [0.0298369], sample = \n",
              "0 : [ 500.707 ]), (w = 0.00137917, d = KernelMixture(kernel = Normal(mu = 0, sigma = 1), bandwidth = [0.0298369], sample = \n",
              "0 : [ 500.708 ]), (w = 0.00153891, d = KernelMixture(kernel = Normal(mu = 0, sigma = 1), bandwidth = [0.0298369], sample = \n",
              "0 : [ 500.709 ]), (w = 0.000882405, d = KernelMixture(kernel = Normal(mu = 0, sigma = 1), bandwidth = [0.0298369], sample = \n",
              "0 : [ 500.71 ]), (w = 0.000920347, d = KernelMixture(kernel = Normal(mu = 0, sigma = 1), bandwidth = [0.0298369], sample = \n",
              "0 : [ 500.711 ]), (w = 0.00115585, d = KernelMixture(kernel = Normal(mu = 0, sigma = 1), bandwidth = [0.0298369], sample = \n",
              "0 : [ 500.712 ]), (w = 0.00107768, d = KernelMixture(kernel = Normal(mu = 0, sigma = 1), bandwidth = [0.0298369], sample = \n",
              "0 : [ 500.713 ]), (w = 0.00108546, d = KernelMixture(kernel = Normal(mu = 0, sigma = 1), bandwidth = [0.0298369], sample = \n",
              "0 : [ 500.714 ]), (w = 0.000954942, d = KernelMixture(kernel = Normal(mu = 0, sigma = 1), bandwidth = [0.0298369], sample = \n",
              "0 : [ 500.715 ]), (w = 0.00116744, d = KernelMixture(kernel = Normal(mu = 0, sigma = 1), bandwidth = [0.0298369], sample = \n",
              "0 : [ 500.716 ]), (w = 0.00155618, d = KernelMixture(kernel = Normal(mu = 0, sigma = 1), bandwidth = [0.0298369], sample = \n",
              "0 : [ 500.717 ]), (w = 0.00117674, d = KernelMixture(kernel = Normal(mu = 0, sigma = 1), bandwidth = [0.0298369], sample = \n",
              "0 : [ 500.718 ]), (w = 0.00146205, d = KernelMixture(kernel = Normal(mu = 0, sigma = 1), bandwidth = [0.0298369], sample = \n",
              "0 : [ 500.719 ]), (w = 0.00134975, d = KernelMixture(kernel = Normal(mu = 0, sigma = 1), bandwidth = [0.0298369], sample = \n",
              "0 : [ 500.72 ]), (w = 0.00120523, d = KernelMixture(kernel = Normal(mu = 0, sigma = 1), bandwidth = [0.0298369], sample = \n",
              "0 : [ 500.721 ]), (w = 0.00110917, d = KernelMixture(kernel = Normal(mu = 0, sigma = 1), bandwidth = [0.0298369], sample = \n",
              "0 : [ 500.722 ]), (w = 0.000938456, d = KernelMixture(kernel = Normal(mu = 0, sigma = 1), bandwidth = [0.0298369], sample = \n",
              "0 : [ 500.723 ]), (w = 0.0010971, d = KernelMixture(kernel = Normal(mu = 0, sigma = 1), bandwidth = [0.0298369], sample = \n",
              "0 : [ 500.724 ]), (w = 0.000871702, d = KernelMixture(kernel = Normal(mu = 0, sigma = 1), bandwidth = [0.0298369], sample = \n",
              "0 : [ 500.725 ]), (w = 0.000820277, d = KernelMixture(kernel = Normal(mu = 0, sigma = 1), bandwidth = [0.0298369], sample = \n",
              "0 : [ 500.726 ]), (w = 0.00145799, d = KernelMixture(kernel = Normal(mu = 0, sigma = 1), bandwidth = [0.0298369], sample = \n",
              "0 : [ 500.727 ]), (w = 0.00150756, d = KernelMixture(kernel = Normal(mu = 0, sigma = 1), bandwidth = [0.0298369], sample = \n",
              "0 : [ 500.728 ]), (w = 0.00130732, d = KernelMixture(kernel = Normal(mu = 0, sigma = 1), bandwidth = [0.0298369], sample = \n",
              "0 : [ 500.729 ]), (w = 0.00102295, d = KernelMixture(kernel = Normal(mu = 0, sigma = 1), bandwidth = [0.0298369], sample = \n",
              "0 : [ 500.73 ]), (w = 0.00111871, d = KernelMixture(kernel = Normal(mu = 0, sigma = 1), bandwidth = [0.0298369], sample = \n",
              "0 : [ 500.731 ]), (w = 0.00169466, d = KernelMixture(kernel = Normal(mu = 0, sigma = 1), bandwidth = [0.0298369], sample = \n",
              "0 : [ 500.732 ]), (w = 0.00130053, d = KernelMixture(kernel = Normal(mu = 0, sigma = 1), bandwidth = [0.0298369], sample = \n",
              "0 : [ 500.733 ]), (w = 0.00135293, d = KernelMixture(kernel = Normal(mu = 0, sigma = 1), bandwidth = [0.0298369], sample = \n",
              "0 : [ 500.734 ]), (w = 0.000961309, d = KernelMixture(kernel = Normal(mu = 0, sigma = 1), bandwidth = [0.0298369], sample = \n",
              "0 : [ 500.735 ]), (w = 0.00116522, d = KernelMixture(kernel = Normal(mu = 0, sigma = 1), bandwidth = [0.0298369], sample = \n",
              "0 : [ 500.736 ]), (w = 0.00129243, d = KernelMixture(kernel = Normal(mu = 0, sigma = 1), bandwidth = [0.0298369], sample = \n",
              "0 : [ 500.738 ]), (w = 0.00096841, d = KernelMixture(kernel = Normal(mu = 0, sigma = 1), bandwidth = [0.0298369], sample = \n",
              "0 : [ 500.739 ]), (w = 0.00145919, d = KernelMixture(kernel = Normal(mu = 0, sigma = 1), bandwidth = [0.0298369], sample = \n",
              "0 : [ 500.74 ]), (w = 0.0016877, d = KernelMixture(kernel = Normal(mu = 0, sigma = 1), bandwidth = [0.0298369], sample = \n",
              "0 : [ 500.741 ]), (w = 0.00140428, d = KernelMixture(kernel = Normal(mu = 0, sigma = 1), bandwidth = [0.0298369], sample = \n",
              "0 : [ 500.742 ]), (w = 0.00123744, d = KernelMixture(kernel = Normal(mu = 0, sigma = 1), bandwidth = [0.0298369], sample = \n",
              "0 : [ 500.743 ]), (w = 0.00156283, d = KernelMixture(kernel = Normal(mu = 0, sigma = 1), bandwidth = [0.0298369], sample = \n",
              "0 : [ 500.744 ]), (w = 0.00228581, d = KernelMixture(kernel = Normal(mu = 0, sigma = 1), bandwidth = [0.0298369], sample = \n",
              "0 : [ 500.745 ]), (w = 0.00207907, d = KernelMixture(kernel = Normal(mu = 0, sigma = 1), bandwidth = [0.0298369], sample = \n",
              "0 : [ 500.746 ]), (w = 0.00182002, d = KernelMixture(kernel = Normal(mu = 0, sigma = 1), bandwidth = [0.0298369], sample = \n",
              "0 : [ 500.747 ]), (w = 0.00200804, d = KernelMixture(kernel = Normal(mu = 0, sigma = 1), bandwidth = [0.0298369], sample = \n",
              "0 : [ 500.748 ]), (w = 0.00230854, d = KernelMixture(kernel = Normal(mu = 0, sigma = 1), bandwidth = [0.0298369], sample = \n",
              "0 : [ 500.749 ]), (w = 0.00231583, d = KernelMixture(kernel = Normal(mu = 0, sigma = 1), bandwidth = [0.0298369], sample = \n",
              "0 : [ 500.75 ]), (w = 0.00224392, d = KernelMixture(kernel = Normal(mu = 0, sigma = 1), bandwidth = [0.0298369], sample = \n",
              "0 : [ 500.751 ]), (w = 0.0019169, d = KernelMixture(kernel = Normal(mu = 0, sigma = 1), bandwidth = [0.0298369], sample = \n",
              "0 : [ 500.752 ]), (w = 0.00150481, d = KernelMixture(kernel = Normal(mu = 0, sigma = 1), bandwidth = [0.0298369], sample = \n",
              "0 : [ 500.753 ]), (w = 0.00174957, d = KernelMixture(kernel = Normal(mu = 0, sigma = 1), bandwidth = [0.0298369], sample = \n",
              "0 : [ 500.754 ]), (w = 0.00168039, d = KernelMixture(kernel = Normal(mu = 0, sigma = 1), bandwidth = [0.0298369], sample = \n",
              "0 : [ 500.755 ]), (w = 0.000996584, d = KernelMixture(kernel = Normal(mu = 0, sigma = 1), bandwidth = [0.0298369], sample = \n",
              "0 : [ 500.756 ]), (w = 0.000861639, d = KernelMixture(kernel = Normal(mu = 0, sigma = 1), bandwidth = [0.0298369], sample = \n",
              "0 : [ 500.757 ]), (w = 0.00100448, d = KernelMixture(kernel = Normal(mu = 0, sigma = 1), bandwidth = [0.0298369], sample = \n",
              "0 : [ 500.758 ]), (w = 0.000721206, d = KernelMixture(kernel = Normal(mu = 0, sigma = 1), bandwidth = [0.0298369], sample = \n",
              "0 : [ 500.759 ]), (w = 0.00106391, d = KernelMixture(kernel = Normal(mu = 0, sigma = 1), bandwidth = [0.0298369], sample = \n",
              "0 : [ 500.76 ]), (w = 0.000603341, d = KernelMixture(kernel = Normal(mu = 0, sigma = 1), bandwidth = [0.0298369], sample = \n",
              "0 : [ 500.761 ]), (w = 0.000968997, d = KernelMixture(kernel = Normal(mu = 0, sigma = 1), bandwidth = [0.0298369], sample = \n",
              "0 : [ 500.762 ]), (w = 0.00108486, d = KernelMixture(kernel = Normal(mu = 0, sigma = 1), bandwidth = [0.0298369], sample = \n",
              "0 : [ 500.763 ]), (w = 0.00154285, d = KernelMixture(kernel = Normal(mu = 0, sigma = 1), bandwidth = [0.0298369], sample = \n",
              "0 : [ 500.764 ]), (w = 0.0014005, d = KernelMixture(kernel = Normal(mu = 0, sigma = 1), bandwidth = [0.0298369], sample = \n",
              "0 : [ 500.765 ]), (w = 0.00177463, d = KernelMixture(kernel = Normal(mu = 0, sigma = 1), bandwidth = [0.0298369], sample = \n",
              "0 : [ 500.766 ]), (w = 0.00168703, d = KernelMixture(kernel = Normal(mu = 0, sigma = 1), bandwidth = [0.0298369], sample = \n",
              "0 : [ 500.767 ]), (w = 0.00118991, d = KernelMixture(kernel = Normal(mu = 0, sigma = 1), bandwidth = [0.0298369], sample = \n",
              "0 : [ 500.768 ]), (w = 0.00151777, d = KernelMixture(kernel = Normal(mu = 0, sigma = 1), bandwidth = [0.0298369], sample = \n",
              "0 : [ 500.769 ]), (w = 0.0012652, d = KernelMixture(kernel = Normal(mu = 0, sigma = 1), bandwidth = [0.0298369], sample = \n",
              "0 : [ 500.77 ]), (w = 0.00104845, d = KernelMixture(kernel = Normal(mu = 0, sigma = 1), bandwidth = [0.0298369], sample = \n",
              "0 : [ 500.771 ]), (w = 0.00090748, d = KernelMixture(kernel = Normal(mu = 0, sigma = 1), bandwidth = [0.0298369], sample = \n",
              "0 : [ 500.772 ]), (w = 0.000793219, d = KernelMixture(kernel = Normal(mu = 0, sigma = 1), bandwidth = [0.0298369], sample = \n",
              "0 : [ 500.773 ]), (w = 0.000709069, d = KernelMixture(kernel = Normal(mu = 0, sigma = 1), bandwidth = [0.0298369], sample = \n",
              "0 : [ 500.774 ]), (w = 0.00105577, d = KernelMixture(kernel = Normal(mu = 0, sigma = 1), bandwidth = [0.0298369], sample = \n",
              "0 : [ 500.775 ]), (w = 0.00106705, d = KernelMixture(kernel = Normal(mu = 0, sigma = 1), bandwidth = [0.0298369], sample = \n",
              "0 : [ 500.776 ]), (w = 0.00184754, d = KernelMixture(kernel = Normal(mu = 0, sigma = 1), bandwidth = [0.0298369], sample = \n",
              "0 : [ 500.777 ]), (w = 0.00201737, d = KernelMixture(kernel = Normal(mu = 0, sigma = 1), bandwidth = [0.0298369], sample = \n",
              "0 : [ 500.778 ]), (w = 0.00155998, d = KernelMixture(kernel = Normal(mu = 0, sigma = 1), bandwidth = [0.0298369], sample = \n",
              "0 : [ 500.779 ]), (w = 0.00207933, d = KernelMixture(kernel = Normal(mu = 0, sigma = 1), bandwidth = [0.0298369], sample = \n",
              "0 : [ 500.78 ]), (w = 0.00294244, d = KernelMixture(kernel = Normal(mu = 0, sigma = 1), bandwidth = [0.0298369], sample = \n",
              "0 : [ 500.781 ]), (w = 0.00263074, d = KernelMixture(kernel = Normal(mu = 0, sigma = 1), bandwidth = [0.0298369], sample = \n",
              "0 : [ 500.783 ]), (w = 0.00256454, d = KernelMixture(kernel = Normal(mu = 0, sigma = 1), bandwidth = [0.0298369], sample = \n",
              "0 : [ 500.784 ]), (w = 0.00215553, d = KernelMixture(kernel = Normal(mu = 0, sigma = 1), bandwidth = [0.0298369], sample = \n",
              "0 : [ 500.785 ]), (w = 0.00162246, d = KernelMixture(kernel = Normal(mu = 0, sigma = 1), bandwidth = [0.0298369], sample = \n",
              "0 : [ 500.786 ]), (w = 0.00164186, d = KernelMixture(kernel = Normal(mu = 0, sigma = 1), bandwidth = [0.0298369], sample = \n",
              "0 : [ 500.787 ]), (w = 0.00160641, d = KernelMixture(kernel = Normal(mu = 0, sigma = 1), bandwidth = [0.0298369], sample = \n",
              "0 : [ 500.788 ]), (w = 0.00119822, d = KernelMixture(kernel = Normal(mu = 0, sigma = 1), bandwidth = [0.0298369], sample = \n",
              "0 : [ 500.789 ]), (w = 0.000827268, d = KernelMixture(kernel = Normal(mu = 0, sigma = 1), bandwidth = [0.0298369], sample = \n",
              "0 : [ 500.79 ]), (w = 0.00103183, d = KernelMixture(kernel = Normal(mu = 0, sigma = 1), bandwidth = [0.0298369], sample = \n",
              "0 : [ 500.791 ]), (w = 0.000636974, d = KernelMixture(kernel = Normal(mu = 0, sigma = 1), bandwidth = [0.0298369], sample = \n",
              "0 : [ 500.792 ]), (w = 0.000380191, d = KernelMixture(kernel = Normal(mu = 0, sigma = 1), bandwidth = [0.0298369], sample = \n",
              "0 : [ 500.793 ]), (w = 0.000739726, d = KernelMixture(kernel = Normal(mu = 0, sigma = 1), bandwidth = [0.0298369], sample = \n",
              "0 : [ 500.794 ]), (w = 0.00109355, d = KernelMixture(kernel = Normal(mu = 0, sigma = 1), bandwidth = [0.0298369], sample = \n",
              "0 : [ 500.795 ]), (w = 0.00142411, d = KernelMixture(kernel = Normal(mu = 0, sigma = 1), bandwidth = [0.0298369], sample = \n",
              "0 : [ 500.796 ]), (w = 0.0018435, d = KernelMixture(kernel = Normal(mu = 0, sigma = 1), bandwidth = [0.0298369], sample = \n",
              "0 : [ 500.797 ]), (w = 0.0018914, d = KernelMixture(kernel = Normal(mu = 0, sigma = 1), bandwidth = [0.0298369], sample = \n",
              "0 : [ 500.798 ]), (w = 0.00128921, d = KernelMixture(kernel = Normal(mu = 0, sigma = 1), bandwidth = [0.0298369], sample = \n",
              "0 : [ 500.799 ]), (w = 0.00181514, d = KernelMixture(kernel = Normal(mu = 0, sigma = 1), bandwidth = [0.0298369], sample = \n",
              "0 : [ 500.8 ]), (w = 0.00154532, d = KernelMixture(kernel = Normal(mu = 0, sigma = 1), bandwidth = [0.0298369], sample = \n",
              "0 : [ 500.801 ]), (w = 0.00156922, d = KernelMixture(kernel = Normal(mu = 0, sigma = 1), bandwidth = [0.0298369], sample = \n",
              "0 : [ 500.802 ]), (w = 0.00208315, d = KernelMixture(kernel = Normal(mu = 0, sigma = 1), bandwidth = [0.0298369], sample = \n",
              "0 : [ 500.803 ]), (w = 0.00101458, d = KernelMixture(kernel = Normal(mu = 0, sigma = 1), bandwidth = [0.0298369], sample = \n",
              "0 : [ 500.804 ]), (w = 0.00127746, d = KernelMixture(kernel = Normal(mu = 0, sigma = 1), bandwidth = [0.0298369], sample = \n",
              "0 : [ 500.805 ]), (w = 0.00165598, d = KernelMixture(kernel = Normal(mu = 0, sigma = 1), bandwidth = [0.0298369], sample = \n",
              "0 : [ 500.806 ]), (w = 0.00143706, d = KernelMixture(kernel = Normal(mu = 0, sigma = 1), bandwidth = [0.0298369], sample = \n",
              "0 : [ 500.807 ]), (w = 0.00193995, d = KernelMixture(kernel = Normal(mu = 0, sigma = 1), bandwidth = [0.0298369], sample = \n",
              "0 : [ 500.808 ]), (w = 0.00152925, d = KernelMixture(kernel = Normal(mu = 0, sigma = 1), bandwidth = [0.0298369], sample = \n",
              "0 : [ 500.809 ]), (w = 0.00112119, d = KernelMixture(kernel = Normal(mu = 0, sigma = 1), bandwidth = [0.0298369], sample = \n",
              "0 : [ 500.81 ]), (w = 0.00112539, d = KernelMixture(kernel = Normal(mu = 0, sigma = 1), bandwidth = [0.0298369], sample = \n",
              "0 : [ 500.811 ]), (w = 0.001274, d = KernelMixture(kernel = Normal(mu = 0, sigma = 1), bandwidth = [0.0298369], sample = \n",
              "0 : [ 500.812 ]), (w = 0.00130287, d = KernelMixture(kernel = Normal(mu = 0, sigma = 1), bandwidth = [0.0298369], sample = \n",
              "0 : [ 500.813 ]), (w = 0.00121043, d = KernelMixture(kernel = Normal(mu = 0, sigma = 1), bandwidth = [0.0298369], sample = \n",
              "0 : [ 500.814 ]), (w = 0.00162757, d = KernelMixture(kernel = Normal(mu = 0, sigma = 1), bandwidth = [0.0298369], sample = \n",
              "0 : [ 500.815 ]), (w = 0.00166053, d = KernelMixture(kernel = Normal(mu = 0, sigma = 1), bandwidth = [0.0298369], sample = \n",
              "0 : [ 500.816 ]), (w = 0.00184642, d = KernelMixture(kernel = Normal(mu = 0, sigma = 1), bandwidth = [0.0298369], sample = \n",
              "0 : [ 500.817 ]), (w = 0.00143336, d = KernelMixture(kernel = Normal(mu = 0, sigma = 1), bandwidth = [0.0298369], sample = \n",
              "0 : [ 500.818 ]), (w = 0.001844, d = KernelMixture(kernel = Normal(mu = 0, sigma = 1), bandwidth = [0.0298369], sample = \n",
              "0 : [ 500.819 ]), (w = 0.00187057, d = KernelMixture(kernel = Normal(mu = 0, sigma = 1), bandwidth = [0.0298369], sample = \n",
              "0 : [ 500.82 ]), (w = 0.00252636, d = KernelMixture(kernel = Normal(mu = 0, sigma = 1), bandwidth = [0.0298369], sample = \n",
              "0 : [ 500.821 ]), (w = 0.00153704, d = KernelMixture(kernel = Normal(mu = 0, sigma = 1), bandwidth = [0.0298369], sample = \n",
              "0 : [ 500.822 ]), (w = 0.00184423, d = KernelMixture(kernel = Normal(mu = 0, sigma = 1), bandwidth = [0.0298369], sample = \n",
              "0 : [ 500.823 ]), (w = 0.00151435, d = KernelMixture(kernel = Normal(mu = 0, sigma = 1), bandwidth = [0.0298369], sample = \n",
              "0 : [ 500.824 ]), (w = 0.00145461, d = KernelMixture(kernel = Normal(mu = 0, sigma = 1), bandwidth = [0.0298369], sample = \n",
              "0 : [ 500.825 ]), (w = 0.000908814, d = KernelMixture(kernel = Normal(mu = 0, sigma = 1), bandwidth = [0.0298369], sample = \n",
              "0 : [ 500.826 ]), (w = 0.00130484, d = KernelMixture(kernel = Normal(mu = 0, sigma = 1), bandwidth = [0.0298369], sample = \n",
              "0 : [ 500.828 ]), (w = 0.00186905, d = KernelMixture(kernel = Normal(mu = 0, sigma = 1), bandwidth = [0.0298369], sample = \n",
              "0 : [ 500.829 ]), (w = 0.002415, d = KernelMixture(kernel = Normal(mu = 0, sigma = 1), bandwidth = [0.0298369], sample = \n",
              "0 : [ 500.83 ]), (w = 0.00243462, d = KernelMixture(kernel = Normal(mu = 0, sigma = 1), bandwidth = [0.0298369], sample = \n",
              "0 : [ 500.831 ]), (w = 0.00243046, d = KernelMixture(kernel = Normal(mu = 0, sigma = 1), bandwidth = [0.0298369], sample = \n",
              "0 : [ 500.832 ]), (w = 0.00218777, d = KernelMixture(kernel = Normal(mu = 0, sigma = 1), bandwidth = [0.0298369], sample = \n",
              "0 : [ 500.833 ]), (w = 0.00162765, d = KernelMixture(kernel = Normal(mu = 0, sigma = 1), bandwidth = [0.0298369], sample = \n",
              "0 : [ 500.834 ]), (w = 0.00194315, d = KernelMixture(kernel = Normal(mu = 0, sigma = 1), bandwidth = [0.0298369], sample = \n",
              "0 : [ 500.835 ]), (w = 0.00157497, d = KernelMixture(kernel = Normal(mu = 0, sigma = 1), bandwidth = [0.0298369], sample = \n",
              "0 : [ 500.836 ]), (w = 0.0018829, d = KernelMixture(kernel = Normal(mu = 0, sigma = 1), bandwidth = [0.0298369], sample = \n",
              "0 : [ 500.837 ]), (w = 0.00224485, d = KernelMixture(kernel = Normal(mu = 0, sigma = 1), bandwidth = [0.0298369], sample = \n",
              "0 : [ 500.838 ]), (w = 0.00187782, d = KernelMixture(kernel = Normal(mu = 0, sigma = 1), bandwidth = [0.0298369], sample = \n",
              "0 : [ 500.839 ]), (w = 0.00147588, d = KernelMixture(kernel = Normal(mu = 0, sigma = 1), bandwidth = [0.0298369], sample = \n",
              "0 : [ 500.84 ]), (w = 0.00202186, d = KernelMixture(kernel = Normal(mu = 0, sigma = 1), bandwidth = [0.0298369], sample = \n",
              "0 : [ 500.841 ]), (w = 0.00154222, d = KernelMixture(kernel = Normal(mu = 0, sigma = 1), bandwidth = [0.0298369], sample = \n",
              "0 : [ 500.842 ]), (w = 0.00170211, d = KernelMixture(kernel = Normal(mu = 0, sigma = 1), bandwidth = [0.0298369], sample = \n",
              "0 : [ 500.843 ]), (w = 0.00151209, d = KernelMixture(kernel = Normal(mu = 0, sigma = 1), bandwidth = [0.0298369], sample = \n",
              "0 : [ 500.844 ]), (w = 0.00204693, d = KernelMixture(kernel = Normal(mu = 0, sigma = 1), bandwidth = [0.0298369], sample = \n",
              "0 : [ 500.845 ]), (w = 0.00186137, d = KernelMixture(kernel = Normal(mu = 0, sigma = 1), bandwidth = [0.0298369], sample = \n",
              "0 : [ 500.846 ]), (w = 0.000930686, d = KernelMixture(kernel = Normal(mu = 0, sigma = 1), bandwidth = [0.0298369], sample = \n",
              "0 : [ 500.847 ]), (w = 0.00155286, d = KernelMixture(kernel = Normal(mu = 0, sigma = 1), bandwidth = [0.0298369], sample = \n",
              "0 : [ 500.848 ]), (w = 0.00166694, d = KernelMixture(kernel = Normal(mu = 0, sigma = 1), bandwidth = [0.0298369], sample = \n",
              "0 : [ 500.849 ]), (w = 0.0013276, d = KernelMixture(kernel = Normal(mu = 0, sigma = 1), bandwidth = [0.0298369], sample = \n",
              "0 : [ 500.85 ]), (w = 0.00109969, d = KernelMixture(kernel = Normal(mu = 0, sigma = 1), bandwidth = [0.0298369], sample = \n",
              "0 : [ 500.851 ]), (w = 0.00129837, d = KernelMixture(kernel = Normal(mu = 0, sigma = 1), bandwidth = [0.0298369], sample = \n",
              "0 : [ 500.852 ]), (w = 0.00172141, d = KernelMixture(kernel = Normal(mu = 0, sigma = 1), bandwidth = [0.0298369], sample = \n",
              "0 : [ 500.853 ]), (w = 0.00158726, d = KernelMixture(kernel = Normal(mu = 0, sigma = 1), bandwidth = [0.0298369], sample = \n",
              "0 : [ 500.854 ]), (w = 0.00169996, d = KernelMixture(kernel = Normal(mu = 0, sigma = 1), bandwidth = [0.0298369], sample = \n",
              "0 : [ 500.855 ]), (w = 0.00170388, d = KernelMixture(kernel = Normal(mu = 0, sigma = 1), bandwidth = [0.0298369], sample = \n",
              "0 : [ 500.856 ]), (w = 0.00158998, d = KernelMixture(kernel = Normal(mu = 0, sigma = 1), bandwidth = [0.0298369], sample = \n",
              "0 : [ 500.857 ]), (w = 0.00233581, d = KernelMixture(kernel = Normal(mu = 0, sigma = 1), bandwidth = [0.0298369], sample = \n",
              "0 : [ 500.858 ]), (w = 0.00166219, d = KernelMixture(kernel = Normal(mu = 0, sigma = 1), bandwidth = [0.0298369], sample = \n",
              "0 : [ 500.859 ]), (w = 0.00181629, d = KernelMixture(kernel = Normal(mu = 0, sigma = 1), bandwidth = [0.0298369], sample = \n",
              "0 : [ 500.86 ]), (w = 0.00209688, d = KernelMixture(kernel = Normal(mu = 0, sigma = 1), bandwidth = [0.0298369], sample = \n",
              "0 : [ 500.861 ]), (w = 0.00147149, d = KernelMixture(kernel = Normal(mu = 0, sigma = 1), bandwidth = [0.0298369], sample = \n",
              "0 : [ 500.862 ]), (w = 0.00173379, d = KernelMixture(kernel = Normal(mu = 0, sigma = 1), bandwidth = [0.0298369], sample = \n",
              "0 : [ 500.863 ]), (w = 0.00172614, d = KernelMixture(kernel = Normal(mu = 0, sigma = 1), bandwidth = [0.0298369], sample = \n",
              "0 : [ 500.864 ]), (w = 0.00179236, d = KernelMixture(kernel = Normal(mu = 0, sigma = 1), bandwidth = [0.0298369], sample = \n",
              "0 : [ 500.865 ]), (w = 0.00155867, d = KernelMixture(kernel = Normal(mu = 0, sigma = 1), bandwidth = [0.0298369], sample = \n",
              "0 : [ 500.866 ]), (w = 0.00178178, d = KernelMixture(kernel = Normal(mu = 0, sigma = 1), bandwidth = [0.0298369], sample = \n",
              "0 : [ 500.867 ]), (w = 0.00132026, d = KernelMixture(kernel = Normal(mu = 0, sigma = 1), bandwidth = [0.0298369], sample = \n",
              "0 : [ 500.868 ]), (w = 0.00129267, d = KernelMixture(kernel = Normal(mu = 0, sigma = 1), bandwidth = [0.0298369], sample = \n",
              "0 : [ 500.869 ]), (w = 0.0017967, d = KernelMixture(kernel = Normal(mu = 0, sigma = 1), bandwidth = [0.0298369], sample = \n",
              "0 : [ 500.87 ]), (w = 0.00190008, d = KernelMixture(kernel = Normal(mu = 0, sigma = 1), bandwidth = [0.0298369], sample = \n",
              "0 : [ 500.871 ]), (w = 0.00140295, d = KernelMixture(kernel = Normal(mu = 0, sigma = 1), bandwidth = [0.0298369], sample = \n",
              "0 : [ 500.873 ]), (w = 0.00161202, d = KernelMixture(kernel = Normal(mu = 0, sigma = 1), bandwidth = [0.0298369], sample = \n",
              "0 : [ 500.874 ]), (w = 0.00136224, d = KernelMixture(kernel = Normal(mu = 0, sigma = 1), bandwidth = [0.0298369], sample = \n",
              "0 : [ 500.875 ]), (w = 0.00150965, d = KernelMixture(kernel = Normal(mu = 0, sigma = 1), bandwidth = [0.0298369], sample = \n",
              "0 : [ 500.876 ]), (w = 0.00135327, d = KernelMixture(kernel = Normal(mu = 0, sigma = 1), bandwidth = [0.0298369], sample = \n",
              "0 : [ 500.877 ]), (w = 0.000751942, d = KernelMixture(kernel = Normal(mu = 0, sigma = 1), bandwidth = [0.0298369], sample = \n",
              "0 : [ 500.878 ]), (w = 0.00124452, d = KernelMixture(kernel = Normal(mu = 0, sigma = 1), bandwidth = [0.0298369], sample = \n",
              "0 : [ 500.879 ]), (w = 0.00120116, d = KernelMixture(kernel = Normal(mu = 0, sigma = 1), bandwidth = [0.0298369], sample = \n",
              "0 : [ 500.88 ]), (w = 0.00102156, d = KernelMixture(kernel = Normal(mu = 0, sigma = 1), bandwidth = [0.0298369], sample = \n",
              "0 : [ 500.881 ]), (w = 0.00124823, d = KernelMixture(kernel = Normal(mu = 0, sigma = 1), bandwidth = [0.0298369], sample = \n",
              "0 : [ 500.882 ]), (w = 0.00157382, d = KernelMixture(kernel = Normal(mu = 0, sigma = 1), bandwidth = [0.0298369], sample = \n",
              "0 : [ 500.883 ]), (w = 0.00175259, d = KernelMixture(kernel = Normal(mu = 0, sigma = 1), bandwidth = [0.0298369], sample = \n",
              "0 : [ 500.884 ]), (w = 0.00137679, d = KernelMixture(kernel = Normal(mu = 0, sigma = 1), bandwidth = [0.0298369], sample = \n",
              "0 : [ 500.885 ]), (w = 0.00128879, d = KernelMixture(kernel = Normal(mu = 0, sigma = 1), bandwidth = [0.0298369], sample = \n",
              "0 : [ 500.886 ]), (w = 0.00110117, d = KernelMixture(kernel = Normal(mu = 0, sigma = 1), bandwidth = [0.0298369], sample = \n",
              "0 : [ 500.887 ]), (w = 0.00140766, d = KernelMixture(kernel = Normal(mu = 0, sigma = 1), bandwidth = [0.0298369], sample = \n",
              "0 : [ 500.888 ]), (w = 0.000975289, d = KernelMixture(kernel = Normal(mu = 0, sigma = 1), bandwidth = [0.0298369], sample = \n",
              "0 : [ 500.889 ]), (w = 0.000893907, d = KernelMixture(kernel = Normal(mu = 0, sigma = 1), bandwidth = [0.0298369], sample = \n",
              "0 : [ 500.89 ]), (w = 0.0015961, d = KernelMixture(kernel = Normal(mu = 0, sigma = 1), bandwidth = [0.0298369], sample = \n",
              "0 : [ 500.891 ]), (w = 0.00113496, d = KernelMixture(kernel = Normal(mu = 0, sigma = 1), bandwidth = [0.0298369], sample = \n",
              "0 : [ 500.892 ]), (w = 0.00100079, d = KernelMixture(kernel = Normal(mu = 0, sigma = 1), bandwidth = [0.0298369], sample = \n",
              "0 : [ 500.893 ]), (w = 0.00149448, d = KernelMixture(kernel = Normal(mu = 0, sigma = 1), bandwidth = [0.0298369], sample = \n",
              "0 : [ 500.894 ]), (w = 0.0015886, d = KernelMixture(kernel = Normal(mu = 0, sigma = 1), bandwidth = [0.0298369], sample = \n",
              "0 : [ 500.895 ]), (w = 0.00141891, d = KernelMixture(kernel = Normal(mu = 0, sigma = 1), bandwidth = [0.0298369], sample = \n",
              "0 : [ 500.896 ]), (w = 0.00177397, d = KernelMixture(kernel = Normal(mu = 0, sigma = 1), bandwidth = [0.0298369], sample = \n",
              "0 : [ 500.897 ]), (w = 0.00145853, d = KernelMixture(kernel = Normal(mu = 0, sigma = 1), bandwidth = [0.0298369], sample = \n",
              "0 : [ 500.898 ]), (w = 0.0015474, d = KernelMixture(kernel = Normal(mu = 0, sigma = 1), bandwidth = [0.0298369], sample = \n",
              "0 : [ 500.899 ]), (w = 0.00111889, d = KernelMixture(kernel = Normal(mu = 0, sigma = 1), bandwidth = [0.0298369], sample = \n",
              "0 : [ 500.9 ]), (w = 0.00166933, d = KernelMixture(kernel = Normal(mu = 0, sigma = 1), bandwidth = [0.0298369], sample = \n",
              "0 : [ 500.901 ]), (w = 0.00115262, d = KernelMixture(kernel = Normal(mu = 0, sigma = 1), bandwidth = [0.0298369], sample = \n",
              "0 : [ 500.902 ]), (w = 0.00153759, d = KernelMixture(kernel = Normal(mu = 0, sigma = 1), bandwidth = [0.0298369], sample = \n",
              "0 : [ 500.903 ]), (w = 0.00148313, d = KernelMixture(kernel = Normal(mu = 0, sigma = 1), bandwidth = [0.0298369], sample = \n",
              "0 : [ 500.904 ]), (w = 0.00143004, d = KernelMixture(kernel = Normal(mu = 0, sigma = 1), bandwidth = [0.0298369], sample = \n",
              "0 : [ 500.905 ]), (w = 0.00118843, d = KernelMixture(kernel = Normal(mu = 0, sigma = 1), bandwidth = [0.0298369], sample = \n",
              "0 : [ 500.906 ]), (w = 0.00168249, d = KernelMixture(kernel = Normal(mu = 0, sigma = 1), bandwidth = [0.0298369], sample = \n",
              "0 : [ 500.907 ]), (w = 0.00244224, d = KernelMixture(kernel = Normal(mu = 0, sigma = 1), bandwidth = [0.0298369], sample = \n",
              "0 : [ 500.908 ]), (w = 0.00263574, d = KernelMixture(kernel = Normal(mu = 0, sigma = 1), bandwidth = [0.0298369], sample = \n",
              "0 : [ 500.909 ]), (w = 0.00143593, d = KernelMixture(kernel = Normal(mu = 0, sigma = 1), bandwidth = [0.0298369], sample = \n",
              "0 : [ 500.91 ]), (w = 0.00210696, d = KernelMixture(kernel = Normal(mu = 0, sigma = 1), bandwidth = [0.0298369], sample = \n",
              "0 : [ 500.911 ]), (w = 0.00166406, d = KernelMixture(kernel = Normal(mu = 0, sigma = 1), bandwidth = [0.0298369], sample = \n",
              "0 : [ 500.912 ]), (w = 0.00191706, d = KernelMixture(kernel = Normal(mu = 0, sigma = 1), bandwidth = [0.0298369], sample = \n",
              "0 : [ 500.913 ]), (w = 0.00260193, d = KernelMixture(kernel = Normal(mu = 0, sigma = 1), bandwidth = [0.0298369], sample = \n",
              "0 : [ 500.914 ]), (w = 0.00183496, d = KernelMixture(kernel = Normal(mu = 0, sigma = 1), bandwidth = [0.0298369], sample = \n",
              "0 : [ 500.915 ]), (w = 0.00199676, d = KernelMixture(kernel = Normal(mu = 0, sigma = 1), bandwidth = [0.0298369], sample = \n",
              "0 : [ 500.916 ]), (w = 0.00184712, d = KernelMixture(kernel = Normal(mu = 0, sigma = 1), bandwidth = [0.0298369], sample = \n",
              "0 : [ 500.918 ]), (w = 0.00259362, d = KernelMixture(kernel = Normal(mu = 0, sigma = 1), bandwidth = [0.0298369], sample = \n",
              "0 : [ 500.919 ]), (w = 0.00139337, d = KernelMixture(kernel = Normal(mu = 0, sigma = 1), bandwidth = [0.0298369], sample = \n",
              "0 : [ 500.92 ]), (w = 0.00167349, d = KernelMixture(kernel = Normal(mu = 0, sigma = 1), bandwidth = [0.0298369], sample = \n",
              "0 : [ 500.921 ]), (w = 0.00218827, d = KernelMixture(kernel = Normal(mu = 0, sigma = 1), bandwidth = [0.0298369], sample = \n",
              "0 : [ 500.922 ]), (w = 0.00227653, d = KernelMixture(kernel = Normal(mu = 0, sigma = 1), bandwidth = [0.0298369], sample = \n",
              "0 : [ 500.923 ]), (w = 0.00216778, d = KernelMixture(kernel = Normal(mu = 0, sigma = 1), bandwidth = [0.0298369], sample = \n",
              "0 : [ 500.924 ]), (w = 0.00204353, d = KernelMixture(kernel = Normal(mu = 0, sigma = 1), bandwidth = [0.0298369], sample = \n",
              "0 : [ 500.925 ]), (w = 0.00175726, d = KernelMixture(kernel = Normal(mu = 0, sigma = 1), bandwidth = [0.0298369], sample = \n",
              "0 : [ 500.926 ]), (w = 0.00202381, d = KernelMixture(kernel = Normal(mu = 0, sigma = 1), bandwidth = [0.0298369], sample = \n",
              "0 : [ 500.927 ]), (w = 0.00206355, d = KernelMixture(kernel = Normal(mu = 0, sigma = 1), bandwidth = [0.0298369], sample = \n",
              "0 : [ 500.928 ]), (w = 0.000886064, d = KernelMixture(kernel = Normal(mu = 0, sigma = 1), bandwidth = [0.0298369], sample = \n",
              "0 : [ 500.929 ]), (w = 0.00121569, d = KernelMixture(kernel = Normal(mu = 0, sigma = 1), bandwidth = [0.0298369], sample = \n",
              "0 : [ 500.93 ]), (w = 0.00165936, d = KernelMixture(kernel = Normal(mu = 0, sigma = 1), bandwidth = [0.0298369], sample = \n",
              "0 : [ 500.931 ]), (w = 0.00214674, d = KernelMixture(kernel = Normal(mu = 0, sigma = 1), bandwidth = [0.0298369], sample = \n",
              "0 : [ 500.932 ]), (w = 0.00181293, d = KernelMixture(kernel = Normal(mu = 0, sigma = 1), bandwidth = [0.0298369], sample = \n",
              "0 : [ 500.933 ]), (w = 0.00164531, d = KernelMixture(kernel = Normal(mu = 0, sigma = 1), bandwidth = [0.0298369], sample = \n",
              "0 : [ 500.934 ]), (w = 0.00220382, d = KernelMixture(kernel = Normal(mu = 0, sigma = 1), bandwidth = [0.0298369], sample = \n",
              "0 : [ 500.935 ]), (w = 0.00244069, d = KernelMixture(kernel = Normal(mu = 0, sigma = 1), bandwidth = [0.0298369], sample = \n",
              "0 : [ 500.936 ]), (w = 0.00165347, d = KernelMixture(kernel = Normal(mu = 0, sigma = 1), bandwidth = [0.0298369], sample = \n",
              "0 : [ 500.937 ]), (w = 0.00198298, d = KernelMixture(kernel = Normal(mu = 0, sigma = 1), bandwidth = [0.0298369], sample = \n",
              "0 : [ 500.938 ]), (w = 0.00117041, d = KernelMixture(kernel = Normal(mu = 0, sigma = 1), bandwidth = [0.0298369], sample = \n",
              "0 : [ 500.939 ]), (w = 0.00150321, d = KernelMixture(kernel = Normal(mu = 0, sigma = 1), bandwidth = [0.0298369], sample = \n",
              "0 : [ 500.94 ]), (w = 0.00172467, d = KernelMixture(kernel = Normal(mu = 0, sigma = 1), bandwidth = [0.0298369], sample = \n",
              "0 : [ 500.941 ]), (w = 0.00217136, d = KernelMixture(kernel = Normal(mu = 0, sigma = 1), bandwidth = [0.0298369], sample = \n",
              "0 : [ 500.942 ]), (w = 0.00197126, d = KernelMixture(kernel = Normal(mu = 0, sigma = 1), bandwidth = [0.0298369], sample = \n",
              "0 : [ 500.943 ]), (w = 0.00106073, d = KernelMixture(kernel = Normal(mu = 0, sigma = 1), bandwidth = [0.0298369], sample = \n",
              "0 : [ 500.944 ]), (w = 0.00141029, d = KernelMixture(kernel = Normal(mu = 0, sigma = 1), bandwidth = [0.0298369], sample = \n",
              "0 : [ 500.945 ]), (w = 0.0020388, d = KernelMixture(kernel = Normal(mu = 0, sigma = 1), bandwidth = [0.0298369], sample = \n",
              "0 : [ 500.946 ]), (w = 0.00199762, d = KernelMixture(kernel = Normal(mu = 0, sigma = 1), bandwidth = [0.0298369], sample = \n",
              "0 : [ 500.947 ]), (w = 0.00191603, d = KernelMixture(kernel = Normal(mu = 0, sigma = 1), bandwidth = [0.0298369], sample = \n",
              "0 : [ 500.948 ]), (w = 0.00177469, d = KernelMixture(kernel = Normal(mu = 0, sigma = 1), bandwidth = [0.0298369], sample = \n",
              "0 : [ 500.949 ]), (w = 0.0014001, d = KernelMixture(kernel = Normal(mu = 0, sigma = 1), bandwidth = [0.0298369], sample = \n",
              "0 : [ 500.95 ]), (w = 0.00108328, d = KernelMixture(kernel = Normal(mu = 0, sigma = 1), bandwidth = [0.0298369], sample = \n",
              "0 : [ 500.951 ]), (w = 0.00151375, d = KernelMixture(kernel = Normal(mu = 0, sigma = 1), bandwidth = [0.0298369], sample = \n",
              "0 : [ 500.952 ]), (w = 0.00145349, d = KernelMixture(kernel = Normal(mu = 0, sigma = 1), bandwidth = [0.0298369], sample = \n",
              "0 : [ 500.953 ]), (w = 0.00119504, d = KernelMixture(kernel = Normal(mu = 0, sigma = 1), bandwidth = [0.0298369], sample = \n",
              "0 : [ 500.954 ]), (w = 0.00140924, d = KernelMixture(kernel = Normal(mu = 0, sigma = 1), bandwidth = [0.0298369], sample = \n",
              "0 : [ 500.955 ]), (w = 0.00123464, d = KernelMixture(kernel = Normal(mu = 0, sigma = 1), bandwidth = [0.0298369], sample = \n",
              "0 : [ 500.956 ]), (w = 0.0011347, d = KernelMixture(kernel = Normal(mu = 0, sigma = 1), bandwidth = [0.0298369], sample = \n",
              "0 : [ 500.957 ]), (w = 0.00204765, d = KernelMixture(kernel = Normal(mu = 0, sigma = 1), bandwidth = [0.0298369], sample = \n",
              "0 : [ 500.958 ]), (w = 0.00185475, d = KernelMixture(kernel = Normal(mu = 0, sigma = 1), bandwidth = [0.0298369], sample = \n",
              "0 : [ 500.959 ]), (w = 0.00125181, d = KernelMixture(kernel = Normal(mu = 0, sigma = 1), bandwidth = [0.0298369], sample = \n",
              "0 : [ 500.96 ]), (w = 0.00136871, d = KernelMixture(kernel = Normal(mu = 0, sigma = 1), bandwidth = [0.0298369], sample = \n",
              "0 : [ 500.961 ]), (w = 0.00118473, d = KernelMixture(kernel = Normal(mu = 0, sigma = 1), bandwidth = [0.0298369], sample = \n",
              "0 : [ 500.962 ]), (w = 0.00153382, d = KernelMixture(kernel = Normal(mu = 0, sigma = 1), bandwidth = [0.0298369], sample = \n",
              "0 : [ 500.964 ]), (w = 0.00178985, d = KernelMixture(kernel = Normal(mu = 0, sigma = 1), bandwidth = [0.0298369], sample = \n",
              "0 : [ 500.965 ]), (w = 0.0013081, d = KernelMixture(kernel = Normal(mu = 0, sigma = 1), bandwidth = [0.0298369], sample = \n",
              "0 : [ 500.966 ]), (w = 0.000918739, d = KernelMixture(kernel = Normal(mu = 0, sigma = 1), bandwidth = [0.0298369], sample = \n",
              "0 : [ 500.967 ]), (w = 0.000653912, d = KernelMixture(kernel = Normal(mu = 0, sigma = 1), bandwidth = [0.0298369], sample = \n",
              "0 : [ 500.968 ]), (w = 0.00103573, d = KernelMixture(kernel = Normal(mu = 0, sigma = 1), bandwidth = [0.0298369], sample = \n",
              "0 : [ 500.969 ]), (w = 0.00138306, d = KernelMixture(kernel = Normal(mu = 0, sigma = 1), bandwidth = [0.0298369], sample = \n",
              "0 : [ 500.97 ]), (w = 0.000985022, d = KernelMixture(kernel = Normal(mu = 0, sigma = 1), bandwidth = [0.0298369], sample = \n",
              "0 : [ 500.971 ]), (w = 0.000583067, d = KernelMixture(kernel = Normal(mu = 0, sigma = 1), bandwidth = [0.0298369], sample = \n",
              "0 : [ 500.972 ]), (w = 0.00120493, d = KernelMixture(kernel = Normal(mu = 0, sigma = 1), bandwidth = [0.0298369], sample = \n",
              "0 : [ 500.973 ]), (w = 0.00133172, d = KernelMixture(kernel = Normal(mu = 0, sigma = 1), bandwidth = [0.0298369], sample = \n",
              "0 : [ 500.974 ]), (w = 0.00141947, d = KernelMixture(kernel = Normal(mu = 0, sigma = 1), bandwidth = [0.0298369], sample = \n",
              "0 : [ 500.975 ]), (w = 0.00171598, d = KernelMixture(kernel = Normal(mu = 0, sigma = 1), bandwidth = [0.0298369], sample = \n",
              "0 : [ 500.976 ]), (w = 0.00107456, d = KernelMixture(kernel = Normal(mu = 0, sigma = 1), bandwidth = [0.0298369], sample = \n",
              "0 : [ 500.977 ]), (w = 0.000922257, d = KernelMixture(kernel = Normal(mu = 0, sigma = 1), bandwidth = [0.0298369], sample = \n",
              "0 : [ 500.978 ]), (w = 0.00084724, d = KernelMixture(kernel = Normal(mu = 0, sigma = 1), bandwidth = [0.0298369], sample = \n",
              "0 : [ 500.979 ]), (w = 0.00120784, d = KernelMixture(kernel = Normal(mu = 0, sigma = 1), bandwidth = [0.0298369], sample = \n",
              "0 : [ 500.98 ]), (w = 0.000677885, d = KernelMixture(kernel = Normal(mu = 0, sigma = 1), bandwidth = [0.0298369], sample = \n",
              "0 : [ 500.981 ]), (w = 0.000830641, d = KernelMixture(kernel = Normal(mu = 0, sigma = 1), bandwidth = [0.0298369], sample = \n",
              "0 : [ 500.982 ]), (w = 0.000860715, d = KernelMixture(kernel = Normal(mu = 0, sigma = 1), bandwidth = [0.0298369], sample = \n",
              "0 : [ 500.983 ]), (w = 0.000685333, d = KernelMixture(kernel = Normal(mu = 0, sigma = 1), bandwidth = [0.0298369], sample = \n",
              "0 : [ 500.984 ]), (w = 0.000767064, d = KernelMixture(kernel = Normal(mu = 0, sigma = 1), bandwidth = [0.0298369], sample = \n",
              "0 : [ 500.985 ]), (w = 0.000513837, d = KernelMixture(kernel = Normal(mu = 0, sigma = 1), bandwidth = [0.0298369], sample = \n",
              "0 : [ 500.986 ]), (w = 0.00051681, d = KernelMixture(kernel = Normal(mu = 0, sigma = 1), bandwidth = [0.0298369], sample = \n",
              "0 : [ 500.987 ]), (w = 0.000473834, d = KernelMixture(kernel = Normal(mu = 0, sigma = 1), bandwidth = [0.0298369], sample = \n",
              "0 : [ 500.988 ]), (w = 0.000487719, d = KernelMixture(kernel = Normal(mu = 0, sigma = 1), bandwidth = [0.0298369], sample = \n",
              "0 : [ 500.989 ]), (w = 0.000757567, d = KernelMixture(kernel = Normal(mu = 0, sigma = 1), bandwidth = [0.0298369], sample = \n",
              "0 : [ 500.99 ]), (w = 0.000686277, d = KernelMixture(kernel = Normal(mu = 0, sigma = 1), bandwidth = [0.0298369], sample = \n",
              "0 : [ 500.991 ]), (w = 0.000557193, d = KernelMixture(kernel = Normal(mu = 0, sigma = 1), bandwidth = [0.0298369], sample = \n",
              "0 : [ 500.992 ]), (w = 0.00068239, d = KernelMixture(kernel = Normal(mu = 0, sigma = 1), bandwidth = [0.0298369], sample = \n",
              "0 : [ 500.993 ]), (w = 0.000783945, d = KernelMixture(kernel = Normal(mu = 0, sigma = 1), bandwidth = [0.0298369], sample = \n",
              "0 : [ 500.994 ]), (w = 0.000663683, d = KernelMixture(kernel = Normal(mu = 0, sigma = 1), bandwidth = [0.0298369], sample = \n",
              "0 : [ 500.995 ]), (w = 0.000421567, d = KernelMixture(kernel = Normal(mu = 0, sigma = 1), bandwidth = [0.0298369], sample = \n",
              "0 : [ 500.996 ]), (w = 0.000382738, d = KernelMixture(kernel = Normal(mu = 0, sigma = 1), bandwidth = [0.0298369], sample = \n",
              "0 : [ 500.997 ]), (w = 0.000617836, d = KernelMixture(kernel = Normal(mu = 0, sigma = 1), bandwidth = [0.0298369], sample = \n",
              "0 : [ 500.998 ]), (w = 0.000587945, d = KernelMixture(kernel = Normal(mu = 0, sigma = 1), bandwidth = [0.0298369], sample = \n",
              "0 : [ 500.999 ]), (w = 0.000459553, d = KernelMixture(kernel = Normal(mu = 0, sigma = 1), bandwidth = [0.0298369], sample = \n",
              "0 : [ 501 ]), (w = 0.00014621, d = KernelMixture(kernel = Normal(mu = 0, sigma = 1), bandwidth = [0.0298369], sample = \n",
              "0 : [ 501.001 ]), (w = 0.000149935, d = KernelMixture(kernel = Normal(mu = 0, sigma = 1), bandwidth = [0.0298369], sample = \n",
              "0 : [ 501.002 ]), (w = 0.000276117, d = KernelMixture(kernel = Normal(mu = 0, sigma = 1), bandwidth = [0.0298369], sample = \n",
              "0 : [ 501.003 ]), (w = 0.00027074, d = KernelMixture(kernel = Normal(mu = 0, sigma = 1), bandwidth = [0.0298369], sample = \n",
              "0 : [ 501.004 ]), (w = 0.000147793, d = KernelMixture(kernel = Normal(mu = 0, sigma = 1), bandwidth = [0.0298369], sample = \n",
              "0 : [ 501.005 ]), (w = 3.82183e-05, d = KernelMixture(kernel = Normal(mu = 0, sigma = 1), bandwidth = [0.0298369], sample = \n",
              "0 : [ 501.006 ]), (w = 8.53343e-05, d = KernelMixture(kernel = Normal(mu = 0, sigma = 1), bandwidth = [0.0298369], sample = \n",
              "0 : [ 501.007 ]), (w = 1.46657e-05, d = KernelMixture(kernel = Normal(mu = 0, sigma = 1), bandwidth = [0.0298369], sample = \n",
              "0 : [ 501.009 ]), (w = 6.00077e-06, d = KernelMixture(kernel = Normal(mu = 0, sigma = 1), bandwidth = [0.0298369], sample = \n",
              "0 : [ 501.01 ]), (w = 0.000171997, d = KernelMixture(kernel = Normal(mu = 0, sigma = 1), bandwidth = [0.0298369], sample = \n",
              "0 : [ 501.011 ]), (w = 0.000122002, d = KernelMixture(kernel = Normal(mu = 0, sigma = 1), bandwidth = [0.0298369], sample = \n",
              "0 : [ 501.012 ]), (w = 0.000124211, d = KernelMixture(kernel = Normal(mu = 0, sigma = 1), bandwidth = [0.0298369], sample = \n",
              "0 : [ 501.013 ]), (w = 7.57894e-05, d = KernelMixture(kernel = Normal(mu = 0, sigma = 1), bandwidth = [0.0298369], sample = \n",
              "0 : [ 501.014 ]), (w = 5.84845e-05, d = KernelMixture(kernel = Normal(mu = 0, sigma = 1), bandwidth = [0.0298369], sample = \n",
              "0 : [ 501.015 ]), (w = 4.15155e-05, d = KernelMixture(kernel = Normal(mu = 0, sigma = 1), bandwidth = [0.0298369], sample = \n",
              "0 : [ 501.016 ]), (w = 3.13554e-05, d = KernelMixture(kernel = Normal(mu = 0, sigma = 1), bandwidth = [0.0298369], sample = \n",
              "0 : [ 501.018 ]), (w = 0.000103918, d = KernelMixture(kernel = Normal(mu = 0, sigma = 1), bandwidth = [0.0298369], sample = \n",
              "0 : [ 501.019 ]), (w = 6.47265e-05, d = KernelMixture(kernel = Normal(mu = 0, sigma = 1), bandwidth = [0.0298369], sample = \n",
              "0 : [ 501.02 ]), (w = 9.88214e-05, d = KernelMixture(kernel = Normal(mu = 0, sigma = 1), bandwidth = [0.0298369], sample = \n",
              "0 : [ 501.023 ]), (w = 1.17859e-06, d = KernelMixture(kernel = Normal(mu = 0, sigma = 1), bandwidth = [0.0298369], sample = \n",
              "0 : [ 501.024 ]), (w = 3.04872e-05, d = KernelMixture(kernel = Normal(mu = 0, sigma = 1), bandwidth = [0.0298369], sample = \n",
              "0 : [ 501.028 ]), (w = 6.95128e-05, d = KernelMixture(kernel = Normal(mu = 0, sigma = 1), bandwidth = [0.0298369], sample = \n",
              "0 : [ 501.029 ]), (w = 4.91267e-05, d = KernelMixture(kernel = Normal(mu = 0, sigma = 1), bandwidth = [0.0298369], sample = \n",
              "0 : [ 501.033 ]), (w = 5.08733e-05, d = KernelMixture(kernel = Normal(mu = 0, sigma = 1), bandwidth = [0.0298369], sample = \n",
              "0 : [ 501.034 ]), (w = 0.0001, d = KernelMixture(kernel = Normal(mu = 0, sigma = 1), bandwidth = [0.0298369], sample = \n",
              "0 : [ 501.041 ])) axes=ON grid=ON legendposition=topleft legendFontSize=1 drawables=[class=Drawable name=Test line implementation=class=Curve name=Test line derived from class=DrawableImplementation name=Test line legend=Test line data=class=Sample name=Unnamed implementation=class=SampleImplementation name=Unnamed size=2 dimension=2 data=[[499.994,499.994],[501.034,501.034]] color=red fillStyle=solid lineStyle=dashed pointStyle=none lineWidth=1,class=Drawable name=Data implementation=class=Cloud name=Data derived from class=DrawableImplementation name=Data legend=Data data=class=Sample name=Unnamed implementation=class=SampleImplementation name=Unnamed size=9999 dimension=2 data=[[499.994,499.941],[499.994,499.95],[499.994,499.956],...,[501.023,501.061],[501.029,501.066],[501.034,501.075]] color=blue fillStyle=solid lineStyle=solid pointStyle=dot lineWidth=1]"
            ],
            "image/png": "[encoded data removed]"
          },
          "metadata": {},
          "execution_count": 75
        }
      ],
      "source": [
        "ot.VisualTest.DrawQQplot(Sample_Y21, estimated)"
      ]
    },
    {
      "cell_type": "markdown",
      "metadata": {
        "id": "DoBJXnIajXup"
      },
      "source": [
        "On re-écrit la fonction donnant F_obj, mais sans le point fixe i.e on découple les disciplines."
      ]
    },
    {
      "cell_type": "code",
      "execution_count": null,
      "metadata": {
        "id": "FZmzBMFKigQO"
      },
      "outputs": [],
      "source": [
        "def decoupling(X):\n",
        "    X1,X2,X3,X4,X5,X6,X7,X8,X9,X10,Y21 = X\n",
        "    Z_1 = [X1,X2,X3,X4,X5,X6,X7,X8,X9,X10]\n",
        "    Z_2 = [X1,X3,X9]\n",
        "    Y12 = coupling_c12([Z_1,Y21])\n",
        "    Y21 = coupling_c21([Z_2,Y12])[0]\n",
        "    f_obj = Objective_Function([Z_1,Y12,Y21])\n",
        "    return [f_obj[0]]\n",
        "\n",
        "decoupling=ot.PythonFunction(11,1,decoupling)"
      ]
    },
    {
      "cell_type": "markdown",
      "metadata": {
        "id": "0LHObpcMlzcX"
      },
      "source": [
        "On définit 11 marginales, 10 pour les variables Xi et 1 pour la loi de Y21 apprise par le procédé non-paramétrique."
      ]
    },
    {
      "cell_type": "code",
      "execution_count": null,
      "metadata": {
        "id": "KOxhbKT9lypz"
      },
      "outputs": [],
      "source": [
        "marginals = [ot.Uniform(150.0, 200.0),ot.Uniform(220.0,300.0),ot.Uniform(6.0,10.0),ot.Uniform(0.5,5.0),ot.Uniform(16.0,40.0),ot.Uniform(0.5,1.0),ot.Uniform(0.08,0.18),ot.Uniform(2.5,6.0),ot.Uniform(1700.0,2200.0),ot.Uniform(.025,0.08),estimated]\n",
        "distribution = ot.ComposedDistribution(marginals)\n",
        "\n",
        "Samples = distribution.getSample(500) #500 échantillons de X,dim(X)=11"
      ]
    },
    {
      "cell_type": "markdown",
      "metadata": {
        "id": "ZWc8b8w1vSLS"
      },
      "source": [
        "##No Thresholding"
      ]
    },
    {
      "cell_type": "code",
      "execution_count": null,
      "metadata": {
        "id": "OxaXlVp9p7oR"
      },
      "outputs": [],
      "source": [
        "f_obj = []\n",
        "for i in range(len(Samples)):\n",
        "  f_obj.append(decoupling(Samples[i]))\n",
        "\n",
        "f_obj = ot.Sample(np.array(f_obj).reshape(-1,1))"
      ]
    },
    {
      "cell_type": "code",
      "execution_count": null,
      "metadata": {
        "id": "7cGMFXQhramk"
      },
      "outputs": [],
      "source": [
        "covarianceModelCollection = []\n",
        "for i in range(11):\n",
        "    Xi = Samples.getMarginal(i)\n",
        "    inputCovariance = ot.SquaredExponential(1) #dimension de l'entrée = 1\n",
        "    inputCovariance.setScale(Xi.computeStandardDeviation())\n",
        "    covarianceModelCollection.append(inputCovariance)"
      ]
    },
    {
      "cell_type": "code",
      "execution_count": null,
      "metadata": {
        "id": "bNbhl0ABra-p"
      },
      "outputs": [],
      "source": [
        "outputCovariance = ot.SquaredExponential(1)\n",
        "outputCovariance.setScale(f_obj.computeStandardDeviation())\n",
        "covarianceModelCollection.append(outputCovariance)"
      ]
    },
    {
      "cell_type": "code",
      "execution_count": null,
      "metadata": {
        "id": "f5M3-I5FsCiL"
      },
      "outputs": [],
      "source": [
        "estimatorType = ot.HSICUStat()"
      ]
    },
    {
      "cell_type": "code",
      "execution_count": null,
      "metadata": {
        "id": "gI_-cV3ir9ZY"
      },
      "outputs": [],
      "source": [
        "globHSIC = ot.HSICEstimatorGlobalSensitivity(covarianceModelCollection, Samples, f_obj, estimatorType)"
      ]
    },
    {
      "cell_type": "code",
      "execution_count": null,
      "metadata": {
        "colab": {
          "base_uri": "https://localhost:8080/"
        },
        "id": "3K2r-T5sr_Il",
        "outputId": "142f1346-ec56-4028-d341-4a88b0a52d4a"
      },
      "outputs": [
        {
          "output_type": "stream",
          "name": "stdout",
          "text": [
            "\n",
            " Global HSIC analysis\n",
            "R2-HSIC Indices:  [-0.00191446,0.488258,0.00373393,-0.0026976,0.00192994,0.00509972,2.54998e-05,0.00332427,0.246701,0.00522473,0.00180837]#11\n"
          ]
        }
      ],
      "source": [
        "R2HSICIndices = globHSIC.getR2HSICIndices()\n",
        "print(\"\\n Global HSIC analysis\")\n",
        "print(\"R2-HSIC Indices: \", R2HSICIndices)"
      ]
    },
    {
      "cell_type": "code",
      "execution_count": null,
      "metadata": {
        "colab": {
          "base_uri": "https://localhost:8080/"
        },
        "id": "JqCkxOootrMT",
        "outputId": "5ad824fa-76e1-4ab4-aac6-a5ad3dbba40a"
      },
      "outputs": [
        {
          "output_type": "stream",
          "name": "stdout",
          "text": [
            "p-value (asymptotic):  [0.725491,3.30135e-85,0.0985417,0.861505,0.204482,0.057654,0.408328,0.117385,8.97344e-46,0.0558606,0.213995]#11\n"
          ]
        }
      ],
      "source": [
        "pvas = globHSIC.getPValuesAsymptotic()\n",
        "print(\"p-value (asymptotic): \", pvas)"
      ]
    },
    {
      "cell_type": "code",
      "execution_count": null,
      "metadata": {
        "id": "ejS910e9ttS2",
        "colab": {
          "base_uri": "https://localhost:8080/",
          "height": 599
        },
        "outputId": "b5db2668-af4e-4c9f-bdff-3653ee728ea6"
      },
      "outputs": [
        {
          "output_type": "display_data",
          "data": {
            "text/plain": [
              "<Figure size 432x288 with 1 Axes>"
            ],
            "image/png": "[encoded data removed]"
          },
          "metadata": {
            "needs_background": "light"
          }
        },
        {
          "output_type": "display_data",
          "data": {
            "text/plain": [
              "<Figure size 432x288 with 1 Axes>"
            ],
            "image/png": "[encoded data removed]"
          },
          "metadata": {
            "needs_background": "light"
          }
        }
      ],
      "source": [
        "graph2 = globHSIC.drawPValuesAsymptotic()\n",
        "view2 = otv.View(graph2)\n",
        "\n",
        "graph3 = globHSIC.drawR2HSICIndices()\n",
        "view3 = otv.View(graph3)"
      ]
    },
    {
      "cell_type": "markdown",
      "source": [],
      "metadata": {
        "id": "Hg7zyGb41ef4"
      }
    },
    {
      "cell_type": "markdown",
      "metadata": {
        "id": "qYqHYDsbvLU7"
      },
      "source": [
        "# Zero Thresholding"
      ]
    },
    {
      "cell_type": "code",
      "execution_count": null,
      "metadata": {
        "id": "WKwrDe_B4Ueb"
      },
      "outputs": [],
      "source": [
        "q = f_obj.computeQuantilePerComponent(0.20)"
      ]
    },
    {
      "cell_type": "code",
      "execution_count": null,
      "metadata": {
        "id": "s2OzYs5h4c8j"
      },
      "outputs": [],
      "source": [
        "## Zero-thresholding\n",
        "f_obj_arr = np.array(f_obj)\n",
        "\n",
        "f_obj_tot = np.zeros((len(f_obj_arr),1))\n",
        "for i in range(len(f_obj_tot)):\n",
        "  if f_obj_arr[i]<q:\n",
        "    f_obj_tot[i] = f_obj_arr[i]\n",
        "  else:\n",
        "    f_obj_tot[i] = 0.\n",
        "\n",
        "f_obj_q = ot.Sample(f_obj_tot)\n",
        "### HSIC Zero thresholding with Samples and f_obj_q"
      ]
    },
    {
      "cell_type": "code",
      "execution_count": null,
      "metadata": {
        "id": "dUxTLWaIpZ8t",
        "colab": {
          "base_uri": "https://localhost:8080/"
        },
        "outputId": "fca0f98d-0a28-4067-de45-6290773e3dfe"
      },
      "outputs": [
        {
          "output_type": "stream",
          "name": "stdout",
          "text": [
            "\n",
            " Global HSIC analysis\n",
            "R2-HSIC Indices:  [-0.000147589,0.265614,0.00182815,-0.000943778,0.0144703,-0.0023168,-0.00152633,-0.00231914,0.209786,0.00614947,-0.00130067]#11\n",
            "p-value (asymptotic):  [0.386639,3.92904e-29,0.188787,0.509089,0.00212985,0.842357,0.623604,0.84307,1.10453e-24,0.0413482,0.602561]#11\n"
          ]
        }
      ],
      "source": [
        "covarianceModelCollection = []\n",
        "for i in range(11):\n",
        "    Xi = Samples.getMarginal(i)\n",
        "    inputCovariance = ot.SquaredExponential(1)\n",
        "    inputCovariance.setScale(Xi.computeStandardDeviation())\n",
        "    covarianceModelCollection.append(inputCovariance)\n",
        "\n",
        "outputCovariance = ot.SquaredExponential(1)\n",
        "outputCovariance.setScale(f_obj_q.computeStandardDeviation())\n",
        "covarianceModelCollection.append(outputCovariance)\n",
        "\n",
        "estimatorType = ot.HSICUStat()\n",
        "globHSIC_thresh = ot.HSICEstimatorGlobalSensitivity(covarianceModelCollection, Samples, f_obj_q, estimatorType)\n",
        "\n",
        "R2HSICIndices = globHSIC_thresh.getR2HSICIndices()      #HSIC \"normalisé\"\n",
        "print(\"\\n Global HSIC analysis\")\n",
        "print(\"R2-HSIC Indices: \", R2HSICIndices)\n",
        "\n",
        "pvas = globHSIC_thresh.getPValuesAsymptotic()\n",
        "print(\"p-value (asymptotic): \", pvas)"
      ]
    },
    {
      "cell_type": "code",
      "execution_count": null,
      "metadata": {
        "id": "Je6fZvPI57Go",
        "colab": {
          "base_uri": "https://localhost:8080/",
          "height": 599
        },
        "outputId": "d3793480-9aa7-447f-f5e6-6814e6784720"
      },
      "outputs": [
        {
          "output_type": "display_data",
          "data": {
            "text/plain": [
              "<Figure size 432x288 with 1 Axes>"
            ],
            "image/png": "[encoded data removed]"
          },
          "metadata": {
            "needs_background": "light"
          }
        },
        {
          "output_type": "display_data",
          "data": {
            "text/plain": [
              "<Figure size 432x288 with 1 Axes>"
            ],
            "image/png": "[encoded data removed]"
          },
          "metadata": {
            "needs_background": "light"
          }
        }
      ],
      "source": [
        "graph2 = globHSIC_thresh.drawPValuesAsymptotic()\n",
        "view2 = otv.View(graph2)\n",
        "\n",
        "graph3 = globHSIC_thresh.drawR2HSICIndices()\n",
        "view3 = otv.View(graph3)"
      ]
    },
    {
      "cell_type": "markdown",
      "metadata": {
        "id": "2RucPcVHveF0"
      },
      "source": [
        "##Conditional Thresholding"
      ]
    },
    {
      "cell_type": "code",
      "execution_count": null,
      "metadata": {
        "colab": {
          "base_uri": "https://localhost:8080/"
        },
        "id": "IygKogXZ7B6A",
        "outputId": "c1d93f33-b619-4b4e-d2e6-cf6bfc6bfebc"
      },
      "outputs": [
        {
          "output_type": "stream",
          "name": "stdout",
          "text": [
            "100 100\n"
          ]
        }
      ],
      "source": [
        "f_obj_arr = np.array(f_obj)\n",
        "## Conditional thresholding\n",
        "mask = f_obj_arr<q\n",
        "f_obj_q_arr = f_obj_arr[mask]\n",
        "\n",
        "Samples_arr = np.array(Samples)\n",
        "Samples_q_arr = Samples_arr[mask.squeeze(),:]\n",
        "f_obj_q_cond = ot.Sample(f_obj_q_arr.reshape(-1,1))\n",
        "Samples_cond = ot.Sample(Samples_q_arr)\n",
        "print(f_obj_q_cond.getSize(),Samples_cond.getSize())\n",
        "### HSIC with Conditional thresholding with Samples_q and f_obj_q"
      ]
    },
    {
      "cell_type": "code",
      "execution_count": null,
      "metadata": {
        "colab": {
          "base_uri": "https://localhost:8080/"
        },
        "id": "FXwqZk-U7FII",
        "outputId": "9eede2cf-17e7-4780-be98-0c3d1902550d"
      },
      "outputs": [
        {
          "output_type": "stream",
          "name": "stdout",
          "text": [
            "\n",
            " Global HSIC analysis\n",
            "R2-HSIC Indices:  [-0.0117304,0.141146,0.022267,0.00492296,-0.00763611,0.000818492,0.00286697,-0.00943141,0.296006,0.0138491,-0.00315622]#11\n",
            "p-value (asymptotic):  [0.801322,2.74715e-07,0.0619041,0.286845,0.656925,0.386447,0.332699,0.736662,6.08499e-14,0.136027,0.499392]#11\n"
          ]
        }
      ],
      "source": [
        "covarianceModelCollection = []\n",
        "for i in range(11):\n",
        "    Xi = Samples_cond.getMarginal(i)\n",
        "    inputCovariance = ot.SquaredExponential(1)\n",
        "    inputCovariance.setScale(Xi.computeStandardDeviation())\n",
        "    covarianceModelCollection.append(inputCovariance)\n",
        "\n",
        "outputCovariance = ot.SquaredExponential(1)\n",
        "outputCovariance.setScale(f_obj_q_cond.computeStandardDeviation())\n",
        "covarianceModelCollection.append(outputCovariance)\n",
        "\n",
        "estimatorType = ot.HSICUStat()\n",
        "globHSIC_cond = ot.HSICEstimatorGlobalSensitivity(covarianceModelCollection, Samples_cond, f_obj_q_cond, estimatorType)\n",
        "\n",
        "R2HSICIndices = globHSIC_cond.getR2HSICIndices()      #HSIC \"normalisé\"\n",
        "print(\"\\n Global HSIC analysis\")\n",
        "print(\"R2-HSIC Indices: \", R2HSICIndices)\n",
        "\n",
        "pvas = globHSIC_cond.getPValuesAsymptotic()\n",
        "print(\"p-value (asymptotic): \", pvas)"
      ]
    },
    {
      "cell_type": "code",
      "execution_count": null,
      "metadata": {
        "id": "RjvbZRou7H-J",
        "colab": {
          "base_uri": "https://localhost:8080/",
          "height": 599
        },
        "outputId": "db594088-3bc5-4f47-9867-d110a641e90f"
      },
      "outputs": [
        {
          "output_type": "display_data",
          "data": {
            "text/plain": [
              "<Figure size 432x288 with 1 Axes>"
            ],
            "image/png": "[encoded data removed]"
          },
          "metadata": {
            "needs_background": "light"
          }
        },
        {
          "output_type": "display_data",
          "data": {
            "text/plain": [
              "<Figure size 432x288 with 1 Axes>"
            ],
            "image/png": "[encoded data removed]"
          },
          "metadata": {
            "needs_background": "light"
          }
        }
      ],
      "source": [
        "graph2 = globHSIC_cond.drawPValuesAsymptotic()\n",
        "view2 = otv.View(graph2)\n",
        "\n",
        "graph3 = globHSIC_cond.drawR2HSICIndices()\n",
        "view3 = otv.View(graph3)"
      ]
    },
    {
      "cell_type": "markdown",
      "metadata": {
        "id": "RVwH39L_vYOs"
      },
      "source": [
        "## Indicator Thresholding"
      ]
    },
    {
      "cell_type": "code",
      "execution_count": null,
      "metadata": {
        "id": "MJEil63u6AVS"
      },
      "outputs": [],
      "source": [
        "## Indicator-thresholding\n",
        "f_obj_arr = np.array(f_obj)\n",
        "\n",
        "f_obj_tot = np.zeros((len(f_obj_arr),1))\n",
        "for i in range(len(f_obj_tot)):\n",
        "  if f_obj_arr[i]<q:\n",
        "    f_obj_tot[i] = 1.\n",
        "  else:\n",
        "    f_obj_tot[i] = 0.\n",
        "\n",
        "f_obj_ind = ot.Sample(f_obj_tot)\n",
        "### HSIC Indicator thresholding with Samples and f_obj_q"
      ]
    },
    {
      "cell_type": "code",
      "execution_count": null,
      "metadata": {
        "colab": {
          "base_uri": "https://localhost:8080/"
        },
        "id": "ckcL1G6c6KP9",
        "outputId": "1d75aab6-b529-4991-e3bb-e1d7835cb641"
      },
      "outputs": [
        {
          "output_type": "stream",
          "name": "stdout",
          "text": [
            "\n",
            " Global HSIC analysis\n",
            "R2-HSIC Indices:  [-0.000146123,0.265205,0.00178526,-0.000946586,0.0144958,-0.00230652,-0.00152925,-0.0023142,0.209064,0.00608238,-0.00131203]#11\n",
            "p-value (asymptotic):  [0.385949,4.42221e-29,0.19154,0.509153,0.00213178,0.840612,0.624014,0.842594,1.14907e-24,0.04233,0.604597]#11\n"
          ]
        }
      ],
      "source": [
        "covarianceModelCollection = []\n",
        "for i in range(11):\n",
        "    Xi = Samples.getMarginal(i)\n",
        "    inputCovariance = ot.SquaredExponential(1)\n",
        "    inputCovariance.setScale(Xi.computeStandardDeviation())\n",
        "    covarianceModelCollection.append(inputCovariance)\n",
        "\n",
        "outputCovariance = ot.SquaredExponential(1)\n",
        "outputCovariance.setScale(f_obj_ind.computeStandardDeviation())\n",
        "covarianceModelCollection.append(outputCovariance)\n",
        "\n",
        "estimatorType = ot.HSICUStat()\n",
        "globHSIC_zero = ot.HSICEstimatorGlobalSensitivity(covarianceModelCollection, Samples, f_obj_ind, estimatorType)\n",
        "\n",
        "R2HSICIndices = globHSIC_zero.getR2HSICIndices()      #HSIC \"normalisé\"\n",
        "print(\"\\n Global HSIC analysis\")\n",
        "print(\"R2-HSIC Indices: \", R2HSICIndices)\n",
        "\n",
        "pvas = globHSIC_zero.getPValuesAsymptotic()\n",
        "print(\"p-value (asymptotic): \", pvas)"
      ]
    },
    {
      "cell_type": "code",
      "execution_count": null,
      "metadata": {
        "id": "ieEPEFiq6MMZ",
        "colab": {
          "base_uri": "https://localhost:8080/",
          "height": 599
        },
        "outputId": "5c4c371c-f458-4053-803b-13ae6c34e2ed"
      },
      "outputs": [
        {
          "output_type": "display_data",
          "data": {
            "text/plain": [
              "<Figure size 432x288 with 1 Axes>"
            ],
            "image/png": "[encoded data removed]"
          },
          "metadata": {
            "needs_background": "light"
          }
        },
        {
          "output_type": "display_data",
          "data": {
            "text/plain": [
              "<Figure size 432x288 with 1 Axes>"
            ],
            "image/png": "[encoded data removed]"
          },
          "metadata": {
            "needs_background": "light"
          }
        }
      ],
      "source": [
        "graph2 = globHSIC_zero.drawPValuesAsymptotic()\n",
        "view2 = otv.View(graph2)\n",
        "\n",
        "graph3 = globHSIC_zero.drawR2HSICIndices()\n",
        "view3 = otv.View(graph3)"
      ]
    },
    {
      "cell_type": "markdown",
      "metadata": {
        "id": "NkRSmC_8vmgP"
      },
      "source": [
        "--------------------------------------------------------------------------------"
      ]
    },
    {
      "cell_type": "markdown",
      "metadata": {
        "id": "E5QUaifxvoxR"
      },
      "source": [
        "#Decouplé avec contrainte de couplage entre Y12_in et Y21_out"
      ]
    },
    {
      "cell_type": "markdown",
      "metadata": {
        "id": "vYHUTmvnvvt2"
      },
      "source": [
        "--------------------------------------------------------------------------------"
      ]
    },
    {
      "cell_type": "markdown",
      "source": [
        "On prend plus d'échantillons pour en avoir plus de 500 après tri"
      ],
      "metadata": {
        "id": "JcIqTLDTCuii"
      }
    },
    {
      "cell_type": "code",
      "execution_count": null,
      "metadata": {
        "id": "186Rt4B93f8g"
      },
      "outputs": [],
      "source": [
        "marginals_d = [ot.Uniform(150.0, 200.0),ot.Uniform(220.0,300.0),ot.Uniform(6.0,10.0),ot.Uniform(0.5,5.0),ot.Uniform(16.0,40.0),ot.Uniform(0.5,1.0),ot.Uniform(0.08,0.18),ot.Uniform(2.5,6.0),ot.Uniform(1700.0,2200.0),ot.Uniform(.025,0.08),estimated]\n",
        "distribution = ot.ComposedDistribution(marginals)\n",
        "\n",
        "Samples_d = distribution.getSample(500000) #5000 échantillons de X,dim(X)=11"
      ]
    },
    {
      "cell_type": "code",
      "execution_count": null,
      "metadata": {
        "id": "k6uxXd9tx9gE"
      },
      "outputs": [],
      "source": [
        "def decoupling_y(X):\n",
        "    X1,X2,X3,X4,X5,X6,X7,X8,X9,X10,Y21 = X\n",
        "    Z_1 = [X1,X2,X3,X4,X5,X6,X7,X8,X9,X10]\n",
        "    Z_2 = [X1,X3,X9]\n",
        "    Y12 = coupling_c12([Z_1,Y21])\n",
        "    Y21 = coupling_c21([Z_2,Y12])[0]\n",
        "    f_obj = Objective_Function([Z_1,Y12,Y21])\n",
        "    return [f_obj[0],Y21]\n",
        "\n",
        "decoupling_2=ot.PythonFunction(11,2,decoupling_y)"
      ]
    },
    {
      "cell_type": "code",
      "source": [
        "Samples_cond = []\n",
        "eps = 0.001\n",
        "err = []\n",
        "q = f_obj.computeQuantilePerComponent(0.20)\n",
        "for i in range(len(Samples_d)):\n",
        "  n = decoupling_2(Samples_d[i])\n",
        "  if abs(n[1] - Samples_d[i,-1])<eps:\n",
        "    Samples_cond.append(np.array(Samples_d[i]).tolist())\n",
        "    err.append(n[1] - Samples_d[i,-1])\n",
        "\n",
        "Samples_d= ot.Sample(np.array(Samples_cond))"
      ],
      "metadata": {
        "id": "N_GGEd3zhcBy"
      },
      "execution_count": null,
      "outputs": []
    },
    {
      "cell_type": "code",
      "source": [
        "f_obj_d = []\n",
        "for i in range(len(Samples_d)):\n",
        "  f_obj_d.append(decoupling(Samples_d[i]))\n",
        "\n",
        "f_obj_d = ot.Sample(np.array(f_obj_d).reshape(-1,1))"
      ],
      "metadata": {
        "id": "tcfXo76Ph6FK"
      },
      "execution_count": null,
      "outputs": []
    },
    {
      "cell_type": "markdown",
      "source": [
        "## Zero thresholding"
      ],
      "metadata": {
        "id": "-MirISalYjBO"
      }
    },
    {
      "cell_type": "code",
      "source": [
        "## Zero-thresholding\n",
        "f_obj_arr_d = np.array(f_obj_d)\n",
        "\n",
        "f_obj_tot_thresh = np.zeros((len(f_obj_arr_d),1))\n",
        "for i in range(len(f_obj_tot_thresh)):\n",
        "  if f_obj_arr_d[i]<q:\n",
        "    f_obj_tot_thresh[i] = f_obj_arr_d[i]\n",
        "  else:\n",
        "    f_obj_tot_thresh[i] = 0.\n",
        "\n",
        "f_obj_q = ot.Sample(f_obj_tot_thresh)\n",
        "### HSIC Zero thresholding with Samples and f_obj_q\n",
        "\n",
        "f_obj_d_thresh = ot.Sample(np.array(f_obj_tot_thresh).reshape(-1,1))"
      ],
      "metadata": {
        "id": "iab52agMYfTX"
      },
      "execution_count": null,
      "outputs": []
    },
    {
      "cell_type": "code",
      "source": [
        "covarianceModelCollection = []\n",
        "for i in range(11):\n",
        "    Xi = Samples_d.getMarginal(i)\n",
        "    inputCovariance = ot.SquaredExponential(1)\n",
        "    inputCovariance.setScale(Xi.computeStandardDeviation())\n",
        "    covarianceModelCollection.append(inputCovariance)\n",
        "\n",
        "outputCovariance = ot.SquaredExponential(1)\n",
        "outputCovariance.setScale(f_obj_d_thresh.computeStandardDeviation())\n",
        "covarianceModelCollection.append(outputCovariance)\n",
        "\n",
        "estimatorType = ot.HSICUStat()\n",
        "globHSIC_d_thresh = ot.HSICEstimatorGlobalSensitivity(covarianceModelCollection, Samples_d, f_obj_d_thresh, estimatorType)\n",
        "\n",
        "R2HSICIndices = globHSIC_d_thresh.getR2HSICIndices()      #HSIC \"normalisé\"\n",
        "print(\"\\n Global HSIC analysis\")\n",
        "print(\"R2-HSIC Indices: \", R2HSICIndices)\n",
        "\n",
        "pvas = globHSIC_d_thresh.getPValuesAsymptotic()\n",
        "print(\"p-value (asymptotic): \", pvas)"
      ],
      "metadata": {
        "colab": {
          "base_uri": "https://localhost:8080/"
        },
        "id": "kRfDsqlCZzm1",
        "outputId": "c74f5647-ff8d-48d5-c427-9fd7d2986462"
      },
      "execution_count": null,
      "outputs": [
        {
          "output_type": "stream",
          "name": "stdout",
          "text": [
            "\n",
            " Global HSIC analysis\n",
            "R2-HSIC Indices:  [-0.00121059,0.293002,0.00230921,-0.0013352,0.00162863,-0.00110896,-0.00160983,-0.0016538,0.202876,0.00139924,-0.0014313]#11\n",
            "p-value (asymptotic):  [0.73387,6.91563e-51,0.0995048,0.789812,0.143211,0.686678,0.93461,0.957384,3.98064e-42,0.166611,0.836767]#11\n"
          ]
        }
      ]
    },
    {
      "cell_type": "code",
      "source": [
        "graph2 = globHSIC_d_thresh.drawPValuesAsymptotic()\n",
        "view2 = otv.View(graph2)\n",
        "\n",
        "graph3 = globHSIC_d_thresh.drawR2HSICIndices()\n",
        "view3 = otv.View(graph3)"
      ],
      "metadata": {
        "colab": {
          "base_uri": "https://localhost:8080/",
          "height": 599
        },
        "id": "tWmpxbuUZ6al",
        "outputId": "0b98b901-9834-41bd-c113-005db3a72512"
      },
      "execution_count": null,
      "outputs": [
        {
          "output_type": "display_data",
          "data": {
            "text/plain": [
              "<Figure size 432x288 with 1 Axes>"
            ],
            "image/png": "[encoded data removed]"
          },
          "metadata": {
            "needs_background": "light"
          }
        },
        {
          "output_type": "display_data",
          "data": {
            "text/plain": [
              "<Figure size 432x288 with 1 Axes>"
            ],
            "image/png": "[encoded data removed]"
          },
          "metadata": {
            "needs_background": "light"
          }
        }
      ]
    },
    {
      "cell_type": "markdown",
      "source": [
        "## Conditional thresholding"
      ],
      "metadata": {
        "id": "kpxY22PxYWRb"
      }
    },
    {
      "cell_type": "code",
      "execution_count": null,
      "metadata": {
        "id": "Ng_Z8nbmvuuE",
        "colab": {
          "base_uri": "https://localhost:8080/"
        },
        "outputId": "e386e66f-7760-4750-e80f-91593b9076fa"
      },
      "outputs": [
        {
          "output_type": "stream",
          "name": "stdout",
          "text": [
            "173 173\n"
          ]
        }
      ],
      "source": [
        "f_obj_arr_d = np.array(f_obj_d)\n",
        "## Conditional thresholding\n",
        "mask_d = f_obj_arr_d<q\n",
        "f_obj_q_arr_d = f_obj_arr_d[mask_d]\n",
        "\n",
        "Samples_arr_d = np.array(Samples_d)\n",
        "Samples_q_arr_d = Samples_arr_d[mask_d.squeeze(),:]\n",
        "f_obj_q_cond_d = ot.Sample(f_obj_q_arr_d.reshape(-1,1))\n",
        "Samples_cond_d = ot.Sample(Samples_q_arr_d)\n",
        "print(f_obj_q_cond_d.getSize(),Samples_cond_d.getSize())\n",
        "### HSIC with Conditional thresholding with Samples_q and f_obj_q"
      ]
    },
    {
      "cell_type": "code",
      "execution_count": null,
      "metadata": {
        "colab": {
          "base_uri": "https://localhost:8080/"
        },
        "id": "z5_TBFMI3c6N",
        "outputId": "d4b1539c-4765-4179-8f8e-d2e11a256a8e"
      },
      "outputs": [
        {
          "output_type": "stream",
          "name": "stdout",
          "text": [
            "\n",
            " Global HSIC analysis\n",
            "R2-HSIC Indices:  [0.00198873,0.136665,-0.0045666,0.00488919,-0.00122483,-0.00489206,0.00246601,-0.00885001,0.222807,0.00125766,0.0155653]#11\n",
            "p-value (asymptotic):  [0.3208,2.48308e-10,0.669329,0.218939,0.474302,0.689528,0.302473,0.927184,2.83193e-15,0.350522,0.0480709]#11\n"
          ]
        }
      ],
      "source": [
        "covarianceModelCollection = []\n",
        "for i in range(11):\n",
        "    Xi = Samples_d.getMarginal(i)\n",
        "    inputCovariance = ot.SquaredExponential(1)\n",
        "    inputCovariance.setScale(Xi.computeStandardDeviation())\n",
        "    covarianceModelCollection.append(inputCovariance)\n",
        "\n",
        "outputCovariance = ot.SquaredExponential(1)\n",
        "outputCovariance.setScale(f_obj_q_cond_d.computeStandardDeviation())\n",
        "covarianceModelCollection.append(outputCovariance)\n",
        "\n",
        "estimatorType = ot.HSICUStat()\n",
        "globHSIC_d_cond = ot.HSICEstimatorGlobalSensitivity(covarianceModelCollection, Samples_cond_d, f_obj_q_cond_d, estimatorType)\n",
        "\n",
        "R2HSICIndices = globHSIC_d_cond.getR2HSICIndices()      #HSIC \"normalisé\"\n",
        "print(\"\\n Global HSIC analysis\")\n",
        "print(\"R2-HSIC Indices: \", R2HSICIndices)\n",
        "\n",
        "pvas = globHSIC_d_cond.getPValuesAsymptotic()\n",
        "print(\"p-value (asymptotic): \", pvas)"
      ]
    },
    {
      "cell_type": "code",
      "execution_count": null,
      "metadata": {
        "id": "_4jyfL7D8qtr",
        "colab": {
          "base_uri": "https://localhost:8080/",
          "height": 599
        },
        "outputId": "65958fc3-baf1-4617-f1fd-2543cfa1c949"
      },
      "outputs": [
        {
          "output_type": "display_data",
          "data": {
            "text/plain": [
              "<Figure size 432x288 with 1 Axes>"
            ],
            "image/png": "[encoded data removed]"
          },
          "metadata": {
            "needs_background": "light"
          }
        },
        {
          "output_type": "display_data",
          "data": {
            "text/plain": [
              "<Figure size 432x288 with 1 Axes>"
            ],
            "image/png": "[encoded data removed]"
          },
          "metadata": {
            "needs_background": "light"
          }
        }
      ],
      "source": [
        "graph2 = globHSIC_d_cond.drawPValuesAsymptotic()\n",
        "view2 = otv.View(graph2)\n",
        "\n",
        "graph3 = globHSIC_d_cond.drawR2HSICIndices()\n",
        "view3 = otv.View(graph3)"
      ]
    },
    {
      "cell_type": "markdown",
      "source": [
        "##Indicator thresholding"
      ],
      "metadata": {
        "id": "xtbQqmczbHEC"
      }
    },
    {
      "cell_type": "code",
      "source": [
        "\n",
        "q = f_obj.computeQuantilePerComponent(0.20)\n",
        "f_obj_d_ind =[]\n",
        "for i in range(len(Samples_d)):\n",
        "  n = decoupling_2(Samples_d[i])\n",
        "  if n[0] > q[0]:\n",
        "    f_obj_d_ind.append(1)\n",
        "  else:\n",
        "    f_obj_d_ind.append(0)\n",
        "\n",
        "f_obj_d_ind = ot.Sample(np.array(f_obj_d_ind).reshape(-1,1))"
      ],
      "metadata": {
        "id": "aLbJcRzybJJ8"
      },
      "execution_count": null,
      "outputs": []
    },
    {
      "cell_type": "code",
      "source": [
        "covarianceModelCollection = []\n",
        "for i in range(11):\n",
        "    Xi = Samples_d.getMarginal(i)\n",
        "    inputCovariance = ot.SquaredExponential(1)\n",
        "    inputCovariance.setScale(Xi.computeStandardDeviation())\n",
        "    covarianceModelCollection.append(inputCovariance)\n",
        "\n",
        "outputCovariance = ot.SquaredExponential(1)\n",
        "outputCovariance.setScale(f_obj_d_ind.computeStandardDeviation())\n",
        "covarianceModelCollection.append(outputCovariance)\n",
        "\n",
        "estimatorType = ot.HSICUStat()\n",
        "globHSIC_d_ind = ot.HSICEstimatorGlobalSensitivity(covarianceModelCollection, Samples_d, f_obj_d_ind, estimatorType)\n",
        "\n",
        "R2HSICIndices = globHSIC_d_ind.getR2HSICIndices()      #HSIC \"normalisé\"\n",
        "print(\"\\n Global HSIC analysis\")\n",
        "print(\"R2-HSIC Indices: \", R2HSICIndices)\n",
        "\n",
        "pvas = globHSIC_d_ind.getPValuesAsymptotic()\n",
        "print(\"p-value (asymptotic): \", pvas)"
      ],
      "metadata": {
        "colab": {
          "base_uri": "https://localhost:8080/"
        },
        "id": "90sPpni6bfgY",
        "outputId": "1eeb2014-0187-4e26-c467-368d7de87b07"
      },
      "execution_count": null,
      "outputs": [
        {
          "output_type": "stream",
          "name": "stdout",
          "text": [
            "\n",
            " Global HSIC analysis\n",
            "R2-HSIC Indices:  [-0.00121003,0.292611,0.00230928,-0.0013474,0.00164906,-0.00110976,-0.00160594,-0.0016495,0.202266,0.00140854,-0.00144122]#11\n",
            "p-value (asymptotic):  [0.733827,7.93374e-51,0.0994391,0.796804,0.141345,0.687067,0.934518,0.957346,4.51143e-42,0.165589,0.842592]#11\n"
          ]
        }
      ]
    },
    {
      "cell_type": "code",
      "source": [
        "graph2 = globHSIC_d_ind.drawPValuesAsymptotic()\n",
        "view2 = otv.View(graph2)\n",
        "\n",
        "graph3 = globHSIC_d_ind.drawR2HSICIndices()\n",
        "view3 = otv.View(graph3)"
      ],
      "metadata": {
        "colab": {
          "base_uri": "https://localhost:8080/",
          "height": 599
        },
        "id": "EqlBht5mmW9E",
        "outputId": "3b21cf6d-4c8a-4bc0-80bc-6e2797e6fdd4"
      },
      "execution_count": null,
      "outputs": [
        {
          "output_type": "display_data",
          "data": {
            "text/plain": [
              "<Figure size 432x288 with 1 Axes>"
            ],
            "image/png": "[encoded data removed]"
          },
          "metadata": {
            "needs_background": "light"
          }
        },
        {
          "output_type": "display_data",
          "data": {
            "text/plain": [
              "<Figure size 432x288 with 1 Axes>"
            ],
            "image/png": "[encoded data removed]"
          },
          "metadata": {
            "needs_background": "light"
          }
        }
      ]
    }
  ],
  "metadata": {
    "colab": {
      "collapsed_sections": [
        "WwaY5DuZ2-qv"
      ],
      "provenance": []
    },
    "kernelspec": {
      "display_name": "Python 3",
      "name": "python3"
    },
    "language_info": {
      "name": "python"
    }
  },
  "nbformat": 4,
  "nbformat_minor": 0
}